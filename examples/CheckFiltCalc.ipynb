{
 "cells": [
  {
   "cell_type": "code",
   "execution_count": 1,
   "metadata": {
    "collapsed": false
   },
   "outputs": [],
   "source": [
    "import numpy as np\n",
    "import pandas as pd\n",
    "%matplotlib inline\n",
    "import matplotlib.pyplot as plt\n",
    "import seaborn as sns\n",
    "sns.set_style('whitegrid')"
   ]
  },
  {
   "cell_type": "code",
   "execution_count": 2,
   "metadata": {
    "collapsed": false
   },
   "outputs": [],
   "source": [
    "from lsst.sims.photUtils import Bandpass, BandpassDict"
   ]
  },
  {
   "cell_type": "code",
   "execution_count": 3,
   "metadata": {
    "collapsed": true
   },
   "outputs": [],
   "source": [
    "import lsst.sims.skybrightness as sb\n",
    "from lsst.sims.photUtils import Sed, calcM5, PhotometricParameters"
   ]
  },
  {
   "cell_type": "code",
   "execution_count": 4,
   "metadata": {
    "collapsed": true
   },
   "outputs": [],
   "source": [
    "from lsst.utils import getPackageDir"
   ]
  },
  {
   "cell_type": "code",
   "execution_count": 5,
   "metadata": {
    "collapsed": true
   },
   "outputs": [],
   "source": [
    "import os"
   ]
  },
  {
   "cell_type": "code",
   "execution_count": 6,
   "metadata": {
    "collapsed": true
   },
   "outputs": [],
   "source": [
    "results = os.path.join('/Users/rbiswas/data/LSST/OpSimData/m5calcs/', 'combined_results.hdf')\n",
    "df = pd.read_hdf(results)"
   ]
  },
  {
   "cell_type": "code",
   "execution_count": 7,
   "metadata": {
    "collapsed": false
   },
   "outputs": [
    {
     "data": {
      "text/html": [
       "<div>\n",
       "<table border=\"1\" class=\"dataframe\">\n",
       "  <thead>\n",
       "    <tr style=\"text-align: right;\">\n",
       "      <th></th>\n",
       "      <th>fiveSigmaDepth</th>\n",
       "      <th>fieldm5</th>\n",
       "      <th>skymags</th>\n",
       "      <th>airmass</th>\n",
       "      <th>filter</th>\n",
       "      <th>opsimm5</th>\n",
       "      <th>band</th>\n",
       "      <th>filtSkyBrightness</th>\n",
       "    </tr>\n",
       "    <tr>\n",
       "      <th>obsHistID</th>\n",
       "      <th></th>\n",
       "      <th></th>\n",
       "      <th></th>\n",
       "      <th></th>\n",
       "      <th></th>\n",
       "      <th></th>\n",
       "      <th></th>\n",
       "      <th></th>\n",
       "    </tr>\n",
       "  </thead>\n",
       "  <tbody>\n",
       "    <tr>\n",
       "      <th>1</th>\n",
       "      <td>21.021236</td>\n",
       "      <td>20.941226</td>\n",
       "      <td>16.769984</td>\n",
       "      <td>1.463594</td>\n",
       "      <td>y</td>\n",
       "      <td>20.761463</td>\n",
       "      <td>y</td>\n",
       "      <td>16.503054</td>\n",
       "    </tr>\n",
       "    <tr>\n",
       "      <th>2</th>\n",
       "      <td>21.026646</td>\n",
       "      <td>20.999290</td>\n",
       "      <td>16.879624</td>\n",
       "      <td>1.454958</td>\n",
       "      <td>y</td>\n",
       "      <td>20.813999</td>\n",
       "      <td>y</td>\n",
       "      <td>16.598370</td>\n",
       "    </tr>\n",
       "    <tr>\n",
       "      <th>3</th>\n",
       "      <td>21.030520</td>\n",
       "      <td>21.057899</td>\n",
       "      <td>16.971386</td>\n",
       "      <td>1.448796</td>\n",
       "      <td>y</td>\n",
       "      <td>20.861257</td>\n",
       "      <td>y</td>\n",
       "      <td>16.686202</td>\n",
       "    </tr>\n",
       "    <tr>\n",
       "      <th>4</th>\n",
       "      <td>21.032718</td>\n",
       "      <td>21.100468</td>\n",
       "      <td>17.054457</td>\n",
       "      <td>1.445307</td>\n",
       "      <td>y</td>\n",
       "      <td>20.902624</td>\n",
       "      <td>y</td>\n",
       "      <td>16.765577</td>\n",
       "    </tr>\n",
       "    <tr>\n",
       "      <th>5</th>\n",
       "      <td>21.033233</td>\n",
       "      <td>21.139332</td>\n",
       "      <td>17.132519</td>\n",
       "      <td>1.444491</td>\n",
       "      <td>y</td>\n",
       "      <td>20.939806</td>\n",
       "      <td>y</td>\n",
       "      <td>16.839953</td>\n",
       "    </tr>\n",
       "  </tbody>\n",
       "</table>\n",
       "</div>"
      ],
      "text/plain": [
       "           fiveSigmaDepth    fieldm5    skymags   airmass filter    opsimm5  \\\n",
       "obsHistID                                                                     \n",
       "1               21.021236  20.941226  16.769984  1.463594      y  20.761463   \n",
       "2               21.026646  20.999290  16.879624  1.454958      y  20.813999   \n",
       "3               21.030520  21.057899  16.971386  1.448796      y  20.861257   \n",
       "4               21.032718  21.100468  17.054457  1.445307      y  20.902624   \n",
       "5               21.033233  21.139332  17.132519  1.444491      y  20.939806   \n",
       "\n",
       "          band  filtSkyBrightness  \n",
       "obsHistID                          \n",
       "1            y          16.503054  \n",
       "2            y          16.598370  \n",
       "3            y          16.686202  \n",
       "4            y          16.765577  \n",
       "5            y          16.839953  "
      ]
     },
     "execution_count": 7,
     "metadata": {},
     "output_type": "execute_result"
    }
   ],
   "source": [
    "df.head()"
   ]
  },
  {
   "cell_type": "code",
   "execution_count": 8,
   "metadata": {
    "collapsed": true
   },
   "outputs": [],
   "source": [
    "def get_terms(i, numcols, ax=None):\n",
    "    row = i // numcols\n",
    "    col = i % numcols\n",
    "    if ax is None:\n",
    "        return row, col\n",
    "    else:\n",
    "        return ax[row, col]"
   ]
  },
  {
   "cell_type": "code",
   "execution_count": 9,
   "metadata": {
    "collapsed": false
   },
   "outputs": [
    {
     "ename": "NameError",
     "evalue": "name 'axm5' is not defined",
     "output_type": "error",
     "traceback": [
      "\u001b[0;31m---------------------------------------------------------------------------\u001b[0m",
      "\u001b[0;31mNameError\u001b[0m                                 Traceback (most recent call last)",
      "\u001b[0;32m<ipython-input-9-bf2a0db4f77b>\u001b[0m in \u001b[0;36m<module>\u001b[0;34m()\u001b[0m\n\u001b[0;32m----> 1\u001b[0;31m \u001b[0maxm5\u001b[0m\u001b[0;34m\u001b[0m\u001b[0m\n\u001b[0m",
      "\u001b[0;31mNameError\u001b[0m: name 'axm5' is not defined"
     ]
    }
   ],
   "source": [
    "axm5"
   ]
  },
  {
   "cell_type": "code",
   "execution_count": null,
   "metadata": {
    "collapsed": false
   },
   "outputs": [],
   "source": [
    "get_terms(5, 3, axm5)"
   ]
  },
  {
   "cell_type": "code",
   "execution_count": null,
   "metadata": {
    "collapsed": false
   },
   "outputs": [],
   "source": [
    "mbins = np.arange(-3., 3., 0.1)\n",
    "fig_m5, axm5 = plt.subplots(2, 3, sharex=True, sharey=True)\n",
    "for i, b in enumerate('ugrizy'):\n",
    "    tmp = df.query('band == @b')\n",
    "    _x = get_terms(i, 3, axm5)\n",
    "    _ = _x.hist(tmp.fieldm5 - tmp.opsimm5, bins=mbins, histtype='step', lw=1, alpha=1,\n",
    "                color='k')\n",
    "    _ = _x.hist(tmp.fieldm5 - tmp.fiveSigmaDepth, bins=mbins, histtype='step', lw=0.7, alpha=0.5,\n",
    "                color='r')\n",
    "    "
   ]
  },
  {
   "cell_type": "code",
   "execution_count": null,
   "metadata": {
    "collapsed": false
   },
   "outputs": [],
   "source": [
    "mbins = np.arange(-3., 3., 0.1)\n",
    "fig_m, axm = plt.subplots(2, 3, sharex=True, sharey=True)\n",
    "for i, b in enumerate('ugrizy'):\n",
    "    tmp = df.query('band == @b')\n",
    "    _x = get_terms(i, 3, axm)\n",
    "    _ = _x.hist(tmp.skymags - tmp.filtSkyBrightness, bins=mbins, histtype='step', lw=1, alpha=1,\n",
    "                color='k')\n",
    "axm[1, 0].set_xlabel('msky - OpSimmsky')\n",
    "axm[1, 1].set_xlabel('msky - OpSimmsky')\n",
    "axm[1, 2].set_xlabel('msky - OpSimmsky')\n",
    "axm[0, 0].set_ylabel('PDF')\n",
    "axm[1, 0].set_ylabel('PDF')"
   ]
  },
  {
   "cell_type": "code",
   "execution_count": null,
   "metadata": {
    "collapsed": true
   },
   "outputs": [],
   "source": [
    "fig_m.savefig('msky.pdf')"
   ]
  },
  {
   "cell_type": "markdown",
   "metadata": {
    "collapsed": true
   },
   "source": [
    "def atmTransName(airmass):\n",
    "    \"\"\"\n",
    "    return filename for atmospheric transmission with aerosols for airmass\n",
    "    closest to input\n",
    "        \n",
    "    Parameters\n",
    "    ----------\n",
    "    airmass : airmass\n",
    "    \"\"\"\n",
    "    l = np.arange(1.0, 2.51, 0.1)\n",
    "    idx = np.abs(l - airmass).argmin()\n",
    "    a = np.int(10*l[idx])\n",
    "    baseline = getPackageDir('THROUGHPUTS')\n",
    "    fname = os.path.join(baseline, 'atmos', 'atmos_{}_aerosol.dat'.format(a))\n",
    "    return fname\n",
    "\n",
    "def mCalcs(airmass, bandName, ra, dec, expMJD,  FWHMeff, hwbpdict, photparams=None, sm=None):\n",
    "    \"\"\"\n",
    "    sm : \n",
    "    \"\"\"\n",
    "    if photparams is None:\n",
    "        photparams = PhotometricParameters()\n",
    "    if sm is None:\n",
    "        sm = SkyModel(observatory='LSST', mags=False, preciseAltAz=True)\n",
    "    # Obtain full sky transmission at airmass\n",
    "    # Note that this method is not interpolating but choosing the atmospheric transmission from\n",
    "    # Modtran simulations of the closest airmass in a sequence of np.arange(1., 2.51, 0.1)\n",
    "    fname = atmTransName(airmass)\n",
    "    print(fname)\n",
    "    atmTrans = np.loadtxt(fname)\n",
    "    wave, trans = hwbpdict[bandName].multiplyThroughputs(atmTrans[:, 0], atmTrans[:, 1])\n",
    "    bp = Bandpass(wavelen=wave, sb=trans)\n",
    "    # Set the observing condition\n",
    "    sm.setRaDecMjd(lon=[ra], lat=[dec], filterNames=[bandName],\n",
    "                   mjd=expMJD, degrees=False, azAlt=False)\n",
    "    # Get the sky sed\n",
    "    wave, spec = sm.returnWaveSpec()\n",
    "    sed = Sed(wavelen=wave, flambda=spec[0])\n",
    "    m5 = calcM5(sed, bp, hwbpdict[bandName], photparams, FWHMeff)\n",
    "    # Get the sky magnitude only in the band concerned\n",
    "    m = sm.returnMags(bandpasses=hwbpdict)[bandName][0]\n",
    "    return m5, m\n",
    "    "
   ]
  },
  {
   "cell_type": "code",
   "execution_count": 10,
   "metadata": {
    "collapsed": false
   },
   "outputs": [],
   "source": [
    "from brightness import mCalcs, atmTransName"
   ]
  },
  {
   "cell_type": "code",
   "execution_count": 11,
   "metadata": {
    "collapsed": false
   },
   "outputs": [
    {
     "data": {
      "text/html": [
       "<div>\n",
       "<table border=\"1\" class=\"dataframe\">\n",
       "  <thead>\n",
       "    <tr style=\"text-align: right;\">\n",
       "      <th></th>\n",
       "      <th>fiveSigmaDepth</th>\n",
       "      <th>fieldm5</th>\n",
       "      <th>skymags</th>\n",
       "      <th>airmass</th>\n",
       "      <th>filter</th>\n",
       "      <th>opsimm5</th>\n",
       "      <th>band</th>\n",
       "      <th>filtSkyBrightness</th>\n",
       "    </tr>\n",
       "    <tr>\n",
       "      <th>obsHistID</th>\n",
       "      <th></th>\n",
       "      <th></th>\n",
       "      <th></th>\n",
       "      <th></th>\n",
       "      <th></th>\n",
       "      <th></th>\n",
       "      <th></th>\n",
       "      <th></th>\n",
       "    </tr>\n",
       "  </thead>\n",
       "  <tbody>\n",
       "    <tr>\n",
       "      <th>1</th>\n",
       "      <td>21.021236</td>\n",
       "      <td>20.941226</td>\n",
       "      <td>16.769984</td>\n",
       "      <td>1.463594</td>\n",
       "      <td>y</td>\n",
       "      <td>20.761463</td>\n",
       "      <td>y</td>\n",
       "      <td>16.503054</td>\n",
       "    </tr>\n",
       "    <tr>\n",
       "      <th>2</th>\n",
       "      <td>21.026646</td>\n",
       "      <td>20.999290</td>\n",
       "      <td>16.879624</td>\n",
       "      <td>1.454958</td>\n",
       "      <td>y</td>\n",
       "      <td>20.813999</td>\n",
       "      <td>y</td>\n",
       "      <td>16.598370</td>\n",
       "    </tr>\n",
       "    <tr>\n",
       "      <th>3</th>\n",
       "      <td>21.030520</td>\n",
       "      <td>21.057899</td>\n",
       "      <td>16.971386</td>\n",
       "      <td>1.448796</td>\n",
       "      <td>y</td>\n",
       "      <td>20.861257</td>\n",
       "      <td>y</td>\n",
       "      <td>16.686202</td>\n",
       "    </tr>\n",
       "    <tr>\n",
       "      <th>4</th>\n",
       "      <td>21.032718</td>\n",
       "      <td>21.100468</td>\n",
       "      <td>17.054457</td>\n",
       "      <td>1.445307</td>\n",
       "      <td>y</td>\n",
       "      <td>20.902624</td>\n",
       "      <td>y</td>\n",
       "      <td>16.765577</td>\n",
       "    </tr>\n",
       "    <tr>\n",
       "      <th>5</th>\n",
       "      <td>21.033233</td>\n",
       "      <td>21.139332</td>\n",
       "      <td>17.132519</td>\n",
       "      <td>1.444491</td>\n",
       "      <td>y</td>\n",
       "      <td>20.939806</td>\n",
       "      <td>y</td>\n",
       "      <td>16.839953</td>\n",
       "    </tr>\n",
       "  </tbody>\n",
       "</table>\n",
       "</div>"
      ],
      "text/plain": [
       "           fiveSigmaDepth    fieldm5    skymags   airmass filter    opsimm5  \\\n",
       "obsHistID                                                                     \n",
       "1               21.021236  20.941226  16.769984  1.463594      y  20.761463   \n",
       "2               21.026646  20.999290  16.879624  1.454958      y  20.813999   \n",
       "3               21.030520  21.057899  16.971386  1.448796      y  20.861257   \n",
       "4               21.032718  21.100468  17.054457  1.445307      y  20.902624   \n",
       "5               21.033233  21.139332  17.132519  1.444491      y  20.939806   \n",
       "\n",
       "          band  filtSkyBrightness  \n",
       "obsHistID                          \n",
       "1            y          16.503054  \n",
       "2            y          16.598370  \n",
       "3            y          16.686202  \n",
       "4            y          16.765577  \n",
       "5            y          16.839953  "
      ]
     },
     "execution_count": 11,
     "metadata": {},
     "output_type": "execute_result"
    }
   ],
   "source": [
    "df.head()"
   ]
  },
  {
   "cell_type": "markdown",
   "metadata": {},
   "source": [
    "## Examples"
   ]
  },
  {
   "cell_type": "markdown",
   "metadata": {},
   "source": [
    "I copied the values of expMJD, FWHMeff, fieldRA, fieldDec from a sqlite query by hand (will change in a later iteration). Comparison of m5 and msky values from the dataframe for the first two rows is quite good. "
   ]
  },
  {
   "cell_type": "code",
   "execution_count": 12,
   "metadata": {
    "collapsed": true
   },
   "outputs": [],
   "source": [
    "tot, hwbpdict = BandpassDict.loadBandpassesFromFiles()"
   ]
  },
  {
   "cell_type": "code",
   "execution_count": 13,
   "metadata": {
    "collapsed": false
   },
   "outputs": [],
   "source": [
    "from lsst.sims.skybrightness import SkyModel"
   ]
  },
  {
   "cell_type": "code",
   "execution_count": 14,
   "metadata": {
    "collapsed": false
   },
   "outputs": [
    {
     "name": "stdout",
     "output_type": "stream",
     "text": [
      "/Users/rbiswas/soft/LSST/DarwinX86/throughputs/2016.12.13/atmos/atmos_15_aerosol.dat\n"
     ]
    },
    {
     "name": "stderr",
     "output_type": "stream",
     "text": [
      "WARNING: ErfaWarning: ERFA function \"taiutc\" yielded 1 of \"dubious year (Note 4)\" [astropy._erfa.core]\n",
      "WARNING: ErfaWarning: ERFA function \"utcut1\" yielded 1 of \"dubious year (Note 3)\" [astropy._erfa.core]\n",
      "/Users/rbiswas/soft/LSST/DarwinX86/healpy/1.8.1.lsst2+5/lib/python/healpy-1.8.1-py2.7-macosx-10.6-x86_64.egg/healpy/pixelfunc.py:1045: FutureWarning: comparison to `None` will result in an elementwise object comparison in the future.\n",
      "  if phi == None:\n"
     ]
    },
    {
     "data": {
      "text/plain": [
       "(20.941363038245818, 16.770260090102994)"
      ]
     },
     "execution_count": 14,
     "metadata": {},
     "output_type": "execute_result"
    }
   ],
   "source": [
    "mCalcs(1.464, 'y', 1.676483, -1.082473, 59580.033829, 1.263038, hwbpdict)"
   ]
  },
  {
   "cell_type": "code",
   "execution_count": 15,
   "metadata": {
    "collapsed": false
   },
   "outputs": [
    {
     "name": "stdout",
     "output_type": "stream",
     "text": [
      "/Users/rbiswas/soft/LSST/DarwinX86/throughputs/2016.12.13/atmos/atmos_15_aerosol.dat\n"
     ]
    },
    {
     "data": {
      "text/plain": [
       "(20.999420248946787, 16.879887035946521)"
      ]
     },
     "execution_count": 15,
     "metadata": {},
     "output_type": "execute_result"
    }
   ],
   "source": [
    "mCalcs(1.454958, 'y', 1.69412, -1.033972, 59580.034275, 1.258561, hwbpdict)"
   ]
  },
  {
   "cell_type": "code",
   "execution_count": 16,
   "metadata": {
    "collapsed": true
   },
   "outputs": [],
   "source": [
    "df['diffmsky'] = df['skymags'] - df['filtSkyBrightness']"
   ]
  },
  {
   "cell_type": "code",
   "execution_count": 17,
   "metadata": {
    "collapsed": false
   },
   "outputs": [
    {
     "data": {
      "text/html": [
       "<div>\n",
       "<table border=\"1\" class=\"dataframe\">\n",
       "  <thead>\n",
       "    <tr style=\"text-align: right;\">\n",
       "      <th></th>\n",
       "      <th>fiveSigmaDepth</th>\n",
       "      <th>fieldm5</th>\n",
       "      <th>skymags</th>\n",
       "      <th>airmass</th>\n",
       "      <th>filter</th>\n",
       "      <th>opsimm5</th>\n",
       "      <th>band</th>\n",
       "      <th>filtSkyBrightness</th>\n",
       "      <th>diffmsky</th>\n",
       "    </tr>\n",
       "    <tr>\n",
       "      <th>obsHistID</th>\n",
       "      <th></th>\n",
       "      <th></th>\n",
       "      <th></th>\n",
       "      <th></th>\n",
       "      <th></th>\n",
       "      <th></th>\n",
       "      <th></th>\n",
       "      <th></th>\n",
       "      <th></th>\n",
       "    </tr>\n",
       "  </thead>\n",
       "  <tbody>\n",
       "    <tr>\n",
       "      <th>994149</th>\n",
       "      <td>23.122255</td>\n",
       "      <td>24.599756</td>\n",
       "      <td>22.219119</td>\n",
       "      <td>1.008652</td>\n",
       "      <td>g</td>\n",
       "      <td>23.035296</td>\n",
       "      <td>g</td>\n",
       "      <td>18.910191</td>\n",
       "      <td>3.308928</td>\n",
       "    </tr>\n",
       "    <tr>\n",
       "      <th>1652674</th>\n",
       "      <td>23.772172</td>\n",
       "      <td>25.166984</td>\n",
       "      <td>22.257659</td>\n",
       "      <td>1.004192</td>\n",
       "      <td>g</td>\n",
       "      <td>23.613380</td>\n",
       "      <td>g</td>\n",
       "      <td>18.940178</td>\n",
       "      <td>3.317481</td>\n",
       "    </tr>\n",
       "    <tr>\n",
       "      <th>1652675</th>\n",
       "      <td>23.773800</td>\n",
       "      <td>25.167476</td>\n",
       "      <td>22.257760</td>\n",
       "      <td>1.003477</td>\n",
       "      <td>g</td>\n",
       "      <td>23.613950</td>\n",
       "      <td>g</td>\n",
       "      <td>18.940088</td>\n",
       "      <td>3.317672</td>\n",
       "    </tr>\n",
       "    <tr>\n",
       "      <th>1652676</th>\n",
       "      <td>23.774690</td>\n",
       "      <td>25.167611</td>\n",
       "      <td>22.257858</td>\n",
       "      <td>1.003324</td>\n",
       "      <td>g</td>\n",
       "      <td>23.614575</td>\n",
       "      <td>g</td>\n",
       "      <td>18.941096</td>\n",
       "      <td>3.316762</td>\n",
       "    </tr>\n",
       "    <tr>\n",
       "      <th>1652677</th>\n",
       "      <td>23.775582</td>\n",
       "      <td>25.167743</td>\n",
       "      <td>22.257955</td>\n",
       "      <td>1.003176</td>\n",
       "      <td>g</td>\n",
       "      <td>23.614991</td>\n",
       "      <td>g</td>\n",
       "      <td>18.941683</td>\n",
       "      <td>3.316272</td>\n",
       "    </tr>\n",
       "    <tr>\n",
       "      <th>1652678</th>\n",
       "      <td>23.776471</td>\n",
       "      <td>25.167868</td>\n",
       "      <td>22.258043</td>\n",
       "      <td>1.003034</td>\n",
       "      <td>g</td>\n",
       "      <td>23.615402</td>\n",
       "      <td>g</td>\n",
       "      <td>18.942273</td>\n",
       "      <td>3.315770</td>\n",
       "    </tr>\n",
       "    <tr>\n",
       "      <th>1652679</th>\n",
       "      <td>23.777359</td>\n",
       "      <td>25.167985</td>\n",
       "      <td>22.258122</td>\n",
       "      <td>1.002897</td>\n",
       "      <td>g</td>\n",
       "      <td>23.615811</td>\n",
       "      <td>g</td>\n",
       "      <td>18.942868</td>\n",
       "      <td>3.315254</td>\n",
       "    </tr>\n",
       "    <tr>\n",
       "      <th>1652680</th>\n",
       "      <td>23.778247</td>\n",
       "      <td>25.168098</td>\n",
       "      <td>22.258199</td>\n",
       "      <td>1.002765</td>\n",
       "      <td>g</td>\n",
       "      <td>23.616220</td>\n",
       "      <td>g</td>\n",
       "      <td>18.943470</td>\n",
       "      <td>3.314729</td>\n",
       "    </tr>\n",
       "    <tr>\n",
       "      <th>1652681</th>\n",
       "      <td>23.779131</td>\n",
       "      <td>25.168206</td>\n",
       "      <td>22.258273</td>\n",
       "      <td>1.002639</td>\n",
       "      <td>g</td>\n",
       "      <td>23.616626</td>\n",
       "      <td>g</td>\n",
       "      <td>18.944079</td>\n",
       "      <td>3.314194</td>\n",
       "    </tr>\n",
       "    <tr>\n",
       "      <th>1652682</th>\n",
       "      <td>23.780018</td>\n",
       "      <td>25.168311</td>\n",
       "      <td>22.258344</td>\n",
       "      <td>1.002518</td>\n",
       "      <td>g</td>\n",
       "      <td>23.617033</td>\n",
       "      <td>g</td>\n",
       "      <td>18.944697</td>\n",
       "      <td>3.313647</td>\n",
       "    </tr>\n",
       "    <tr>\n",
       "      <th>1652683</th>\n",
       "      <td>23.780904</td>\n",
       "      <td>25.168411</td>\n",
       "      <td>22.258414</td>\n",
       "      <td>1.002402</td>\n",
       "      <td>g</td>\n",
       "      <td>23.617440</td>\n",
       "      <td>g</td>\n",
       "      <td>18.945324</td>\n",
       "      <td>3.313090</td>\n",
       "    </tr>\n",
       "  </tbody>\n",
       "</table>\n",
       "</div>"
      ],
      "text/plain": [
       "           fiveSigmaDepth    fieldm5    skymags   airmass filter    opsimm5  \\\n",
       "obsHistID                                                                     \n",
       "994149          23.122255  24.599756  22.219119  1.008652      g  23.035296   \n",
       "1652674         23.772172  25.166984  22.257659  1.004192      g  23.613380   \n",
       "1652675         23.773800  25.167476  22.257760  1.003477      g  23.613950   \n",
       "1652676         23.774690  25.167611  22.257858  1.003324      g  23.614575   \n",
       "1652677         23.775582  25.167743  22.257955  1.003176      g  23.614991   \n",
       "1652678         23.776471  25.167868  22.258043  1.003034      g  23.615402   \n",
       "1652679         23.777359  25.167985  22.258122  1.002897      g  23.615811   \n",
       "1652680         23.778247  25.168098  22.258199  1.002765      g  23.616220   \n",
       "1652681         23.779131  25.168206  22.258273  1.002639      g  23.616626   \n",
       "1652682         23.780018  25.168311  22.258344  1.002518      g  23.617033   \n",
       "1652683         23.780904  25.168411  22.258414  1.002402      g  23.617440   \n",
       "\n",
       "          band  filtSkyBrightness  diffmsky  \n",
       "obsHistID                                    \n",
       "994149       g          18.910191  3.308928  \n",
       "1652674      g          18.940178  3.317481  \n",
       "1652675      g          18.940088  3.317672  \n",
       "1652676      g          18.941096  3.316762  \n",
       "1652677      g          18.941683  3.316272  \n",
       "1652678      g          18.942273  3.315770  \n",
       "1652679      g          18.942868  3.315254  \n",
       "1652680      g          18.943470  3.314729  \n",
       "1652681      g          18.944079  3.314194  \n",
       "1652682      g          18.944697  3.313647  \n",
       "1652683      g          18.945324  3.313090  "
      ]
     },
     "execution_count": 17,
     "metadata": {},
     "output_type": "execute_result"
    }
   ],
   "source": [
    "df.query('diffmsky > 3.3')"
   ]
  },
  {
   "cell_type": "code",
   "execution_count": 58,
   "metadata": {
    "collapsed": false
   },
   "outputs": [
    {
     "name": "stdout",
     "output_type": "stream",
     "text": [
      "/Users/rbiswas/soft/LSST/DarwinX86/throughputs/2016.12.13/atmos/atmos_10_aerosol.dat\n"
     ]
    },
    {
     "data": {
      "text/plain": [
       "(23.060145140066918, 18.890032323915136)"
      ]
     },
     "execution_count": 58,
     "metadata": {},
     "output_type": "execute_result"
    }
   ],
   "source": [
    "mCalcs(1.008652, 'g', 0.925184, -0.4789, 61044.077855, 1.086662, hwbpdict=hwbpdict)"
   ]
  },
  {
   "cell_type": "code",
   "execution_count": 18,
   "metadata": {
    "collapsed": true
   },
   "outputs": [],
   "source": [
    "from opsimsummary import OpSimOutput"
   ]
  },
  {
   "cell_type": "code",
   "execution_count": 19,
   "metadata": {
    "collapsed": false
   },
   "outputs": [
    {
     "name": "stdout",
     "output_type": "stream",
     "text": [
      " reading from database sqlite:////Users/rbiswas/data/LSST/OpSimData/minion_1016_sqlite.db\n",
      "SELECT * FROM Summary WHERE PROPID in (56, 54)\n"
     ]
    },
    {
     "name": "stderr",
     "output_type": "stream",
     "text": [
      "/usr/local/miniconda/lib/python2.7/site-packages/pandas/core/indexing.py:476: SettingWithCopyWarning: \n",
      "A value is trying to be set on a copy of a slice from a DataFrame.\n",
      "Try using .loc[row_indexer,col_indexer] = value instead\n",
      "\n",
      "See the caveats in the documentation: http://pandas.pydata.org/pandas-docs/stable/indexing.html#indexing-view-versus-copy\n",
      "  self.obj[item] = s\n"
     ]
    }
   ],
   "source": [
    "opsout = OpSimOutput.fromOpSimDB('/Users/rbiswas/data/LSST/OpSimData/minion_1016_sqlite.db')"
   ]
  },
  {
   "cell_type": "code",
   "execution_count": 20,
   "metadata": {
    "collapsed": true
   },
   "outputs": [],
   "source": [
    "row = opsout.summary.ix[994149]"
   ]
  },
  {
   "cell_type": "code",
   "execution_count": 21,
   "metadata": {
    "collapsed": false
   },
   "outputs": [
    {
     "name": "stdout",
     "output_type": "stream",
     "text": [
      "/Users/rbiswas/soft/LSST/DarwinX86/throughputs/2016.12.13/atmos/atmos_10_aerosol.dat\n"
     ]
    },
    {
     "data": {
      "text/plain": [
       "(23.060145140066918, 18.890032323915136)"
      ]
     },
     "execution_count": 21,
     "metadata": {},
     "output_type": "execute_result"
    }
   ],
   "source": [
    "mCalcs(row.airmass, row['filter'], row.fieldRA, row.fieldDec, row.expMJD, row.FWHMeff, hwbpdict=hwbpdict)"
   ]
  },
  {
   "cell_type": "code",
   "execution_count": null,
   "metadata": {
    "collapsed": true
   },
   "outputs": [],
   "source": []
  },
  {
   "cell_type": "code",
   "execution_count": null,
   "metadata": {
    "collapsed": true
   },
   "outputs": [],
   "source": []
  },
  {
   "cell_type": "code",
   "execution_count": null,
   "metadata": {
    "collapsed": true
   },
   "outputs": [],
   "source": []
  }
 ],
 "metadata": {
  "anaconda-cloud": {},
  "kernelspec": {
   "display_name": "Python [default]",
   "language": "python",
   "name": "python2"
  },
  "language_info": {
   "codemirror_mode": {
    "name": "ipython",
    "version": 2
   },
   "file_extension": ".py",
   "mimetype": "text/x-python",
   "name": "python",
   "nbconvert_exporter": "python",
   "pygments_lexer": "ipython2",
   "version": "2.7.12"
  }
 },
 "nbformat": 4,
 "nbformat_minor": 1
}
