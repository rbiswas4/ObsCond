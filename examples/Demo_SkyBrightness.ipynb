{
 "cells": [
  {
   "cell_type": "code",
   "execution_count": 1,
   "metadata": {
    "collapsed": true
   },
   "outputs": [],
   "source": [
    "import os"
   ]
  },
  {
   "cell_type": "code",
   "execution_count": 2,
   "metadata": {
    "collapsed": true
   },
   "outputs": [],
   "source": [
    "from lsst.sims.photUtils import BandpassDict"
   ]
  },
  {
   "cell_type": "code",
   "execution_count": 3,
   "metadata": {
    "collapsed": false
   },
   "outputs": [],
   "source": [
    "import pandas as pd"
   ]
  },
  {
   "cell_type": "code",
   "execution_count": 4,
   "metadata": {
    "collapsed": true
   },
   "outputs": [],
   "source": [
    "import obscond"
   ]
  },
  {
   "cell_type": "code",
   "execution_count": 5,
   "metadata": {
    "collapsed": true
   },
   "outputs": [],
   "source": [
    "%matplotlib inline\n",
    "import matplotlib.pyplot as plt"
   ]
  },
  {
   "cell_type": "code",
   "execution_count": 6,
   "metadata": {
    "collapsed": false
   },
   "outputs": [],
   "source": [
    "TotbpDict, hwbpDict = BandpassDict.loadBandpassesFromFiles()"
   ]
  },
  {
   "cell_type": "markdown",
   "metadata": {},
   "source": [
    "###  Check with a quick plot that Total and HardWare make sense"
   ]
  },
  {
   "cell_type": "code",
   "execution_count": 7,
   "metadata": {
    "collapsed": false
   },
   "outputs": [
    {
     "data": {
      "text/plain": [
       "[<matplotlib.lines.Line2D at 0x11e731450>]"
      ]
     },
     "execution_count": 7,
     "metadata": {},
     "output_type": "execute_result"
    },
    {
     "data": {
      "image/png": "[encoded data removed]",
      "text/plain": [
       "<matplotlib.figure.Figure at 0x11e5cf2d0>"
      ]
     },
     "metadata": {},
     "output_type": "display_data"
    }
   ],
   "source": [
    "fig, ax = plt.subplots()\n",
    "ax.plot(hwbpDict['g'].wavelen, hwbpDict['g'].sb, 'k')\n",
    "ax.plot(hwbpDict['g'].wavelen, TotbpDict['g'].sb, 'r')"
   ]
  },
  {
   "cell_type": "code",
   "execution_count": 8,
   "metadata": {
    "collapsed": false
   },
   "outputs": [],
   "source": [
    "pointings = pd.read_csv(os.path.join(obscond.example_data_dir, 'example_pointings.csv'), index_col='obsHistID')"
   ]
  },
  {
   "cell_type": "code",
   "execution_count": 9,
   "metadata": {
    "collapsed": false
   },
   "outputs": [],
   "source": [
    "skycalc = obscond.SkyCalculations(photparams=\"LSST\", hwBandpassDict=hwbpDict)"
   ]
  },
  {
   "cell_type": "code",
   "execution_count": 10,
   "metadata": {
    "collapsed": false
   },
   "outputs": [
    {
     "data": {
      "text/html": [
       "<div>\n",
       "<table border=\"1\" class=\"dataframe\">\n",
       "  <thead>\n",
       "    <tr style=\"text-align: right;\">\n",
       "      <th></th>\n",
       "      <th>fieldRA</th>\n",
       "      <th>fieldDec</th>\n",
       "      <th>expMJD</th>\n",
       "      <th>airmass</th>\n",
       "      <th>FWHMeff</th>\n",
       "      <th>filter</th>\n",
       "    </tr>\n",
       "    <tr>\n",
       "      <th>obsHistID</th>\n",
       "      <th></th>\n",
       "      <th></th>\n",
       "      <th></th>\n",
       "      <th></th>\n",
       "      <th></th>\n",
       "      <th></th>\n",
       "    </tr>\n",
       "  </thead>\n",
       "  <tbody>\n",
       "    <tr>\n",
       "      <th>230</th>\n",
       "      <td>0.925184</td>\n",
       "      <td>-0.478900</td>\n",
       "      <td>59580.139555</td>\n",
       "      <td>1.090199</td>\n",
       "      <td>1.121968</td>\n",
       "      <td>r</td>\n",
       "    </tr>\n",
       "    <tr>\n",
       "      <th>1679570</th>\n",
       "      <td>0.000000</td>\n",
       "      <td>-0.794553</td>\n",
       "      <td>62086.152635</td>\n",
       "      <td>1.169360</td>\n",
       "      <td>0.837221</td>\n",
       "      <td>z</td>\n",
       "    </tr>\n",
       "    <tr>\n",
       "      <th>1679569</th>\n",
       "      <td>0.000000</td>\n",
       "      <td>-0.794553</td>\n",
       "      <td>62086.152218</td>\n",
       "      <td>1.168118</td>\n",
       "      <td>0.836687</td>\n",
       "      <td>z</td>\n",
       "    </tr>\n",
       "    <tr>\n",
       "      <th>1679568</th>\n",
       "      <td>0.000000</td>\n",
       "      <td>-0.794553</td>\n",
       "      <td>62086.151802</td>\n",
       "      <td>1.166882</td>\n",
       "      <td>0.836156</td>\n",
       "      <td>z</td>\n",
       "    </tr>\n",
       "    <tr>\n",
       "      <th>1679567</th>\n",
       "      <td>0.000000</td>\n",
       "      <td>-0.794553</td>\n",
       "      <td>62086.151385</td>\n",
       "      <td>1.165654</td>\n",
       "      <td>0.835628</td>\n",
       "      <td>z</td>\n",
       "    </tr>\n",
       "  </tbody>\n",
       "</table>\n",
       "</div>"
      ],
      "text/plain": [
       "            fieldRA  fieldDec        expMJD   airmass   FWHMeff filter\n",
       "obsHistID                                                             \n",
       "230        0.925184 -0.478900  59580.139555  1.090199  1.121968      r\n",
       "1679570    0.000000 -0.794553  62086.152635  1.169360  0.837221      z\n",
       "1679569    0.000000 -0.794553  62086.152218  1.168118  0.836687      z\n",
       "1679568    0.000000 -0.794553  62086.151802  1.166882  0.836156      z\n",
       "1679567    0.000000 -0.794553  62086.151385  1.165654  0.835628      z"
      ]
     },
     "execution_count": 10,
     "metadata": {},
     "output_type": "execute_result"
    }
   ],
   "source": [
    "pointings[['fieldRA', 'fieldDec', 'expMJD', 'airmass', 'FWHMeff', 'filter']].head()"
   ]
  },
  {
   "cell_type": "code",
   "execution_count": 11,
   "metadata": {
    "collapsed": false
   },
   "outputs": [
    {
     "data": {
      "text/plain": [
       "[<matplotlib.lines.Line2D at 0x142191a50>]"
      ]
     },
     "execution_count": 11,
     "metadata": {},
     "output_type": "execute_result"
    },
    {
     "data": {
      "image/png": "[encoded data removed]",
      "text/plain": [
       "<matplotlib.figure.Figure at 0x11d4da890>"
      ]
     },
     "metadata": {},
     "output_type": "display_data"
    }
   ],
   "source": [
    "plt.plot(skycalc.adb.bandpassForAirmass('g', 1.00).sb)"
   ]
  },
  {
   "cell_type": "markdown",
   "metadata": {},
   "source": [
    "## Demos\n",
    "\n",
    "Try out an example where the airmass used for calculating the bandpass is calculated"
   ]
  },
  {
   "cell_type": "code",
   "execution_count": 12,
   "metadata": {
    "collapsed": false
   },
   "outputs": [
    {
     "name": "stderr",
     "output_type": "stream",
     "text": [
      "WARNING: ErfaWarning: ERFA function \"taiutc\" yielded 1 of \"dubious year (Note 4)\" [astropy._erfa.core]\n",
      "WARNING: ErfaWarning: ERFA function \"utcut1\" yielded 1 of \"dubious year (Note 3)\" [astropy._erfa.core]\n",
      "/Users/rbiswas/soft/LSST/DarwinX86/healpy/1.8.1.lsst2+5/lib/python/healpy-1.8.1-py2.7-macosx-10.6-x86_64.egg/healpy/pixelfunc.py:1045: FutureWarning: comparison to `None` will result in an elementwise object comparison in the future.\n",
      "  if phi == None:\n"
     ]
    },
    {
     "data": {
      "text/plain": [
       "23.060143825936187"
      ]
     },
     "execution_count": 12,
     "metadata": {},
     "output_type": "execute_result"
    }
   ],
   "source": [
    "skycalc.fiveSigmaDepth('g', 1.086662, 0.925184, -0.4789, 61044.077855,  use_provided_airmass=False)"
   ]
  },
  {
   "cell_type": "markdown",
   "metadata": {},
   "source": [
    "Try it out when a value has not been provided but `use_provided_airmass` is True"
   ]
  },
  {
   "cell_type": "code",
   "execution_count": 13,
   "metadata": {
    "collapsed": false
   },
   "outputs": [
    {
     "data": {
      "text/plain": [
       "23.060143825936187"
      ]
     },
     "execution_count": 13,
     "metadata": {},
     "output_type": "execute_result"
    }
   ],
   "source": [
    "skycalc.fiveSigmaDepth('g', 1.086662, 0.925184, -0.4789, 61044.077855,  use_provided_airmass=True)"
   ]
  },
  {
   "cell_type": "code",
   "execution_count": 14,
   "metadata": {
    "collapsed": false
   },
   "outputs": [
    {
     "data": {
      "text/plain": [
       "23.060143825936187"
      ]
     },
     "execution_count": 14,
     "metadata": {},
     "output_type": "execute_result"
    }
   ],
   "source": [
    "skycalc.fiveSigmaDepth('g', 1.086662, 0.925184, -0.4789, 61044.077855,  provided_airmass=1.008652, \n",
    "                       use_provided_airmass=True)"
   ]
  },
  {
   "cell_type": "markdown",
   "metadata": {},
   "source": [
    "### Calculating the skymag"
   ]
  },
  {
   "cell_type": "code",
   "execution_count": 15,
   "metadata": {
    "collapsed": false
   },
   "outputs": [
    {
     "data": {
      "text/plain": [
       "21.260523310530708"
      ]
     },
     "execution_count": 15,
     "metadata": {},
     "output_type": "execute_result"
    }
   ],
   "source": [
    "skycalc.skymag('r', 0.925, -0.4789, 59580.14)"
   ]
  },
  {
   "cell_type": "markdown",
   "metadata": {},
   "source": [
    "### Calculating values for an OpSim dataframe"
   ]
  },
  {
   "cell_type": "code",
   "execution_count": 16,
   "metadata": {
    "collapsed": false
   },
   "outputs": [
    {
     "data": {
      "text/html": [
       "<div>\n",
       "<table border=\"1\" class=\"dataframe\">\n",
       "  <thead>\n",
       "    <tr style=\"text-align: right;\">\n",
       "      <th></th>\n",
       "      <th>airmass</th>\n",
       "      <th>altitude</th>\n",
       "      <th>azimuth</th>\n",
       "      <th>filtSkyBrightness</th>\n",
       "      <th>fiveSigmaDepth</th>\n",
       "    </tr>\n",
       "    <tr>\n",
       "      <th>obsHistID</th>\n",
       "      <th></th>\n",
       "      <th></th>\n",
       "      <th></th>\n",
       "      <th></th>\n",
       "      <th></th>\n",
       "    </tr>\n",
       "  </thead>\n",
       "  <tbody>\n",
       "    <tr>\n",
       "      <th>230</th>\n",
       "      <td>1.091707</td>\n",
       "      <td>1.157985</td>\n",
       "      <td>4.717173</td>\n",
       "      <td>21.261397</td>\n",
       "      <td>24.083774</td>\n",
       "    </tr>\n",
       "    <tr>\n",
       "      <th>1679570</th>\n",
       "      <td>1.164445</td>\n",
       "      <td>1.032881</td>\n",
       "      <td>4.030366</td>\n",
       "      <td>19.285337</td>\n",
       "      <td>23.125717</td>\n",
       "    </tr>\n",
       "    <tr>\n",
       "      <th>1679569</th>\n",
       "      <td>1.163225</td>\n",
       "      <td>1.034641</td>\n",
       "      <td>4.029286</td>\n",
       "      <td>19.286363</td>\n",
       "      <td>23.126892</td>\n",
       "    </tr>\n",
       "    <tr>\n",
       "      <th>1679568</th>\n",
       "      <td>1.162015</td>\n",
       "      <td>1.036396</td>\n",
       "      <td>4.028195</td>\n",
       "      <td>19.287382</td>\n",
       "      <td>23.128060</td>\n",
       "    </tr>\n",
       "    <tr>\n",
       "      <th>1679567</th>\n",
       "      <td>1.160809</td>\n",
       "      <td>1.038154</td>\n",
       "      <td>4.027089</td>\n",
       "      <td>19.288396</td>\n",
       "      <td>23.129222</td>\n",
       "    </tr>\n",
       "    <tr>\n",
       "      <th>1679566</th>\n",
       "      <td>1.159611</td>\n",
       "      <td>1.039910</td>\n",
       "      <td>4.025969</td>\n",
       "      <td>19.289404</td>\n",
       "      <td>23.130378</td>\n",
       "    </tr>\n",
       "    <tr>\n",
       "      <th>1679565</th>\n",
       "      <td>1.158422</td>\n",
       "      <td>1.041660</td>\n",
       "      <td>4.024839</td>\n",
       "      <td>19.290404</td>\n",
       "      <td>23.131528</td>\n",
       "    </tr>\n",
       "    <tr>\n",
       "      <th>1679564</th>\n",
       "      <td>1.157238</td>\n",
       "      <td>1.043412</td>\n",
       "      <td>4.023694</td>\n",
       "      <td>19.291401</td>\n",
       "      <td>23.132671</td>\n",
       "    </tr>\n",
       "    <tr>\n",
       "      <th>1679563</th>\n",
       "      <td>1.156061</td>\n",
       "      <td>1.045164</td>\n",
       "      <td>4.022534</td>\n",
       "      <td>19.292391</td>\n",
       "      <td>23.135973</td>\n",
       "    </tr>\n",
       "    <tr>\n",
       "      <th>1679562</th>\n",
       "      <td>1.151109</td>\n",
       "      <td>1.052627</td>\n",
       "      <td>4.017425</td>\n",
       "      <td>20.279593</td>\n",
       "      <td>23.760457</td>\n",
       "    </tr>\n",
       "  </tbody>\n",
       "</table>\n",
       "</div>"
      ],
      "text/plain": [
       "            airmass  altitude   azimuth  filtSkyBrightness  fiveSigmaDepth\n",
       "obsHistID                                                                 \n",
       "230        1.091707  1.157985  4.717173          21.261397       24.083774\n",
       "1679570    1.164445  1.032881  4.030366          19.285337       23.125717\n",
       "1679569    1.163225  1.034641  4.029286          19.286363       23.126892\n",
       "1679568    1.162015  1.036396  4.028195          19.287382       23.128060\n",
       "1679567    1.160809  1.038154  4.027089          19.288396       23.129222\n",
       "1679566    1.159611  1.039910  4.025969          19.289404       23.130378\n",
       "1679565    1.158422  1.041660  4.024839          19.290404       23.131528\n",
       "1679564    1.157238  1.043412  4.023694          19.291401       23.132671\n",
       "1679563    1.156061  1.045164  4.022534          19.292391       23.135973\n",
       "1679562    1.151109  1.052627  4.017425          20.279593       23.760457"
      ]
     },
     "execution_count": 16,
     "metadata": {},
     "output_type": "execute_result"
    }
   ],
   "source": [
    "skycalc.calculatePointings(pointings)"
   ]
  },
  {
   "cell_type": "code",
   "execution_count": 17,
   "metadata": {
    "collapsed": false
   },
   "outputs": [],
   "source": [
    "x = skycalc.calculatePointings(pointings).join(pointings, rsuffix='opsim')"
   ]
  },
  {
   "cell_type": "code",
   "execution_count": 19,
   "metadata": {
    "collapsed": false
   },
   "outputs": [],
   "source": [
    "x['airmass_diff'] = x.airmass - x.airmassopsim"
   ]
  },
  {
   "cell_type": "code",
   "execution_count": 20,
   "metadata": {
    "collapsed": false
   },
   "outputs": [
    {
     "data": {
      "text/plain": [
       "<matplotlib.axes._subplots.AxesSubplot at 0x149e49ad0>"
      ]
     },
     "execution_count": 20,
     "metadata": {},
     "output_type": "execute_result"
    },
    {
     "data": {
      "image/png": "[encoded data removed]",
      "text/plain": [
       "<matplotlib.figure.Figure at 0x1234ed690>"
      ]
     },
     "metadata": {},
     "output_type": "display_data"
    }
   ],
   "source": [
    "x.airmass_diff.hist()"
   ]
  }
 ],
 "metadata": {
  "anaconda-cloud": {},
  "kernelspec": {
   "display_name": "Python [default]",
   "language": "python",
   "name": "python2"
  },
  "language_info": {
   "codemirror_mode": {
    "name": "ipython",
    "version": 2
   },
   "file_extension": ".py",
   "mimetype": "text/x-python",
   "name": "python",
   "nbconvert_exporter": "python",
   "pygments_lexer": "ipython2",
   "version": "2.7.12"
  }
 },
 "nbformat": 4,
 "nbformat_minor": 1
}
