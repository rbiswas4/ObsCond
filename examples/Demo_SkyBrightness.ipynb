{
 "cells": [
  {
   "cell_type": "code",
   "execution_count": 1,
   "metadata": {
    "collapsed": true
   },
   "outputs": [],
   "source": [
    "import os"
   ]
  },
  {
   "cell_type": "code",
   "execution_count": 2,
   "metadata": {
    "collapsed": true
   },
   "outputs": [],
   "source": [
    "from lsst.sims.photUtils import BandpassDict"
   ]
  },
  {
   "cell_type": "code",
   "execution_count": 3,
   "metadata": {
    "collapsed": true
   },
   "outputs": [],
   "source": [
    "import pandas as pd"
   ]
  },
  {
   "cell_type": "code",
   "execution_count": 4,
   "metadata": {
    "collapsed": true
   },
   "outputs": [],
   "source": [
    "import obscond"
   ]
  },
  {
   "cell_type": "code",
   "execution_count": 5,
   "metadata": {
    "collapsed": true
   },
   "outputs": [],
   "source": [
    "%matplotlib inline\n",
    "import matplotlib.pyplot as plt"
   ]
  },
  {
   "cell_type": "code",
   "execution_count": 12,
   "metadata": {
    "collapsed": true
   },
   "outputs": [],
   "source": [
    "import seaborn as sns\n",
    "sns.set_style('whitegrid')\n",
    "sns.set_context('talk')"
   ]
  },
  {
   "cell_type": "code",
   "execution_count": 13,
   "metadata": {
    "collapsed": true
   },
   "outputs": [],
   "source": [
    "TotbpDict, hwbpDict = BandpassDict.loadBandpassesFromFiles()"
   ]
  },
  {
   "cell_type": "markdown",
   "metadata": {},
   "source": [
    "###  Check with a quick plot that Total and HardWare make sense"
   ]
  },
  {
   "cell_type": "code",
   "execution_count": 14,
   "metadata": {
    "collapsed": false
   },
   "outputs": [
    {
     "data": {
      "text/plain": [
       "[<matplotlib.lines.Line2D at 0x16a2a72e8>]"
      ]
     },
     "execution_count": 14,
     "metadata": {},
     "output_type": "execute_result"
    },
    {
     "data": {
      "image/png": "[encoded data removed]",
      "text/plain": [
       "<matplotlib.figure.Figure at 0x16a29e6a0>"
      ]
     },
     "metadata": {},
     "output_type": "display_data"
    }
   ],
   "source": [
    "fig, ax = plt.subplots()\n",
    "ax.plot(hwbpDict['g'].wavelen, hwbpDict['g'].sb, 'k')\n",
    "ax.plot(hwbpDict['g'].wavelen, TotbpDict['g'].sb, 'r')"
   ]
  },
  {
   "cell_type": "code",
   "execution_count": 15,
   "metadata": {
    "collapsed": true
   },
   "outputs": [],
   "source": [
    "pointings = pd.read_csv(os.path.join(obscond.example_data_dir, 'example_pointings.csv'), index_col='obsHistID')"
   ]
  },
  {
   "cell_type": "code",
   "execution_count": 16,
   "metadata": {
    "collapsed": true
   },
   "outputs": [],
   "source": [
    "skycalc = obscond.SkyCalculations(photparams=\"LSST\", hwBandpassDict=hwbpDict)"
   ]
  },
  {
   "cell_type": "code",
   "execution_count": 17,
   "metadata": {
    "collapsed": false
   },
   "outputs": [
    {
     "data": {
      "text/html": [
       "<div>\n",
       "<style scoped>\n",
       "    .dataframe tbody tr th:only-of-type {\n",
       "        vertical-align: middle;\n",
       "    }\n",
       "\n",
       "    .dataframe tbody tr th {\n",
       "        vertical-align: top;\n",
       "    }\n",
       "\n",
       "    .dataframe thead th {\n",
       "        text-align: right;\n",
       "    }\n",
       "</style>\n",
       "<table border=\"1\" class=\"dataframe\">\n",
       "  <thead>\n",
       "    <tr style=\"text-align: right;\">\n",
       "      <th></th>\n",
       "      <th>fieldRA</th>\n",
       "      <th>fieldDec</th>\n",
       "      <th>expMJD</th>\n",
       "      <th>airmass</th>\n",
       "      <th>FWHMeff</th>\n",
       "      <th>filter</th>\n",
       "    </tr>\n",
       "    <tr>\n",
       "      <th>obsHistID</th>\n",
       "      <th></th>\n",
       "      <th></th>\n",
       "      <th></th>\n",
       "      <th></th>\n",
       "      <th></th>\n",
       "      <th></th>\n",
       "    </tr>\n",
       "  </thead>\n",
       "  <tbody>\n",
       "    <tr>\n",
       "      <th>230</th>\n",
       "      <td>0.925184</td>\n",
       "      <td>-0.478900</td>\n",
       "      <td>59580.139555</td>\n",
       "      <td>1.090199</td>\n",
       "      <td>1.121968</td>\n",
       "      <td>r</td>\n",
       "    </tr>\n",
       "    <tr>\n",
       "      <th>1679570</th>\n",
       "      <td>0.000000</td>\n",
       "      <td>-0.794553</td>\n",
       "      <td>62086.152635</td>\n",
       "      <td>1.169360</td>\n",
       "      <td>0.837221</td>\n",
       "      <td>z</td>\n",
       "    </tr>\n",
       "    <tr>\n",
       "      <th>1679569</th>\n",
       "      <td>0.000000</td>\n",
       "      <td>-0.794553</td>\n",
       "      <td>62086.152218</td>\n",
       "      <td>1.168118</td>\n",
       "      <td>0.836687</td>\n",
       "      <td>z</td>\n",
       "    </tr>\n",
       "    <tr>\n",
       "      <th>1679568</th>\n",
       "      <td>0.000000</td>\n",
       "      <td>-0.794553</td>\n",
       "      <td>62086.151802</td>\n",
       "      <td>1.166882</td>\n",
       "      <td>0.836156</td>\n",
       "      <td>z</td>\n",
       "    </tr>\n",
       "    <tr>\n",
       "      <th>1679567</th>\n",
       "      <td>0.000000</td>\n",
       "      <td>-0.794553</td>\n",
       "      <td>62086.151385</td>\n",
       "      <td>1.165654</td>\n",
       "      <td>0.835628</td>\n",
       "      <td>z</td>\n",
       "    </tr>\n",
       "  </tbody>\n",
       "</table>\n",
       "</div>"
      ],
      "text/plain": [
       "            fieldRA  fieldDec        expMJD   airmass   FWHMeff filter\n",
       "obsHistID                                                             \n",
       "230        0.925184 -0.478900  59580.139555  1.090199  1.121968      r\n",
       "1679570    0.000000 -0.794553  62086.152635  1.169360  0.837221      z\n",
       "1679569    0.000000 -0.794553  62086.152218  1.168118  0.836687      z\n",
       "1679568    0.000000 -0.794553  62086.151802  1.166882  0.836156      z\n",
       "1679567    0.000000 -0.794553  62086.151385  1.165654  0.835628      z"
      ]
     },
     "execution_count": 17,
     "metadata": {},
     "output_type": "execute_result"
    }
   ],
   "source": [
    "pointings[['fieldRA', 'fieldDec', 'expMJD', 'airmass', 'FWHMeff', 'filter']].head()"
   ]
  },
  {
   "cell_type": "code",
   "execution_count": 18,
   "metadata": {
    "collapsed": false
   },
   "outputs": [
    {
     "data": {
      "text/plain": [
       "[<matplotlib.lines.Line2D at 0x117c73dd8>]"
      ]
     },
     "execution_count": 18,
     "metadata": {},
     "output_type": "execute_result"
    },
    {
     "data": {
      "image/png": "[encoded data removed]",
      "text/plain": [
       "<matplotlib.figure.Figure at 0x11b356198>"
      ]
     },
     "metadata": {},
     "output_type": "display_data"
    }
   ],
   "source": [
    "plt.plot(skycalc.adb.bandpassForAirmass('g', 1.00).sb)"
   ]
  },
  {
   "cell_type": "markdown",
   "metadata": {},
   "source": [
    "## Demos\n",
    "\n",
    "Try out an example where the airmass used for calculating the bandpass is calculated"
   ]
  },
  {
   "cell_type": "code",
   "execution_count": 19,
   "metadata": {
    "collapsed": false
   },
   "outputs": [
    {
     "name": "stderr",
     "output_type": "stream",
     "text": [
      "WARNING: ErfaWarning: ERFA function \"taiutc\" yielded 1 of \"dubious year (Note 4)\" [astropy._erfa.core]\n",
      "WARNING: ErfaWarning: ERFA function \"taiutc\" yielded 1 of \"dubious year (Note 4)\" [astropy._erfa.core]\n",
      "WARNING: ErfaWarning: ERFA function \"utcut1\" yielded 1 of \"dubious year (Note 3)\" [astropy._erfa.core]\n"
     ]
    },
    {
     "data": {
      "text/plain": [
       "23.04318036522919"
      ]
     },
     "execution_count": 19,
     "metadata": {},
     "output_type": "execute_result"
    }
   ],
   "source": [
    "skycalc.fiveSigmaDepth('g', 1.086662, 0.925184, -0.4789, 61044.077855,  use_provided_airmass=False)"
   ]
  },
  {
   "cell_type": "markdown",
   "metadata": {},
   "source": [
    "Try it out when a value has not been provided but `use_provided_airmass` is True"
   ]
  },
  {
   "cell_type": "code",
   "execution_count": 20,
   "metadata": {
    "collapsed": false
   },
   "outputs": [
    {
     "name": "stderr",
     "output_type": "stream",
     "text": [
      "WARNING: ErfaWarning: ERFA function \"taiutc\" yielded 1 of \"dubious year (Note 4)\" [astropy._erfa.core]\n",
      "WARNING: ErfaWarning: ERFA function \"utcut1\" yielded 1 of \"dubious year (Note 3)\" [astropy._erfa.core]\n"
     ]
    },
    {
     "data": {
      "text/plain": [
       "23.04318036522919"
      ]
     },
     "execution_count": 20,
     "metadata": {},
     "output_type": "execute_result"
    }
   ],
   "source": [
    "skycalc.fiveSigmaDepth('g', 1.086662, 0.925184, -0.4789, 61044.077855,  use_provided_airmass=True)"
   ]
  },
  {
   "cell_type": "code",
   "execution_count": 21,
   "metadata": {
    "collapsed": false
   },
   "outputs": [
    {
     "name": "stderr",
     "output_type": "stream",
     "text": [
      "WARNING: ErfaWarning: ERFA function \"taiutc\" yielded 1 of \"dubious year (Note 4)\" [astropy._erfa.core]\n",
      "WARNING: ErfaWarning: ERFA function \"utcut1\" yielded 1 of \"dubious year (Note 3)\" [astropy._erfa.core]\n"
     ]
    },
    {
     "data": {
      "text/plain": [
       "23.04318036522919"
      ]
     },
     "execution_count": 21,
     "metadata": {},
     "output_type": "execute_result"
    }
   ],
   "source": [
    "skycalc.fiveSigmaDepth('g', 1.086662, 0.925184, -0.4789, 61044.077855,  provided_airmass=1.008652, \n",
    "                       use_provided_airmass=True)"
   ]
  },
  {
   "cell_type": "markdown",
   "metadata": {},
   "source": [
    "### Calculating the skymag"
   ]
  },
  {
   "cell_type": "code",
   "execution_count": 22,
   "metadata": {
    "collapsed": false
   },
   "outputs": [
    {
     "name": "stderr",
     "output_type": "stream",
     "text": [
      "WARNING: ErfaWarning: ERFA function \"taiutc\" yielded 1 of \"dubious year (Note 4)\" [astropy._erfa.core]\n",
      "WARNING: ErfaWarning: ERFA function \"utcut1\" yielded 1 of \"dubious year (Note 3)\" [astropy._erfa.core]\n"
     ]
    },
    {
     "data": {
      "text/plain": [
       "21.260547308777653"
      ]
     },
     "execution_count": 22,
     "metadata": {},
     "output_type": "execute_result"
    }
   ],
   "source": [
    "skycalc.skymag('r', 0.925, -0.4789, 59580.14)"
   ]
  },
  {
   "cell_type": "markdown",
   "metadata": {},
   "source": [
    "### Calculating values for an OpSim dataframe"
   ]
  },
  {
   "cell_type": "code",
   "execution_count": 23,
   "metadata": {
    "collapsed": false
   },
   "outputs": [
    {
     "name": "stderr",
     "output_type": "stream",
     "text": [
      "WARNING: ErfaWarning: ERFA function \"taiutc\" yielded 1 of \"dubious year (Note 4)\" [astropy._erfa.core]\n",
      "WARNING: ErfaWarning: ERFA function \"utcut1\" yielded 1 of \"dubious year (Note 3)\" [astropy._erfa.core]\n"
     ]
    },
    {
     "data": {
      "text/html": [
       "<div>\n",
       "<style scoped>\n",
       "    .dataframe tbody tr th:only-of-type {\n",
       "        vertical-align: middle;\n",
       "    }\n",
       "\n",
       "    .dataframe tbody tr th {\n",
       "        vertical-align: top;\n",
       "    }\n",
       "\n",
       "    .dataframe thead th {\n",
       "        text-align: right;\n",
       "    }\n",
       "</style>\n",
       "<table border=\"1\" class=\"dataframe\">\n",
       "  <thead>\n",
       "    <tr style=\"text-align: right;\">\n",
       "      <th></th>\n",
       "      <th>airmass</th>\n",
       "      <th>altitude</th>\n",
       "      <th>azimuth</th>\n",
       "      <th>moonRA</th>\n",
       "      <th>moonDec</th>\n",
       "      <th>moonAlt</th>\n",
       "      <th>moonAZ</th>\n",
       "      <th>moonPhase</th>\n",
       "      <th>sunAlt</th>\n",
       "      <th>sunAz</th>\n",
       "      <th>fiveSigmaDepth</th>\n",
       "      <th>filtSkyBrightness</th>\n",
       "    </tr>\n",
       "    <tr>\n",
       "      <th>obsHistID</th>\n",
       "      <th></th>\n",
       "      <th></th>\n",
       "      <th></th>\n",
       "      <th></th>\n",
       "      <th></th>\n",
       "      <th></th>\n",
       "      <th></th>\n",
       "      <th></th>\n",
       "      <th></th>\n",
       "      <th></th>\n",
       "      <th></th>\n",
       "      <th></th>\n",
       "    </tr>\n",
       "  </thead>\n",
       "  <tbody>\n",
       "    <tr>\n",
       "      <th>230</th>\n",
       "      <td>1.091673</td>\n",
       "      <td>1.158057</td>\n",
       "      <td>4.717216</td>\n",
       "      <td>4.475412</td>\n",
       "      <td>-0.410110</td>\n",
       "      <td>-0.630627</td>\n",
       "      <td>3.065632</td>\n",
       "      <td>4.041352</td>\n",
       "      <td>-0.574879</td>\n",
       "      <td>3.552349</td>\n",
       "      <td>24.032083</td>\n",
       "      <td>21.261421</td>\n",
       "    </tr>\n",
       "    <tr>\n",
       "      <th>1679570</th>\n",
       "      <td>1.164406</td>\n",
       "      <td>1.032937</td>\n",
       "      <td>4.030332</td>\n",
       "      <td>2.736664</td>\n",
       "      <td>0.108490</td>\n",
       "      <td>-0.531562</td>\n",
       "      <td>1.769546</td>\n",
       "      <td>36.007107</td>\n",
       "      <td>-0.713472</td>\n",
       "      <td>3.402641</td>\n",
       "      <td>23.098397</td>\n",
       "      <td>19.285369</td>\n",
       "    </tr>\n",
       "    <tr>\n",
       "      <th>1679569</th>\n",
       "      <td>1.163186</td>\n",
       "      <td>1.034697</td>\n",
       "      <td>4.029251</td>\n",
       "      <td>2.736550</td>\n",
       "      <td>0.108529</td>\n",
       "      <td>-0.533710</td>\n",
       "      <td>1.771027</td>\n",
       "      <td>36.011715</td>\n",
       "      <td>-0.712886</td>\n",
       "      <td>3.405852</td>\n",
       "      <td>23.099559</td>\n",
       "      <td>19.286396</td>\n",
       "    </tr>\n",
       "    <tr>\n",
       "      <th>1679568</th>\n",
       "      <td>1.161976</td>\n",
       "      <td>1.036452</td>\n",
       "      <td>4.028160</td>\n",
       "      <td>2.736436</td>\n",
       "      <td>0.108568</td>\n",
       "      <td>-0.535852</td>\n",
       "      <td>1.772506</td>\n",
       "      <td>36.016312</td>\n",
       "      <td>-0.712295</td>\n",
       "      <td>3.409051</td>\n",
       "      <td>23.100714</td>\n",
       "      <td>19.287414</td>\n",
       "    </tr>\n",
       "    <tr>\n",
       "      <th>1679567</th>\n",
       "      <td>1.160771</td>\n",
       "      <td>1.038209</td>\n",
       "      <td>4.027054</td>\n",
       "      <td>2.736321</td>\n",
       "      <td>0.108608</td>\n",
       "      <td>-0.537999</td>\n",
       "      <td>1.773993</td>\n",
       "      <td>36.020920</td>\n",
       "      <td>-0.711695</td>\n",
       "      <td>3.412254</td>\n",
       "      <td>23.101863</td>\n",
       "      <td>19.288428</td>\n",
       "    </tr>\n",
       "    <tr>\n",
       "      <th>1679566</th>\n",
       "      <td>1.159573</td>\n",
       "      <td>1.039965</td>\n",
       "      <td>4.025934</td>\n",
       "      <td>2.736206</td>\n",
       "      <td>0.108647</td>\n",
       "      <td>-0.540145</td>\n",
       "      <td>1.775482</td>\n",
       "      <td>36.025532</td>\n",
       "      <td>-0.711088</td>\n",
       "      <td>3.415453</td>\n",
       "      <td>23.103007</td>\n",
       "      <td>19.289436</td>\n",
       "    </tr>\n",
       "    <tr>\n",
       "      <th>1679565</th>\n",
       "      <td>1.158384</td>\n",
       "      <td>1.041715</td>\n",
       "      <td>4.024803</td>\n",
       "      <td>2.736092</td>\n",
       "      <td>0.108686</td>\n",
       "      <td>-0.542286</td>\n",
       "      <td>1.776971</td>\n",
       "      <td>36.030128</td>\n",
       "      <td>-0.710476</td>\n",
       "      <td>3.418640</td>\n",
       "      <td>23.104144</td>\n",
       "      <td>19.290436</td>\n",
       "    </tr>\n",
       "    <tr>\n",
       "      <th>1679564</th>\n",
       "      <td>1.157200</td>\n",
       "      <td>1.043468</td>\n",
       "      <td>4.023657</td>\n",
       "      <td>2.735977</td>\n",
       "      <td>0.108725</td>\n",
       "      <td>-0.544431</td>\n",
       "      <td>1.778467</td>\n",
       "      <td>36.034737</td>\n",
       "      <td>-0.709855</td>\n",
       "      <td>3.421832</td>\n",
       "      <td>23.105275</td>\n",
       "      <td>19.291432</td>\n",
       "    </tr>\n",
       "    <tr>\n",
       "      <th>1679563</th>\n",
       "      <td>1.156023</td>\n",
       "      <td>1.045219</td>\n",
       "      <td>4.022497</td>\n",
       "      <td>2.735862</td>\n",
       "      <td>0.108765</td>\n",
       "      <td>-0.546575</td>\n",
       "      <td>1.779966</td>\n",
       "      <td>36.039345</td>\n",
       "      <td>-0.709228</td>\n",
       "      <td>3.425019</td>\n",
       "      <td>23.108564</td>\n",
       "      <td>19.292422</td>\n",
       "    </tr>\n",
       "    <tr>\n",
       "      <th>1679562</th>\n",
       "      <td>1.151073</td>\n",
       "      <td>1.052682</td>\n",
       "      <td>4.017387</td>\n",
       "      <td>2.735369</td>\n",
       "      <td>0.108933</td>\n",
       "      <td>-0.555729</td>\n",
       "      <td>1.786407</td>\n",
       "      <td>36.059044</td>\n",
       "      <td>-0.706469</td>\n",
       "      <td>3.438591</td>\n",
       "      <td>23.724024</td>\n",
       "      <td>20.279621</td>\n",
       "    </tr>\n",
       "  </tbody>\n",
       "</table>\n",
       "</div>"
      ],
      "text/plain": [
       "            airmass  altitude   azimuth    moonRA   moonDec   moonAlt  \\\n",
       "obsHistID                                                               \n",
       "230        1.091673  1.158057  4.717216  4.475412 -0.410110 -0.630627   \n",
       "1679570    1.164406  1.032937  4.030332  2.736664  0.108490 -0.531562   \n",
       "1679569    1.163186  1.034697  4.029251  2.736550  0.108529 -0.533710   \n",
       "1679568    1.161976  1.036452  4.028160  2.736436  0.108568 -0.535852   \n",
       "1679567    1.160771  1.038209  4.027054  2.736321  0.108608 -0.537999   \n",
       "1679566    1.159573  1.039965  4.025934  2.736206  0.108647 -0.540145   \n",
       "1679565    1.158384  1.041715  4.024803  2.736092  0.108686 -0.542286   \n",
       "1679564    1.157200  1.043468  4.023657  2.735977  0.108725 -0.544431   \n",
       "1679563    1.156023  1.045219  4.022497  2.735862  0.108765 -0.546575   \n",
       "1679562    1.151073  1.052682  4.017387  2.735369  0.108933 -0.555729   \n",
       "\n",
       "             moonAZ  moonPhase    sunAlt     sunAz  fiveSigmaDepth  \\\n",
       "obsHistID                                                            \n",
       "230        3.065632   4.041352 -0.574879  3.552349       24.032083   \n",
       "1679570    1.769546  36.007107 -0.713472  3.402641       23.098397   \n",
       "1679569    1.771027  36.011715 -0.712886  3.405852       23.099559   \n",
       "1679568    1.772506  36.016312 -0.712295  3.409051       23.100714   \n",
       "1679567    1.773993  36.020920 -0.711695  3.412254       23.101863   \n",
       "1679566    1.775482  36.025532 -0.711088  3.415453       23.103007   \n",
       "1679565    1.776971  36.030128 -0.710476  3.418640       23.104144   \n",
       "1679564    1.778467  36.034737 -0.709855  3.421832       23.105275   \n",
       "1679563    1.779966  36.039345 -0.709228  3.425019       23.108564   \n",
       "1679562    1.786407  36.059044 -0.706469  3.438591       23.724024   \n",
       "\n",
       "           filtSkyBrightness  \n",
       "obsHistID                     \n",
       "230                21.261421  \n",
       "1679570            19.285369  \n",
       "1679569            19.286396  \n",
       "1679568            19.287414  \n",
       "1679567            19.288428  \n",
       "1679566            19.289436  \n",
       "1679565            19.290436  \n",
       "1679564            19.291432  \n",
       "1679563            19.292422  \n",
       "1679562            20.279621  "
      ]
     },
     "execution_count": 23,
     "metadata": {},
     "output_type": "execute_result"
    }
   ],
   "source": [
    "skycalc.calculatePointings(pointings)"
   ]
  },
  {
   "cell_type": "code",
   "execution_count": 18,
   "metadata": {
    "collapsed": true
   },
   "outputs": [],
   "source": [
    "x = skycalc.calculatePointings(pointings).join(pointings, rsuffix='opsim')"
   ]
  },
  {
   "cell_type": "code",
   "execution_count": 19,
   "metadata": {
    "collapsed": true
   },
   "outputs": [],
   "source": [
    "x['airmass_diff'] = x.airmass - x.airmassopsim"
   ]
  },
  {
   "cell_type": "code",
   "execution_count": 20,
   "metadata": {
    "collapsed": false
   },
   "outputs": [
    {
     "data": {
      "text/plain": [
       "<matplotlib.axes._subplots.AxesSubplot at 0x14aabc790>"
      ]
     },
     "execution_count": 20,
     "metadata": {},
     "output_type": "execute_result"
    },
    {
     "data": {
      "image/png": "[encoded data removed]",
      "text/plain": [
       "<matplotlib.figure.Figure at 0x14aabc150>"
      ]
     },
     "metadata": {},
     "output_type": "display_data"
    }
   ],
   "source": [
    "x.airmass_diff.hist()"
   ]
  }
 ],
 "metadata": {
  "anaconda-cloud": {},
  "kernelspec": {
   "display_name": "Python [conda env:astroml]",
   "language": "python",
   "name": "conda-env-astroml-py"
  },
  "language_info": {
   "codemirror_mode": {
    "name": "ipython",
    "version": 3
   },
   "file_extension": ".py",
   "mimetype": "text/x-python",
   "name": "python",
   "nbconvert_exporter": "python",
   "pygments_lexer": "ipython3",
   "version": "3.5.4"
  }
 },
 "nbformat": 4,
 "nbformat_minor": 1
}
