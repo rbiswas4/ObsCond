{
 "cells": [
  {
   "cell_type": "code",
   "execution_count": 1,
   "metadata": {
    "collapsed": true
   },
   "outputs": [],
   "source": [
    "import os"
   ]
  },
  {
   "cell_type": "code",
   "execution_count": 2,
   "metadata": {
    "collapsed": true
   },
   "outputs": [],
   "source": [
    "from lsst.sims.photUtils import BandpassDict"
   ]
  },
  {
   "cell_type": "code",
   "execution_count": 3,
   "metadata": {
    "collapsed": false
   },
   "outputs": [],
   "source": [
    "import pandas as pd"
   ]
  },
  {
   "cell_type": "code",
   "execution_count": 4,
   "metadata": {
    "collapsed": true
   },
   "outputs": [],
   "source": [
    "import obscond"
   ]
  },
  {
   "cell_type": "code",
   "execution_count": 5,
   "metadata": {
    "collapsed": false
   },
   "outputs": [],
   "source": [
    "hwbpDict, TotbpDict = BandpassDict.loadBandpassesFromFiles()"
   ]
  },
  {
   "cell_type": "code",
   "execution_count": 9,
   "metadata": {
    "collapsed": false
   },
   "outputs": [],
   "source": [
    "pointings = pd.read_csv(os.path.join(obscond.example_data_dir, 'example_pointings.csv'), index_col='obsHistID')"
   ]
  },
  {
   "cell_type": "code",
   "execution_count": 7,
   "metadata": {
    "collapsed": false
   },
   "outputs": [],
   "source": [
    "skycalc = obscond.SkyCalculations(photparams=\"LSST\", hwBandpassDict=hwbpDict)"
   ]
  },
  {
   "cell_type": "code",
   "execution_count": 10,
   "metadata": {
    "collapsed": false
   },
   "outputs": [
    {
     "data": {
      "text/html": [
       "<div>\n",
       "<table border=\"1\" class=\"dataframe\">\n",
       "  <thead>\n",
       "    <tr style=\"text-align: right;\">\n",
       "      <th></th>\n",
       "      <th>fieldRA</th>\n",
       "      <th>fieldDec</th>\n",
       "      <th>expMJD</th>\n",
       "      <th>airmass</th>\n",
       "      <th>FWHMeff</th>\n",
       "      <th>filter</th>\n",
       "    </tr>\n",
       "    <tr>\n",
       "      <th>obsHistID</th>\n",
       "      <th></th>\n",
       "      <th></th>\n",
       "      <th></th>\n",
       "      <th></th>\n",
       "      <th></th>\n",
       "      <th></th>\n",
       "    </tr>\n",
       "  </thead>\n",
       "  <tbody>\n",
       "    <tr>\n",
       "      <th>230</th>\n",
       "      <td>0.925184</td>\n",
       "      <td>-0.478900</td>\n",
       "      <td>59580.139555</td>\n",
       "      <td>1.090199</td>\n",
       "      <td>1.121968</td>\n",
       "      <td>r</td>\n",
       "    </tr>\n",
       "    <tr>\n",
       "      <th>1679570</th>\n",
       "      <td>0.000000</td>\n",
       "      <td>-0.794553</td>\n",
       "      <td>62086.152635</td>\n",
       "      <td>1.169360</td>\n",
       "      <td>0.837221</td>\n",
       "      <td>z</td>\n",
       "    </tr>\n",
       "    <tr>\n",
       "      <th>1679569</th>\n",
       "      <td>0.000000</td>\n",
       "      <td>-0.794553</td>\n",
       "      <td>62086.152218</td>\n",
       "      <td>1.168118</td>\n",
       "      <td>0.836687</td>\n",
       "      <td>z</td>\n",
       "    </tr>\n",
       "    <tr>\n",
       "      <th>1679568</th>\n",
       "      <td>0.000000</td>\n",
       "      <td>-0.794553</td>\n",
       "      <td>62086.151802</td>\n",
       "      <td>1.166882</td>\n",
       "      <td>0.836156</td>\n",
       "      <td>z</td>\n",
       "    </tr>\n",
       "    <tr>\n",
       "      <th>1679567</th>\n",
       "      <td>0.000000</td>\n",
       "      <td>-0.794553</td>\n",
       "      <td>62086.151385</td>\n",
       "      <td>1.165654</td>\n",
       "      <td>0.835628</td>\n",
       "      <td>z</td>\n",
       "    </tr>\n",
       "  </tbody>\n",
       "</table>\n",
       "</div>"
      ],
      "text/plain": [
       "            fieldRA  fieldDec        expMJD   airmass   FWHMeff filter\n",
       "obsHistID                                                             \n",
       "230        0.925184 -0.478900  59580.139555  1.090199  1.121968      r\n",
       "1679570    0.000000 -0.794553  62086.152635  1.169360  0.837221      z\n",
       "1679569    0.000000 -0.794553  62086.152218  1.168118  0.836687      z\n",
       "1679568    0.000000 -0.794553  62086.151802  1.166882  0.836156      z\n",
       "1679567    0.000000 -0.794553  62086.151385  1.165654  0.835628      z"
      ]
     },
     "execution_count": 10,
     "metadata": {},
     "output_type": "execute_result"
    }
   ],
   "source": [
    "pointings[['fieldRA', 'fieldDec', 'expMJD', 'airmass', 'FWHMeff', 'filter']].head()"
   ]
  },
  {
   "cell_type": "code",
   "execution_count": 11,
   "metadata": {
    "collapsed": false
   },
   "outputs": [
    {
     "name": "stderr",
     "output_type": "stream",
     "text": [
      "WARNING: ErfaWarning: ERFA function \"taiutc\" yielded 1 of \"dubious year (Note 4)\" [astropy._erfa.core]\n",
      "WARNING: ErfaWarning: ERFA function \"utcut1\" yielded 1 of \"dubious year (Note 3)\" [astropy._erfa.core]\n",
      "/Users/rbiswas/soft/LSST/DarwinX86/healpy/1.8.1.lsst2+5/lib/python/healpy-1.8.1-py2.7-macosx-10.6-x86_64.egg/healpy/pixelfunc.py:1045: FutureWarning: comparison to `None` will result in an elementwise object comparison in the future.\n",
      "  if phi == None:\n"
     ]
    },
    {
     "data": {
      "text/plain": [
       "21.260974999286908"
      ]
     },
     "execution_count": 11,
     "metadata": {},
     "output_type": "execute_result"
    }
   ],
   "source": [
    "skycalc.skymag('r', 0.925, -0.4789, 59580.14)"
   ]
  },
  {
   "cell_type": "code",
   "execution_count": 12,
   "metadata": {
    "collapsed": false
   },
   "outputs": [
    {
     "data": {
      "text/plain": [
       "24.000968703794982"
      ]
     },
     "execution_count": 12,
     "metadata": {},
     "output_type": "execute_result"
    }
   ],
   "source": [
    "skycalc.fiveSigmaDepth('r', 1.09, 1.12, sm=skycalc.sm)"
   ]
  },
  {
   "cell_type": "code",
   "execution_count": 13,
   "metadata": {
    "collapsed": false
   },
   "outputs": [
    {
     "data": {
      "text/html": [
       "<div>\n",
       "<table border=\"1\" class=\"dataframe\">\n",
       "  <thead>\n",
       "    <tr style=\"text-align: right;\">\n",
       "      <th></th>\n",
       "      <th>filtSkyBrightness</th>\n",
       "      <th>fiveSigmaDepth</th>\n",
       "    </tr>\n",
       "    <tr>\n",
       "      <th>obsHistID</th>\n",
       "      <th></th>\n",
       "      <th></th>\n",
       "    </tr>\n",
       "  </thead>\n",
       "  <tbody>\n",
       "    <tr>\n",
       "      <th>230.0</th>\n",
       "      <td>21.261849</td>\n",
       "      <td>23.999459</td>\n",
       "    </tr>\n",
       "    <tr>\n",
       "      <th>1679570.0</th>\n",
       "      <td>19.279404</td>\n",
       "      <td>23.082695</td>\n",
       "    </tr>\n",
       "    <tr>\n",
       "      <th>1679569.0</th>\n",
       "      <td>19.280432</td>\n",
       "      <td>23.083869</td>\n",
       "    </tr>\n",
       "    <tr>\n",
       "      <th>1679568.0</th>\n",
       "      <td>19.281451</td>\n",
       "      <td>23.085036</td>\n",
       "    </tr>\n",
       "    <tr>\n",
       "      <th>1679567.0</th>\n",
       "      <td>19.282467</td>\n",
       "      <td>23.086197</td>\n",
       "    </tr>\n",
       "    <tr>\n",
       "      <th>1679566.0</th>\n",
       "      <td>19.283476</td>\n",
       "      <td>23.087351</td>\n",
       "    </tr>\n",
       "    <tr>\n",
       "      <th>1679565.0</th>\n",
       "      <td>19.284477</td>\n",
       "      <td>23.088500</td>\n",
       "    </tr>\n",
       "    <tr>\n",
       "      <th>1679564.0</th>\n",
       "      <td>19.285474</td>\n",
       "      <td>23.089642</td>\n",
       "    </tr>\n",
       "    <tr>\n",
       "      <th>1679563.0</th>\n",
       "      <td>19.286466</td>\n",
       "      <td>23.092942</td>\n",
       "    </tr>\n",
       "    <tr>\n",
       "      <th>1679562.0</th>\n",
       "      <td>20.258438</td>\n",
       "      <td>23.700729</td>\n",
       "    </tr>\n",
       "  </tbody>\n",
       "</table>\n",
       "</div>"
      ],
      "text/plain": [
       "           filtSkyBrightness  fiveSigmaDepth\n",
       "obsHistID                                   \n",
       "230.0              21.261849       23.999459\n",
       "1679570.0          19.279404       23.082695\n",
       "1679569.0          19.280432       23.083869\n",
       "1679568.0          19.281451       23.085036\n",
       "1679567.0          19.282467       23.086197\n",
       "1679566.0          19.283476       23.087351\n",
       "1679565.0          19.284477       23.088500\n",
       "1679564.0          19.285474       23.089642\n",
       "1679563.0          19.286466       23.092942\n",
       "1679562.0          20.258438       23.700729"
      ]
     },
     "execution_count": 13,
     "metadata": {},
     "output_type": "execute_result"
    }
   ],
   "source": [
    "skycalc.calculatePointings(pointings)"
   ]
  }
 ],
 "metadata": {
  "anaconda-cloud": {},
  "kernelspec": {
   "display_name": "Python [default]",
   "language": "python",
   "name": "python2"
  },
  "language_info": {
   "codemirror_mode": {
    "name": "ipython",
    "version": 2
   },
   "file_extension": ".py",
   "mimetype": "text/x-python",
   "name": "python",
   "nbconvert_exporter": "python",
   "pygments_lexer": "ipython2",
   "version": "2.7.12"
  }
 },
 "nbformat": 4,
 "nbformat_minor": 1
}
