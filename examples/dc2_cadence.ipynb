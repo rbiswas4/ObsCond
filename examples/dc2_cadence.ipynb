{
 "cells": [
  {
   "cell_type": "code",
   "execution_count": 1,
   "metadata": {},
   "outputs": [],
   "source": [
    "import time\n",
    "import numpy as np\n",
    "import pandas as pd"
   ]
  },
  {
   "cell_type": "code",
   "execution_count": 2,
   "metadata": {},
   "outputs": [],
   "source": [
    "import lsst.sims.skybrightness as sb\n",
    "from lsst.sims.utils import Site\n",
    "import ephem\n",
    "from obscond import SkyCalculations as sm"
   ]
  },
  {
   "cell_type": "code",
   "execution_count": 3,
   "metadata": {},
   "outputs": [
    {
     "name": "stdout",
     "output_type": "stream",
     "text": [
      "Some imports failed, which implies some dependencies are missing as described below\n",
      "No module named 'mpl_toolkits.basemap'\n",
      "Visulization functions based on maps will not work\n"
     ]
    }
   ],
   "source": [
    "from opsimsummary import SynOpSim"
   ]
  },
  {
   "cell_type": "code",
   "execution_count": 4,
   "metadata": {},
   "outputs": [],
   "source": [
    "from obscond.observingPotential import ObservationPotential"
   ]
  },
  {
   "cell_type": "code",
   "execution_count": 5,
   "metadata": {},
   "outputs": [],
   "source": [
    "from lsst.sims.utils import angularSeparation"
   ]
  },
  {
   "cell_type": "code",
   "execution_count": 6,
   "metadata": {},
   "outputs": [],
   "source": [
    "from scipy.interpolate import interp1d"
   ]
  },
  {
   "cell_type": "code",
   "execution_count": 7,
   "metadata": {},
   "outputs": [],
   "source": [
    "%matplotlib inline \n",
    "import matplotlib.pyplot as plt\n",
    "import seaborn as sns\n",
    "sns.set_style('whitegrid')\n",
    "sns.set_context('notebook')"
   ]
  },
  {
   "cell_type": "code",
   "execution_count": 8,
   "metadata": {},
   "outputs": [],
   "source": [
    "import obscond"
   ]
  },
  {
   "cell_type": "code",
   "execution_count": 9,
   "metadata": {},
   "outputs": [
    {
     "name": "stdout",
     "output_type": "stream",
     "text": [
      "0.5.1dev3\n"
     ]
    }
   ],
   "source": [
    "print(obscond.__version__)"
   ]
  },
  {
   "cell_type": "markdown",
   "metadata": {},
   "source": [
    "## DC2 DDF design"
   ]
  },
  {
   "cell_type": "code",
   "execution_count": 10,
   "metadata": {},
   "outputs": [],
   "source": [
    "# uDDF center Design DC2 Run1 Note\n",
    "rauDDF = np.radians(53.125)\n",
    "decuDDF =  np.radians(-28.100)"
   ]
  },
  {
   "cell_type": "markdown",
   "metadata": {},
   "source": [
    "## Example For Block 2 : \n",
    "\n",
    "These are the observations we want for the block of 7 to 10 years"
   ]
  },
  {
   "cell_type": "code",
   "execution_count": 11,
   "metadata": {},
   "outputs": [],
   "source": [
    "op = ObservationPotential(rauDDF, decuDDF)"
   ]
  },
  {
   "cell_type": "code",
   "execution_count": 12,
   "metadata": {},
   "outputs": [],
   "source": [
    "# 60 sec intervals of mjd values between 7 and 10 years \n",
    "t0 = 59580 + 7 * 365 \n",
    "sec = 1.0 / 24.0 /60. /60.\n",
    "hr = 60. * 60. * sec\n",
    "t2 = np.arange(t0, t0 + 365 *3, 60 * sec)"
   ]
  },
  {
   "cell_type": "code",
   "execution_count": 13,
   "metadata": {},
   "outputs": [],
   "source": [
    "opdf = op.potential_obscond(t2, fieldRA=rauDDF, fieldDec=decuDDF)"
   ]
  },
  {
   "cell_type": "code",
   "execution_count": 14,
   "metadata": {},
   "outputs": [
    {
     "data": {
      "text/plain": [
       "0.05019113468444874"
      ]
     },
     "execution_count": 14,
     "metadata": {},
     "output_type": "execute_result"
    }
   ],
   "source": [
    "len(opdf)/ np.pi /1.0e7"
   ]
  },
  {
   "cell_type": "code",
   "execution_count": 15,
   "metadata": {},
   "outputs": [
    {
     "data": {
      "text/html": [
       "<div>\n",
       "<style scoped>\n",
       "    .dataframe tbody tr th:only-of-type {\n",
       "        vertical-align: middle;\n",
       "    }\n",
       "\n",
       "    .dataframe tbody tr th {\n",
       "        vertical-align: top;\n",
       "    }\n",
       "\n",
       "    .dataframe thead th {\n",
       "        text-align: right;\n",
       "    }\n",
       "</style>\n",
       "<table border=\"1\" class=\"dataframe\">\n",
       "  <thead>\n",
       "    <tr style=\"text-align: right;\">\n",
       "      <th></th>\n",
       "      <th>mjd</th>\n",
       "      <th>alt</th>\n",
       "      <th>az</th>\n",
       "      <th>sunAlt</th>\n",
       "      <th>moonRA</th>\n",
       "      <th>moonDec</th>\n",
       "      <th>moonAlt</th>\n",
       "      <th>night</th>\n",
       "      <th>moonDist</th>\n",
       "    </tr>\n",
       "  </thead>\n",
       "  <tbody>\n",
       "    <tr>\n",
       "      <th>0</th>\n",
       "      <td>62135.000000</td>\n",
       "      <td>50.539905</td>\n",
       "      <td>313.845214</td>\n",
       "      <td>-1.936863</td>\n",
       "      <td>77.162288</td>\n",
       "      <td>25.866353</td>\n",
       "      <td>16.955501</td>\n",
       "      <td>2555</td>\n",
       "      <td>97.299443</td>\n",
       "    </tr>\n",
       "    <tr>\n",
       "      <th>1</th>\n",
       "      <td>62135.000694</td>\n",
       "      <td>50.383315</td>\n",
       "      <td>313.537720</td>\n",
       "      <td>-2.067200</td>\n",
       "      <td>77.169862</td>\n",
       "      <td>25.867593</td>\n",
       "      <td>17.102845</td>\n",
       "      <td>2555</td>\n",
       "      <td>97.306363</td>\n",
       "    </tr>\n",
       "    <tr>\n",
       "      <th>2</th>\n",
       "      <td>62135.001389</td>\n",
       "      <td>50.225927</td>\n",
       "      <td>313.232245</td>\n",
       "      <td>-2.200801</td>\n",
       "      <td>77.177425</td>\n",
       "      <td>25.868828</td>\n",
       "      <td>17.249769</td>\n",
       "      <td>2555</td>\n",
       "      <td>97.313271</td>\n",
       "    </tr>\n",
       "    <tr>\n",
       "      <th>3</th>\n",
       "      <td>62135.002083</td>\n",
       "      <td>50.067750</td>\n",
       "      <td>312.928776</td>\n",
       "      <td>-2.340170</td>\n",
       "      <td>77.184975</td>\n",
       "      <td>25.870058</td>\n",
       "      <td>17.396272</td>\n",
       "      <td>2555</td>\n",
       "      <td>97.320168</td>\n",
       "    </tr>\n",
       "    <tr>\n",
       "      <th>4</th>\n",
       "      <td>62135.002778</td>\n",
       "      <td>49.908795</td>\n",
       "      <td>312.627297</td>\n",
       "      <td>-2.489150</td>\n",
       "      <td>77.192513</td>\n",
       "      <td>25.871284</td>\n",
       "      <td>17.542347</td>\n",
       "      <td>2555</td>\n",
       "      <td>97.327053</td>\n",
       "    </tr>\n",
       "  </tbody>\n",
       "</table>\n",
       "</div>"
      ],
      "text/plain": [
       "            mjd        alt          az    sunAlt     moonRA    moonDec  \\\n",
       "0  62135.000000  50.539905  313.845214 -1.936863  77.162288  25.866353   \n",
       "1  62135.000694  50.383315  313.537720 -2.067200  77.169862  25.867593   \n",
       "2  62135.001389  50.225927  313.232245 -2.200801  77.177425  25.868828   \n",
       "3  62135.002083  50.067750  312.928776 -2.340170  77.184975  25.870058   \n",
       "4  62135.002778  49.908795  312.627297 -2.489150  77.192513  25.871284   \n",
       "\n",
       "     moonAlt  night   moonDist  \n",
       "0  16.955501   2555  97.299443  \n",
       "1  17.102845   2555  97.306363  \n",
       "2  17.249769   2555  97.313271  \n",
       "3  17.396272   2555  97.320168  \n",
       "4  17.542347   2555  97.327053  "
      ]
     },
     "execution_count": 15,
     "metadata": {},
     "output_type": "execute_result"
    }
   ],
   "source": [
    "opdf.head()"
   ]
  },
  {
   "cell_type": "code",
   "execution_count": 16,
   "metadata": {},
   "outputs": [],
   "source": [
    "# new\n",
    "constraints = 'alt > 30 and alt < 85 and sunAlt < -12 and moonDist > 30'\n",
    "availabletimes = op.available_times(opdf, constraints=constraints)"
   ]
  },
  {
   "cell_type": "code",
   "execution_count": 17,
   "metadata": {},
   "outputs": [
    {
     "data": {
      "text/plain": [
       "172579"
      ]
     },
     "execution_count": 17,
     "metadata": {},
     "output_type": "execute_result"
    }
   ],
   "source": [
    "#new\n",
    "len(availabletimes)"
   ]
  },
  {
   "cell_type": "code",
   "execution_count": 18,
   "metadata": {},
   "outputs": [
    {
     "data": {
      "image/png": "[encoded data removed]",
      "text/plain": [
       "<Figure size 432x288 with 1 Axes>"
      ]
     },
     "metadata": {},
     "output_type": "display_data"
    }
   ],
   "source": [
    "# new\n",
    "fig, ax = plt.subplots()\n",
    "#ax0, ax1 = ax\n",
    "#dff = opdf.query('alt < 85. and alt > 20.')\n",
    "ax.plot(opdf.mjd, opdf.sunAlt, label='sun Alt')\n",
    "ax.plot(availabletimes.mjd, availabletimes.sunAlt, label='field constraints')\n",
    "ax.axhline(-12.0, ls='dashed', lw=2)\n",
    "ax.set_xlabel('MJD (day)')\n",
    "ax.set_ylabel('sun Altitude (deg)')\n",
    "fig.savefig('availabletimes_block2.png')"
   ]
  },
  {
   "cell_type": "markdown",
   "metadata": {},
   "source": [
    "## Baseline Expectations"
   ]
  },
  {
   "cell_type": "code",
   "execution_count": 19,
   "metadata": {},
   "outputs": [
    {
     "name": "stdout",
     "output_type": "stream",
     "text": [
      " reading from database sqlite:////Users/rbiswas/data/LSST/OpSimData/minion_1016_sqlite.db\n",
      "Not doing all observations here \n",
      "56 ddf\n",
      "SELECT * FROM Summary WHERE propID in (56)\n",
      "We have filterNull set to False\n",
      "checking that summary table read in\n",
      "\n",
      "Reading in raw tables successful\n",
      "replacing names works\n",
      "dropping duplicates works\n",
      "joining dithers works\n",
      "Keeping units for lsstv3 from radians\n",
      "check that the format matches the expectation\n"
     ]
    }
   ],
   "source": [
    "synopsim = SynOpSim.fromOpSimDB('/Users/rbiswas/data/LSST/OpSimData/minion_1016_sqlite.db',\n",
    "                                 subset='ddf', opsimversion='lsstv3')"
   ]
  },
  {
   "cell_type": "code",
   "execution_count": 20,
   "metadata": {},
   "outputs": [],
   "source": [
    "all_baseline_visits = synopsim.pointings.query('fieldID == 1427')"
   ]
  },
  {
   "cell_type": "markdown",
   "metadata": {},
   "source": [
    "## Block 2"
   ]
  },
  {
   "cell_type": "code",
   "execution_count": 21,
   "metadata": {},
   "outputs": [],
   "source": [
    "baseline_block2 = synopsim.pointings.query('fieldID == 1427 and night > 365*7')"
   ]
  },
  {
   "cell_type": "code",
   "execution_count": 22,
   "metadata": {},
   "outputs": [],
   "source": [
    "unights = baseline_block2.query('filter == \"u\"').night.unique()"
   ]
  },
  {
   "cell_type": "code",
   "execution_count": 23,
   "metadata": {},
   "outputs": [],
   "source": [
    "baseline_nights_2 = baseline_block2.query('filter != \"u\"').night.unique()"
   ]
  },
  {
   "cell_type": "code",
   "execution_count": 24,
   "metadata": {},
   "outputs": [
    {
     "name": "stdout",
     "output_type": "stream",
     "text": [
      "Number of nights using grizy filters is 61\n"
     ]
    }
   ],
   "source": [
    "print('Number of nights using grizy filters is {}'.format(baseline_nights_2.size))"
   ]
  },
  {
   "cell_type": "code",
   "execution_count": 25,
   "metadata": {},
   "outputs": [],
   "source": [
    "ratio_sampling  = 0.5 # See DC2 design note (0.75)\n",
    "required_nights = np.ceil(baseline_nights_2.size / ratio_sampling).astype(np.int)"
   ]
  },
  {
   "cell_type": "code",
   "execution_count": 26,
   "metadata": {},
   "outputs": [
    {
     "name": "stdout",
     "output_type": "stream",
     "text": [
      "Given the requirement of the cadence being 0.5, the number of nights is 122\n"
     ]
    }
   ],
   "source": [
    "print('Given the requirement of the cadence being {0}, the number of nights is {1}'.format(ratio_sampling, required_nights))"
   ]
  },
  {
   "cell_type": "code",
   "execution_count": 27,
   "metadata": {},
   "outputs": [],
   "source": [
    "times = availabletimes.query('night in @baseline_nights_2').groupby('night').agg(dict(mjd=ObservationPotential.timerange)).rename(columns=dict(mjd='time'))"
   ]
  },
  {
   "cell_type": "code",
   "execution_count": 28,
   "metadata": {
    "scrolled": true
   },
   "outputs": [
    {
     "data": {
      "image/png": "[encoded data removed]",
      "text/plain": [
       "<Figure size 432x288 with 1 Axes>"
      ]
     },
     "metadata": {},
     "output_type": "display_data"
    }
   ],
   "source": [
    "fig, ax = plt.subplots()\n",
    "_ = times.time.hist(bins=np.arange(2., 10, 0.25), histtype='step',\n",
    "                    lw=2, ax=ax)\n",
    "ax.axvline(5.0, color='k', ls='dashed')\n",
    "ax.set_ylabel('nights')\n",
    "ax.set_xlabel('hours of night available per night')\n",
    "ax.set_title('Hours/night for minion DDF nights in yrs 4-7')\n",
    "fig.savefig('block_2_hours_pernight.png')"
   ]
  },
  {
   "cell_type": "markdown",
   "metadata": {},
   "source": [
    "## Choosing nights"
   ]
  },
  {
   "cell_type": "code",
   "execution_count": 29,
   "metadata": {},
   "outputs": [
    {
     "data": {
      "text/plain": [
       "172579"
      ]
     },
     "execution_count": 29,
     "metadata": {},
     "output_type": "execute_result"
    }
   ],
   "source": [
    "len(availabletimes)"
   ]
  },
  {
   "cell_type": "markdown",
   "metadata": {},
   "source": [
    "##  We want to select nights longer than 5 hours"
   ]
  },
  {
   "cell_type": "code",
   "execution_count": 30,
   "metadata": {},
   "outputs": [
    {
     "name": "stdout",
     "output_type": "stream",
     "text": [
      "351\n"
     ]
    }
   ],
   "source": [
    "shortnight = availabletimes.groupby('night').agg(dict(mjd=ObservationPotential.timerange))\n",
    "shortnights = shortnight.query('mjd < 5').index.unique()\n",
    "print(len(shortnights))"
   ]
  },
  {
   "cell_type": "code",
   "execution_count": 31,
   "metadata": {},
   "outputs": [],
   "source": [
    "unights = baseline_block2.query('filter == \"u\"').night.unique()"
   ]
  },
  {
   "cell_type": "code",
   "execution_count": 32,
   "metadata": {},
   "outputs": [],
   "source": [
    "target_nights = availabletimes.query('night not in @shortnights').query('night not in @unights').night.unique()"
   ]
  },
  {
   "cell_type": "code",
   "execution_count": 33,
   "metadata": {},
   "outputs": [],
   "source": [
    "rng = np.random.RandomState(1)\n",
    "target_nights.sort()\n",
    "chosen_nights = rng.choice(target_nights, replace=False, size=required_nights)\n",
    "chosen_nights.sort()"
   ]
  },
  {
   "cell_type": "code",
   "execution_count": 34,
   "metadata": {},
   "outputs": [],
   "source": [
    "nstats = op.nightStats(availabletimes)\n",
    "st_times = op.start_times(nstats, chosen_nights, rng)"
   ]
  },
  {
   "cell_type": "code",
   "execution_count": 35,
   "metadata": {},
   "outputs": [],
   "source": [
    "dc2_visits_block2 = op.dc2_visits(st_times, year_block=2, pointings=all_baseline_visits)"
   ]
  },
  {
   "cell_type": "code",
   "execution_count": 36,
   "metadata": {},
   "outputs": [
    {
     "data": {
      "text/html": [
       "<div>\n",
       "<style scoped>\n",
       "    .dataframe tbody tr th:only-of-type {\n",
       "        vertical-align: middle;\n",
       "    }\n",
       "\n",
       "    .dataframe tbody tr th {\n",
       "        vertical-align: top;\n",
       "    }\n",
       "\n",
       "    .dataframe thead th {\n",
       "        text-align: right;\n",
       "    }\n",
       "</style>\n",
       "<table border=\"1\" class=\"dataframe\">\n",
       "  <thead>\n",
       "    <tr style=\"text-align: right;\">\n",
       "      <th></th>\n",
       "      <th>expMJD</th>\n",
       "    </tr>\n",
       "    <tr>\n",
       "      <th>filter</th>\n",
       "      <th></th>\n",
       "    </tr>\n",
       "  </thead>\n",
       "  <tbody>\n",
       "    <tr>\n",
       "      <th>g</th>\n",
       "      <td>610</td>\n",
       "    </tr>\n",
       "    <tr>\n",
       "      <th>i</th>\n",
       "      <td>1220</td>\n",
       "    </tr>\n",
       "    <tr>\n",
       "      <th>r</th>\n",
       "      <td>1220</td>\n",
       "    </tr>\n",
       "    <tr>\n",
       "      <th>y</th>\n",
       "      <td>1220</td>\n",
       "    </tr>\n",
       "    <tr>\n",
       "      <th>z</th>\n",
       "      <td>1586</td>\n",
       "    </tr>\n",
       "  </tbody>\n",
       "</table>\n",
       "</div>"
      ],
      "text/plain": [
       "        expMJD\n",
       "filter        \n",
       "g          610\n",
       "i         1220\n",
       "r         1220\n",
       "y         1220\n",
       "z         1586"
      ]
     },
     "execution_count": 36,
     "metadata": {},
     "output_type": "execute_result"
    }
   ],
   "source": [
    "dc2_visits_block2.groupby('filter').agg(dict(expMJD='count'))"
   ]
  },
  {
   "cell_type": "code",
   "execution_count": 37,
   "metadata": {},
   "outputs": [
    {
     "name": "stderr",
     "output_type": "stream",
     "text": [
      "/Users/rbiswas/soft/lsst_stack/python/miniconda3-4.5.4/envs/lsst-scipipe-fcd27eb/lib/python3.6/site-packages/matplotlib/axes/_axes.py:6462: UserWarning: The 'normed' kwarg is deprecated, and has been replaced by the 'density' kwarg.\n",
      "  warnings.warn(\"The 'normed' kwarg is deprecated, and has been \"\n",
      "/Users/rbiswas/soft/lsst_stack/python/miniconda3-4.5.4/envs/lsst-scipipe-fcd27eb/lib/python3.6/site-packages/matplotlib/axes/_axes.py:6462: UserWarning: The 'normed' kwarg is deprecated, and has been replaced by the 'density' kwarg.\n",
      "  warnings.warn(\"The 'normed' kwarg is deprecated, and has been \"\n"
     ]
    },
    {
     "data": {
      "text/plain": [
       "<matplotlib.axes._subplots.AxesSubplot at 0x1a4c0a92b0>"
      ]
     },
     "execution_count": 37,
     "metadata": {},
     "output_type": "execute_result"
    },
    {
     "data": {
      "image/png": "[encoded data removed]",
      "text/plain": [
       "<Figure size 432x288 with 1 Axes>"
      ]
     },
     "metadata": {},
     "output_type": "display_data"
    }
   ],
   "source": [
    "fig, ax = plt.subplots()\n",
    "dc2_visits_block2.rawSeeing.hist(ax=ax,**dict(histtype='step', normed=1))\n",
    "all_baseline_visits.rawSeeing.hist(ax=ax, **dict(histtype='step', normed=1))"
   ]
  },
  {
   "cell_type": "code",
   "execution_count": 38,
   "metadata": {},
   "outputs": [],
   "source": [
    "dc2_visits_block2.to_csv('dc2_blocks.csv', index=False)"
   ]
  },
  {
   "cell_type": "markdown",
   "metadata": {},
   "source": [
    "# Block 1 : "
   ]
  },
  {
   "cell_type": "code",
   "execution_count": 39,
   "metadata": {},
   "outputs": [],
   "source": [
    "# 60 sec intervals of mjd values between 7 and 10 years \n",
    "t0 = 59580 + 4 * 365 \n",
    "sec = 1.0 / 24.0 /60. /60.\n",
    "hr = 60. * 60. * sec\n",
    "t01 = np.arange(t0, t0 + 365 *3, 60 * sec)"
   ]
  },
  {
   "cell_type": "code",
   "execution_count": 40,
   "metadata": {},
   "outputs": [],
   "source": [
    "opdf = op.potential_obscond(t01, fieldRA=rauDDF, fieldDec=decuDDF)"
   ]
  },
  {
   "cell_type": "code",
   "execution_count": 41,
   "metadata": {},
   "outputs": [],
   "source": [
    "# new\n",
    "constraints_1 = 'alt > 30 and alt < 85 and sunAlt < -12 and moonDist > 30'\n",
    "availabletimes_1 = op.available_times(opdf, constraints=constraints)"
   ]
  },
  {
   "cell_type": "code",
   "execution_count": 42,
   "metadata": {},
   "outputs": [
    {
     "data": {
      "text/plain": [
       "4.000093226788736"
      ]
     },
     "execution_count": 42,
     "metadata": {},
     "output_type": "execute_result"
    }
   ],
   "source": [
    "(availabletimes_1.mjd.min() - 59580)/365"
   ]
  },
  {
   "cell_type": "code",
   "execution_count": 48,
   "metadata": {},
   "outputs": [
    {
     "name": "stdout",
     "output_type": "stream",
     "text": [
      "347\n"
     ]
    }
   ],
   "source": [
    "shortnight_1 = availabletimes_1.groupby('night').agg(dict(mjd=ObservationPotential.timerange))\n",
    "shortnights_1 = shortnight_1.query('mjd < 5').index.unique()\n",
    "print(len(shortnights_1))"
   ]
  },
  {
   "cell_type": "code",
   "execution_count": 43,
   "metadata": {},
   "outputs": [],
   "source": [
    "baseline_block1 = synopsim.pointings.query('fieldID == 1427 and night < 365*7 and night > 365*4')"
   ]
  },
  {
   "cell_type": "code",
   "execution_count": 44,
   "metadata": {},
   "outputs": [],
   "source": [
    "unights_1 = baseline_block1.query('filter == \"u\"').night.unique()"
   ]
  },
  {
   "cell_type": "code",
   "execution_count": 50,
   "metadata": {},
   "outputs": [],
   "source": [
    "target_nights_1 = availabletimes_1.query('night not in @shortnights_1').query('night not in @unights_1').night.unique()"
   ]
  },
  {
   "cell_type": "code",
   "execution_count": 51,
   "metadata": {},
   "outputs": [],
   "source": [
    "baseline_nights_1 = baseline_block1.query('filter != \"u\"').night.unique()"
   ]
  },
  {
   "cell_type": "code",
   "execution_count": 52,
   "metadata": {},
   "outputs": [],
   "source": [
    "ratio_sampling_1  = 0.75 # See DC2 design note (0.75)\n",
    "required_nights_1 = np.ceil(baseline_nights_1.size / ratio_sampling).astype(np.int)"
   ]
  },
  {
   "cell_type": "code",
   "execution_count": 53,
   "metadata": {},
   "outputs": [
    {
     "data": {
      "text/plain": [
       "114"
      ]
     },
     "execution_count": 53,
     "metadata": {},
     "output_type": "execute_result"
    }
   ],
   "source": [
    "required_nights_1"
   ]
  },
  {
   "cell_type": "code",
   "execution_count": 54,
   "metadata": {},
   "outputs": [],
   "source": [
    "rng = np.random.RandomState(1)\n",
    "target_nights_1.sort()\n",
    "chosen_nights_1 = rng.choice(target_nights_1, replace=False, size=required_nights_1)\n",
    "chosen_nights_1.sort()"
   ]
  },
  {
   "cell_type": "code",
   "execution_count": 55,
   "metadata": {},
   "outputs": [],
   "source": [
    "nstats_1 = op.nightStats(availabletimes_1)\n",
    "st_times_1 = op.start_times(nstats_1, chosen_nights_1, rng)"
   ]
  },
  {
   "cell_type": "code",
   "execution_count": 67,
   "metadata": {},
   "outputs": [],
   "source": [
    "dc2_visits_block1 = op.dc2_visits(st_times_1, year_block=1, pointings=baseline_block1)"
   ]
  },
  {
   "cell_type": "code",
   "execution_count": 69,
   "metadata": {},
   "outputs": [
    {
     "data": {
      "text/html": [
       "<div>\n",
       "<style scoped>\n",
       "    .dataframe tbody tr th:only-of-type {\n",
       "        vertical-align: middle;\n",
       "    }\n",
       "\n",
       "    .dataframe tbody tr th {\n",
       "        vertical-align: top;\n",
       "    }\n",
       "\n",
       "    .dataframe thead th {\n",
       "        text-align: right;\n",
       "    }\n",
       "</style>\n",
       "<table border=\"1\" class=\"dataframe\">\n",
       "  <thead>\n",
       "    <tr style=\"text-align: right;\">\n",
       "      <th></th>\n",
       "      <th>expMJD</th>\n",
       "    </tr>\n",
       "    <tr>\n",
       "      <th>filter</th>\n",
       "      <th></th>\n",
       "    </tr>\n",
       "  </thead>\n",
       "  <tbody>\n",
       "    <tr>\n",
       "      <th>g</th>\n",
       "      <td>912</td>\n",
       "    </tr>\n",
       "    <tr>\n",
       "      <th>i</th>\n",
       "      <td>1710</td>\n",
       "    </tr>\n",
       "    <tr>\n",
       "      <th>r</th>\n",
       "      <td>1710</td>\n",
       "    </tr>\n",
       "    <tr>\n",
       "      <th>y</th>\n",
       "      <td>1710</td>\n",
       "    </tr>\n",
       "    <tr>\n",
       "      <th>z</th>\n",
       "      <td>2280</td>\n",
       "    </tr>\n",
       "  </tbody>\n",
       "</table>\n",
       "</div>"
      ],
      "text/plain": [
       "        expMJD\n",
       "filter        \n",
       "g          912\n",
       "i         1710\n",
       "r         1710\n",
       "y         1710\n",
       "z         2280"
      ]
     },
     "execution_count": 69,
     "metadata": {},
     "output_type": "execute_result"
    }
   ],
   "source": [
    "dc2_visits_block1.groupby('filter').agg(dict(expMJD='count'))"
   ]
  },
  {
   "cell_type": "code",
   "execution_count": 70,
   "metadata": {},
   "outputs": [],
   "source": [
    "dc2_visits_block1.to_csv('dc2_block1.csv', index=False)"
   ]
  },
  {
   "cell_type": "code",
   "execution_count": 59,
   "metadata": {},
   "outputs": [
    {
     "data": {
      "text/plain": [
       "8322"
      ]
     },
     "execution_count": 59,
     "metadata": {},
     "output_type": "execute_result"
    }
   ],
   "source": [
    "len(dc2_visits_block1)"
   ]
  },
  {
   "cell_type": "code",
   "execution_count": 60,
   "metadata": {},
   "outputs": [
    {
     "data": {
      "text/plain": [
       "5856"
      ]
     },
     "execution_count": 60,
     "metadata": {},
     "output_type": "execute_result"
    }
   ],
   "source": [
    "len(dc2_visits_block2)"
   ]
  },
  {
   "cell_type": "code",
   "execution_count": 61,
   "metadata": {},
   "outputs": [],
   "source": [
    "dc2_visits_block1.night = dc2_visits_block1.night.astype(int)"
   ]
  },
  {
   "cell_type": "code",
   "execution_count": 62,
   "metadata": {},
   "outputs": [
    {
     "data": {
      "text/plain": [
       "array([6952,   75,    1,   38,    7,    3,    3,    2,    3,    0,    1,\n",
       "          0,    2,    0,    2,    0,    1,    0,    0,    0,    0,    0,\n",
       "          0,    0,    0,    0,    0,    0,    0,    0,    0,    0,    0,\n",
       "          0,    0,    0,    0,    0,    0,    0,    0,    0,    0,    0,\n",
       "          0,    0,    0,    0,    0,    0,    0,    0,    0,    0,    0,\n",
       "          0,    0,    0,    0,    0,    0,    0,    0,    0,    0,    0,\n",
       "          0,    0,    0,    0,    0,    0,    0,    0,    0,    0,    0,\n",
       "          0,    0,    0,    0,    0,    0,    0,    0,    0,    0,    0,\n",
       "          0,    0,    0,    0,    0,    0,    0,    0,    0,    0,    0,\n",
       "          0,    0,    0,    0,    0,    0,    0,    0,    0,    0,    0,\n",
       "          0,    0,    0,    0,    0,    0,    0,    0,    0,    0,    0,\n",
       "          0,    0,    0,    0,    0,    0,    0,    0,    0,    0,    0,\n",
       "          0,    0,    0,    0,    0,    0,    0,    0,    0,    0,    0,\n",
       "          0,    0,    0,    0,    0,    0,    0,    0,    0,    0,    0,\n",
       "          0,    0,    0,    0,    0,    0,    0,    0,    0,    0,    0,\n",
       "          0,    0,    0,    0,    0,    0,    0,    0,    0,    0,    0,\n",
       "          0,    0,    0,    0,    0,    0,    0,    0,    0,    0,    0,\n",
       "          0,    0,    0,    0,    0,    0,    0,    0,    0,    0,    0,\n",
       "          0,    0,    0,    0,    0,    0,    0,    0,    0,    0,    0,\n",
       "          0,    0,    0,    0,    0,    0,    0,    0,    0,    0,    0,\n",
       "          0,    0,    0,    0,    0,    0,    0,    0,    0,    0,    0,\n",
       "          0,    0,    0,    0,    1,    0,    0,    0,    1,    0,    0,\n",
       "          0,    0,    0,    1])"
      ]
     },
     "execution_count": 62,
     "metadata": {},
     "output_type": "execute_result"
    }
   ],
   "source": [
    "np.bincount(baseline_block1.sort_values(by='night').night.diff()[1:].astype(np.int))"
   ]
  },
  {
   "cell_type": "code",
   "execution_count": 107,
   "metadata": {},
   "outputs": [
    {
     "data": {
      "text/plain": [
       "array([8208,   43,   21,   15,    6,    4,    7,    5,    1,    2,    3,\n",
       "          4,    0,    0,    0,    0,    0,    0,    0,    0,    0,    0,\n",
       "          0,    0,    0,    0,    0,    0,    0,    0,    0,    0,    0,\n",
       "          0,    0,    0,    0,    0,    0,    0,    0,    0,    0,    0,\n",
       "          0,    0,    0,    0,    0,    0,    0,    0,    0,    0,    0,\n",
       "          0,    0,    0,    0,    0,    0,    0,    0,    0,    0,    0,\n",
       "          0,    0,    0,    0,    0,    0,    0,    0,    0,    0,    0,\n",
       "          0,    0,    0,    0,    0,    0,    0,    0,    0,    0,    0,\n",
       "          0,    0,    0,    0,    0,    0,    0,    0,    0,    0,    0,\n",
       "          0,    0,    0,    0,    0,    0,    0,    0,    0,    0,    0,\n",
       "          0,    0,    0,    0,    0,    0,    0,    0,    0,    0,    0,\n",
       "          0,    0,    0,    0,    0,    0,    0,    0,    0,    0,    0,\n",
       "          0,    0,    0,    0,    0,    0,    0,    0,    0,    0,    0,\n",
       "          0,    0,    0,    0,    0,    0,    0,    0,    0,    0,    0,\n",
       "          0,    0,    0,    0,    0,    0,    0,    0,    0,    0,    0,\n",
       "          0,    0,    0,    0,    0,    0,    0,    0,    0,    0,    0,\n",
       "          0,    0,    0,    0,    0,    0,    0,    0,    0,    0,    0,\n",
       "          0,    0,    0,    0,    0,    0,    0,    0,    0,    0,    0,\n",
       "          0,    0,    0,    0,    0,    0,    0,    0,    0,    0,    0,\n",
       "          0,    0,    0,    0,    0,    0,    0,    0,    0,    0,    0,\n",
       "          0,    0,    0,    0,    0,    0,    0,    0,    0,    0,    0,\n",
       "          0,    0,    0,    0,    0,    0,    0,    0,    0,    0,    0,\n",
       "          0,    0,    0,    0,    1,    0,    0,    0,    0,    0,    1])"
      ]
     },
     "execution_count": 107,
     "metadata": {},
     "output_type": "execute_result"
    }
   ],
   "source": [
    "np.bincount(dc2_visits_block1.sort_values(by='night').night.diff()[1:].astype(np.int))"
   ]
  },
  {
   "cell_type": "code",
   "execution_count": 71,
   "metadata": {},
   "outputs": [
    {
     "name": "stdout",
     "output_type": "stream",
     "text": [
      "expMJD,filter,night,rawSeeing\r\n",
      "61235.391948194854,r,1655.0,0.535141\r\n",
      "61235.39238800967,r,1655.0,0.535141\r\n",
      "61235.392827824486,r,1655.0,0.535141\r\n",
      "61235.3932676393,r,1655.0,0.535141\r\n",
      "61235.39370745411,r,1655.0,0.535141\r\n",
      "61235.394147268926,r,1655.0,0.535141\r\n",
      "61235.39458708374,r,1655.0,0.535141\r\n",
      "61235.39502689856,r,1655.0,0.535141\r\n",
      "61235.39546671337,r,1655.0,0.535141\r\n"
     ]
    }
   ],
   "source": [
    "!head dc2_block1.csv"
   ]
  },
  {
   "cell_type": "markdown",
   "metadata": {},
   "source": [
    "# Scratch"
   ]
  },
  {
   "cell_type": "code",
   "execution_count": null,
   "metadata": {},
   "outputs": [],
   "source": []
  },
  {
   "cell_type": "code",
   "execution_count": null,
   "metadata": {},
   "outputs": [],
   "source": []
  },
  {
   "cell_type": "code",
   "execution_count": 182,
   "metadata": {},
   "outputs": [],
   "source": [
    "dc2_visits_block1 = op.dc2_visits(st_times.iloc[0], 1)"
   ]
  },
  {
   "cell_type": "code",
   "execution_count": null,
   "metadata": {},
   "outputs": [],
   "source": []
  },
  {
   "cell_type": "code",
   "execution_count": 140,
   "metadata": {},
   "outputs": [
    {
     "data": {
      "text/plain": [
       "62330.31910791294"
      ]
     },
     "execution_count": 140,
     "metadata": {},
     "output_type": "execute_result"
    }
   ],
   "source": [
    "st_times.iloc[0]"
   ]
  },
  {
   "cell_type": "code",
   "execution_count": 68,
   "metadata": {},
   "outputs": [],
   "source": [
    "dc2_visits_block2.to_csv('dc2_visits_block2.csv')"
   ]
  },
  {
   "cell_type": "code",
   "execution_count": 138,
   "metadata": {},
   "outputs": [
    {
     "data": {
      "text/plain": [
       "0     62330.319108\n",
       "1     62330.319548\n",
       "2     62330.319988\n",
       "3     62330.320427\n",
       "14    62330.320867\n",
       "4     62330.320867\n",
       "5     62330.321307\n",
       "6     62330.321747\n",
       "13    62330.321851\n",
       "7     62330.322187\n",
       "15    62330.322603\n",
       "8     62330.322626\n",
       "16    62330.322655\n",
       "17    62330.322706\n",
       "18    62330.322758\n",
       "19    62330.322809\n",
       "12    62330.322835\n",
       "20    62330.322860\n",
       "21    62330.322912\n",
       "22    62330.322963\n",
       "23    62330.323015\n",
       "47    62330.323066\n",
       "9     62330.323066\n",
       "24    62330.323066\n",
       "46    62330.323406\n",
       "45    62330.323745\n",
       "11    62330.323819\n",
       "44    62330.324085\n",
       "37    62330.324386\n",
       "36    62330.324420\n",
       "43    62330.324424\n",
       "35    62330.324455\n",
       "34    62330.324490\n",
       "33    62330.324525\n",
       "32    62330.324559\n",
       "31    62330.324594\n",
       "30    62330.324629\n",
       "29    62330.324663\n",
       "28    62330.324698\n",
       "27    62330.324733\n",
       "42    62330.324764\n",
       "26    62330.324768\n",
       "25    62330.324802\n",
       "10    62330.324802\n",
       "41    62330.325103\n",
       "40    62330.325443\n",
       "39    62330.325782\n",
       "38    62330.326122\n",
       "Name: expMJD, dtype: float64"
      ]
     },
     "execution_count": 138,
     "metadata": {},
     "output_type": "execute_result"
    }
   ],
   "source": [
    "dc2_visits_block2[0].sort_values(by='expMJD').expMJD"
   ]
  },
  {
   "cell_type": "code",
   "execution_count": 41,
   "metadata": {},
   "outputs": [],
   "source": [
    "dc2_visits_block2 = ObservationPotential.dc2_visits(st_times, year_block=2, delta=1)"
   ]
  },
  {
   "cell_type": "code",
   "execution_count": 42,
   "metadata": {},
   "outputs": [
    {
     "data": {
      "text/html": [
       "<div>\n",
       "<style scoped>\n",
       "    .dataframe tbody tr th:only-of-type {\n",
       "        vertical-align: middle;\n",
       "    }\n",
       "\n",
       "    .dataframe tbody tr th {\n",
       "        vertical-align: top;\n",
       "    }\n",
       "\n",
       "    .dataframe thead th {\n",
       "        text-align: right;\n",
       "    }\n",
       "</style>\n",
       "<table border=\"1\" class=\"dataframe\">\n",
       "  <thead>\n",
       "    <tr style=\"text-align: right;\">\n",
       "      <th></th>\n",
       "      <th>expMJD</th>\n",
       "      <th>filter</th>\n",
       "      <th>night</th>\n",
       "    </tr>\n",
       "  </thead>\n",
       "  <tbody>\n",
       "    <tr>\n",
       "      <th>0</th>\n",
       "      <td>62330.262845</td>\n",
       "      <td>r</td>\n",
       "      <td>2750.0</td>\n",
       "    </tr>\n",
       "    <tr>\n",
       "      <th>1</th>\n",
       "      <td>62330.263285</td>\n",
       "      <td>r</td>\n",
       "      <td>2750.0</td>\n",
       "    </tr>\n",
       "    <tr>\n",
       "      <th>2</th>\n",
       "      <td>62330.263725</td>\n",
       "      <td>r</td>\n",
       "      <td>2750.0</td>\n",
       "    </tr>\n",
       "    <tr>\n",
       "      <th>3</th>\n",
       "      <td>62330.264165</td>\n",
       "      <td>r</td>\n",
       "      <td>2750.0</td>\n",
       "    </tr>\n",
       "    <tr>\n",
       "      <th>4</th>\n",
       "      <td>62330.264605</td>\n",
       "      <td>r</td>\n",
       "      <td>2750.0</td>\n",
       "    </tr>\n",
       "  </tbody>\n",
       "</table>\n",
       "</div>"
      ],
      "text/plain": [
       "         expMJD filter   night\n",
       "0  62330.262845      r  2750.0\n",
       "1  62330.263285      r  2750.0\n",
       "2  62330.263725      r  2750.0\n",
       "3  62330.264165      r  2750.0\n",
       "4  62330.264605      r  2750.0"
      ]
     },
     "execution_count": 42,
     "metadata": {},
     "output_type": "execute_result"
    }
   ],
   "source": [
    "dc2_visits_block2.head()"
   ]
  },
  {
   "cell_type": "code",
   "execution_count": 48,
   "metadata": {},
   "outputs": [
    {
     "data": {
      "text/plain": [
       "37.99999945331365"
      ]
     },
     "execution_count": 48,
     "metadata": {},
     "output_type": "execute_result"
    }
   ],
   "source": [
    "dc2_visits_block2.sort_values(by='expMJD').expMJD.diff().min()*24*60*60"
   ]
  },
  {
   "cell_type": "code",
   "execution_count": 50,
   "metadata": {},
   "outputs": [
    {
     "data": {
      "text/html": [
       "<div>\n",
       "<style scoped>\n",
       "    .dataframe tbody tr th:only-of-type {\n",
       "        vertical-align: middle;\n",
       "    }\n",
       "\n",
       "    .dataframe tbody tr th {\n",
       "        vertical-align: top;\n",
       "    }\n",
       "\n",
       "    .dataframe thead th {\n",
       "        text-align: right;\n",
       "    }\n",
       "</style>\n",
       "<table border=\"1\" class=\"dataframe\">\n",
       "  <thead>\n",
       "    <tr style=\"text-align: right;\">\n",
       "      <th></th>\n",
       "      <th>night</th>\n",
       "    </tr>\n",
       "    <tr>\n",
       "      <th>filter</th>\n",
       "      <th></th>\n",
       "    </tr>\n",
       "  </thead>\n",
       "  <tbody>\n",
       "    <tr>\n",
       "      <th>g</th>\n",
       "      <td>610</td>\n",
       "    </tr>\n",
       "    <tr>\n",
       "      <th>i</th>\n",
       "      <td>1220</td>\n",
       "    </tr>\n",
       "    <tr>\n",
       "      <th>r</th>\n",
       "      <td>1220</td>\n",
       "    </tr>\n",
       "    <tr>\n",
       "      <th>y</th>\n",
       "      <td>1220</td>\n",
       "    </tr>\n",
       "    <tr>\n",
       "      <th>z</th>\n",
       "      <td>1586</td>\n",
       "    </tr>\n",
       "  </tbody>\n",
       "</table>\n",
       "</div>"
      ],
      "text/plain": [
       "        night\n",
       "filter       \n",
       "g         610\n",
       "i        1220\n",
       "r        1220\n",
       "y        1220\n",
       "z        1586"
      ]
     },
     "execution_count": 50,
     "metadata": {},
     "output_type": "execute_result"
    }
   ],
   "source": [
    "dc2_visits_block2.groupby('filter').agg(dict(night='count'))"
   ]
  },
  {
   "cell_type": "code",
   "execution_count": 62,
   "metadata": {},
   "outputs": [],
   "source": [
    "minion_block2 = synopsim.pointings.query('night > 365 *7 and filter != \"u\" and fieldID == 1427')"
   ]
  },
  {
   "cell_type": "code",
   "execution_count": 63,
   "metadata": {},
   "outputs": [
    {
     "data": {
      "text/plain": [
       "5"
      ]
     },
     "execution_count": 63,
     "metadata": {},
     "output_type": "execute_result"
    }
   ],
   "source": [
    "minion_block2['filter'].unique().size"
   ]
  },
  {
   "cell_type": "code",
   "execution_count": 67,
   "metadata": {},
   "outputs": [
    {
     "data": {
      "text/html": [
       "<div>\n",
       "<style scoped>\n",
       "    .dataframe tbody tr th:only-of-type {\n",
       "        vertical-align: middle;\n",
       "    }\n",
       "\n",
       "    .dataframe tbody tr th {\n",
       "        vertical-align: top;\n",
       "    }\n",
       "\n",
       "    .dataframe thead th {\n",
       "        text-align: right;\n",
       "    }\n",
       "</style>\n",
       "<table border=\"1\" class=\"dataframe\">\n",
       "  <thead>\n",
       "    <tr style=\"text-align: right;\">\n",
       "      <th></th>\n",
       "      <th></th>\n",
       "      <th>expMJD</th>\n",
       "    </tr>\n",
       "    <tr>\n",
       "      <th>night</th>\n",
       "      <th>filter</th>\n",
       "      <th></th>\n",
       "    </tr>\n",
       "  </thead>\n",
       "  <tbody>\n",
       "    <tr>\n",
       "      <th rowspan=\"5\" valign=\"top\">2750.0</th>\n",
       "      <th>g</th>\n",
       "      <td>5</td>\n",
       "    </tr>\n",
       "    <tr>\n",
       "      <th>i</th>\n",
       "      <td>10</td>\n",
       "    </tr>\n",
       "    <tr>\n",
       "      <th>r</th>\n",
       "      <td>10</td>\n",
       "    </tr>\n",
       "    <tr>\n",
       "      <th>y</th>\n",
       "      <td>10</td>\n",
       "    </tr>\n",
       "    <tr>\n",
       "      <th>z</th>\n",
       "      <td>13</td>\n",
       "    </tr>\n",
       "    <tr>\n",
       "      <th rowspan=\"5\" valign=\"top\">2754.0</th>\n",
       "      <th>g</th>\n",
       "      <td>5</td>\n",
       "    </tr>\n",
       "    <tr>\n",
       "      <th>i</th>\n",
       "      <td>10</td>\n",
       "    </tr>\n",
       "    <tr>\n",
       "      <th>r</th>\n",
       "      <td>10</td>\n",
       "    </tr>\n",
       "    <tr>\n",
       "      <th>y</th>\n",
       "      <td>10</td>\n",
       "    </tr>\n",
       "    <tr>\n",
       "      <th>z</th>\n",
       "      <td>13</td>\n",
       "    </tr>\n",
       "    <tr>\n",
       "      <th rowspan=\"5\" valign=\"top\">2761.0</th>\n",
       "      <th>g</th>\n",
       "      <td>5</td>\n",
       "    </tr>\n",
       "    <tr>\n",
       "      <th>i</th>\n",
       "      <td>10</td>\n",
       "    </tr>\n",
       "    <tr>\n",
       "      <th>r</th>\n",
       "      <td>10</td>\n",
       "    </tr>\n",
       "    <tr>\n",
       "      <th>y</th>\n",
       "      <td>10</td>\n",
       "    </tr>\n",
       "    <tr>\n",
       "      <th>z</th>\n",
       "      <td>13</td>\n",
       "    </tr>\n",
       "    <tr>\n",
       "      <th rowspan=\"5\" valign=\"top\">2762.0</th>\n",
       "      <th>g</th>\n",
       "      <td>5</td>\n",
       "    </tr>\n",
       "    <tr>\n",
       "      <th>i</th>\n",
       "      <td>10</td>\n",
       "    </tr>\n",
       "    <tr>\n",
       "      <th>r</th>\n",
       "      <td>10</td>\n",
       "    </tr>\n",
       "    <tr>\n",
       "      <th>y</th>\n",
       "      <td>10</td>\n",
       "    </tr>\n",
       "    <tr>\n",
       "      <th>z</th>\n",
       "      <td>13</td>\n",
       "    </tr>\n",
       "    <tr>\n",
       "      <th rowspan=\"5\" valign=\"top\">2769.0</th>\n",
       "      <th>g</th>\n",
       "      <td>5</td>\n",
       "    </tr>\n",
       "    <tr>\n",
       "      <th>i</th>\n",
       "      <td>10</td>\n",
       "    </tr>\n",
       "    <tr>\n",
       "      <th>r</th>\n",
       "      <td>10</td>\n",
       "    </tr>\n",
       "    <tr>\n",
       "      <th>y</th>\n",
       "      <td>10</td>\n",
       "    </tr>\n",
       "    <tr>\n",
       "      <th>z</th>\n",
       "      <td>13</td>\n",
       "    </tr>\n",
       "    <tr>\n",
       "      <th rowspan=\"5\" valign=\"top\">2771.0</th>\n",
       "      <th>g</th>\n",
       "      <td>5</td>\n",
       "    </tr>\n",
       "    <tr>\n",
       "      <th>i</th>\n",
       "      <td>10</td>\n",
       "    </tr>\n",
       "    <tr>\n",
       "      <th>r</th>\n",
       "      <td>10</td>\n",
       "    </tr>\n",
       "    <tr>\n",
       "      <th>y</th>\n",
       "      <td>10</td>\n",
       "    </tr>\n",
       "    <tr>\n",
       "      <th>z</th>\n",
       "      <td>13</td>\n",
       "    </tr>\n",
       "    <tr>\n",
       "      <th>...</th>\n",
       "      <th>...</th>\n",
       "      <td>...</td>\n",
       "    </tr>\n",
       "    <tr>\n",
       "      <th rowspan=\"5\" valign=\"top\">3594.0</th>\n",
       "      <th>g</th>\n",
       "      <td>5</td>\n",
       "    </tr>\n",
       "    <tr>\n",
       "      <th>i</th>\n",
       "      <td>10</td>\n",
       "    </tr>\n",
       "    <tr>\n",
       "      <th>r</th>\n",
       "      <td>10</td>\n",
       "    </tr>\n",
       "    <tr>\n",
       "      <th>y</th>\n",
       "      <td>10</td>\n",
       "    </tr>\n",
       "    <tr>\n",
       "      <th>z</th>\n",
       "      <td>13</td>\n",
       "    </tr>\n",
       "    <tr>\n",
       "      <th rowspan=\"5\" valign=\"top\">3595.0</th>\n",
       "      <th>g</th>\n",
       "      <td>5</td>\n",
       "    </tr>\n",
       "    <tr>\n",
       "      <th>i</th>\n",
       "      <td>10</td>\n",
       "    </tr>\n",
       "    <tr>\n",
       "      <th>r</th>\n",
       "      <td>10</td>\n",
       "    </tr>\n",
       "    <tr>\n",
       "      <th>y</th>\n",
       "      <td>10</td>\n",
       "    </tr>\n",
       "    <tr>\n",
       "      <th>z</th>\n",
       "      <td>13</td>\n",
       "    </tr>\n",
       "    <tr>\n",
       "      <th rowspan=\"5\" valign=\"top\">3596.0</th>\n",
       "      <th>g</th>\n",
       "      <td>5</td>\n",
       "    </tr>\n",
       "    <tr>\n",
       "      <th>i</th>\n",
       "      <td>10</td>\n",
       "    </tr>\n",
       "    <tr>\n",
       "      <th>r</th>\n",
       "      <td>10</td>\n",
       "    </tr>\n",
       "    <tr>\n",
       "      <th>y</th>\n",
       "      <td>10</td>\n",
       "    </tr>\n",
       "    <tr>\n",
       "      <th>z</th>\n",
       "      <td>13</td>\n",
       "    </tr>\n",
       "    <tr>\n",
       "      <th rowspan=\"5\" valign=\"top\">3597.0</th>\n",
       "      <th>g</th>\n",
       "      <td>5</td>\n",
       "    </tr>\n",
       "    <tr>\n",
       "      <th>i</th>\n",
       "      <td>10</td>\n",
       "    </tr>\n",
       "    <tr>\n",
       "      <th>r</th>\n",
       "      <td>10</td>\n",
       "    </tr>\n",
       "    <tr>\n",
       "      <th>y</th>\n",
       "      <td>10</td>\n",
       "    </tr>\n",
       "    <tr>\n",
       "      <th>z</th>\n",
       "      <td>13</td>\n",
       "    </tr>\n",
       "    <tr>\n",
       "      <th rowspan=\"5\" valign=\"top\">3598.0</th>\n",
       "      <th>g</th>\n",
       "      <td>5</td>\n",
       "    </tr>\n",
       "    <tr>\n",
       "      <th>i</th>\n",
       "      <td>10</td>\n",
       "    </tr>\n",
       "    <tr>\n",
       "      <th>r</th>\n",
       "      <td>10</td>\n",
       "    </tr>\n",
       "    <tr>\n",
       "      <th>y</th>\n",
       "      <td>10</td>\n",
       "    </tr>\n",
       "    <tr>\n",
       "      <th>z</th>\n",
       "      <td>13</td>\n",
       "    </tr>\n",
       "    <tr>\n",
       "      <th rowspan=\"5\" valign=\"top\">3600.0</th>\n",
       "      <th>g</th>\n",
       "      <td>5</td>\n",
       "    </tr>\n",
       "    <tr>\n",
       "      <th>i</th>\n",
       "      <td>10</td>\n",
       "    </tr>\n",
       "    <tr>\n",
       "      <th>r</th>\n",
       "      <td>10</td>\n",
       "    </tr>\n",
       "    <tr>\n",
       "      <th>y</th>\n",
       "      <td>10</td>\n",
       "    </tr>\n",
       "    <tr>\n",
       "      <th>z</th>\n",
       "      <td>13</td>\n",
       "    </tr>\n",
       "  </tbody>\n",
       "</table>\n",
       "<p>610 rows × 1 columns</p>\n",
       "</div>"
      ],
      "text/plain": [
       "               expMJD\n",
       "night  filter        \n",
       "2750.0 g            5\n",
       "       i           10\n",
       "       r           10\n",
       "       y           10\n",
       "       z           13\n",
       "2754.0 g            5\n",
       "       i           10\n",
       "       r           10\n",
       "       y           10\n",
       "       z           13\n",
       "2761.0 g            5\n",
       "       i           10\n",
       "       r           10\n",
       "       y           10\n",
       "       z           13\n",
       "2762.0 g            5\n",
       "       i           10\n",
       "       r           10\n",
       "       y           10\n",
       "       z           13\n",
       "2769.0 g            5\n",
       "       i           10\n",
       "       r           10\n",
       "       y           10\n",
       "       z           13\n",
       "2771.0 g            5\n",
       "       i           10\n",
       "       r           10\n",
       "       y           10\n",
       "       z           13\n",
       "...               ...\n",
       "3594.0 g            5\n",
       "       i           10\n",
       "       r           10\n",
       "       y           10\n",
       "       z           13\n",
       "3595.0 g            5\n",
       "       i           10\n",
       "       r           10\n",
       "       y           10\n",
       "       z           13\n",
       "3596.0 g            5\n",
       "       i           10\n",
       "       r           10\n",
       "       y           10\n",
       "       z           13\n",
       "3597.0 g            5\n",
       "       i           10\n",
       "       r           10\n",
       "       y           10\n",
       "       z           13\n",
       "3598.0 g            5\n",
       "       i           10\n",
       "       r           10\n",
       "       y           10\n",
       "       z           13\n",
       "3600.0 g            5\n",
       "       i           10\n",
       "       r           10\n",
       "       y           10\n",
       "       z           13\n",
       "\n",
       "[610 rows x 1 columns]"
      ]
     },
     "execution_count": 67,
     "metadata": {},
     "output_type": "execute_result"
    }
   ],
   "source": [
    "dc2_visits_block2.groupby(['night', 'filter']).agg(dict(expMJD='count'))"
   ]
  },
  {
   "cell_type": "code",
   "execution_count": 59,
   "metadata": {},
   "outputs": [
    {
     "data": {
      "text/plain": [
       "122"
      ]
     },
     "execution_count": 59,
     "metadata": {},
     "output_type": "execute_result"
    }
   ],
   "source": [
    "dc2_visits_block2.night.unique().size"
   ]
  },
  {
   "cell_type": "code",
   "execution_count": 64,
   "metadata": {},
   "outputs": [
    {
     "data": {
      "text/html": [
       "<div>\n",
       "<style scoped>\n",
       "    .dataframe tbody tr th:only-of-type {\n",
       "        vertical-align: middle;\n",
       "    }\n",
       "\n",
       "    .dataframe tbody tr th {\n",
       "        vertical-align: top;\n",
       "    }\n",
       "\n",
       "    .dataframe thead th {\n",
       "        text-align: right;\n",
       "    }\n",
       "</style>\n",
       "<table border=\"1\" class=\"dataframe\">\n",
       "  <thead>\n",
       "    <tr style=\"text-align: right;\">\n",
       "      <th></th>\n",
       "      <th>night</th>\n",
       "    </tr>\n",
       "    <tr>\n",
       "      <th>filter</th>\n",
       "      <th></th>\n",
       "    </tr>\n",
       "  </thead>\n",
       "  <tbody>\n",
       "    <tr>\n",
       "      <th>g</th>\n",
       "      <td>591</td>\n",
       "    </tr>\n",
       "    <tr>\n",
       "      <th>i</th>\n",
       "      <td>1180</td>\n",
       "    </tr>\n",
       "    <tr>\n",
       "      <th>r</th>\n",
       "      <td>1215</td>\n",
       "    </tr>\n",
       "    <tr>\n",
       "      <th>y</th>\n",
       "      <td>1142</td>\n",
       "    </tr>\n",
       "    <tr>\n",
       "      <th>z</th>\n",
       "      <td>1534</td>\n",
       "    </tr>\n",
       "  </tbody>\n",
       "</table>\n",
       "</div>"
      ],
      "text/plain": [
       "        night\n",
       "filter       \n",
       "g         591\n",
       "i        1180\n",
       "r        1215\n",
       "y        1142\n",
       "z        1534"
      ]
     },
     "execution_count": 64,
     "metadata": {},
     "output_type": "execute_result"
    }
   ],
   "source": [
    "minion_block2.groupby('filter').agg(dict(night='count'))"
   ]
  },
  {
   "cell_type": "code",
   "execution_count": 65,
   "metadata": {},
   "outputs": [
    {
     "data": {
      "text/plain": [
       "5662"
      ]
     },
     "execution_count": 65,
     "metadata": {},
     "output_type": "execute_result"
    }
   ],
   "source": [
    "len(minion_block2)"
   ]
  },
  {
   "cell_type": "code",
   "execution_count": 66,
   "metadata": {},
   "outputs": [
    {
     "data": {
      "text/plain": [
       "5856"
      ]
     },
     "execution_count": 66,
     "metadata": {},
     "output_type": "execute_result"
    }
   ],
   "source": [
    "len(dc2_visits_block2)"
   ]
  },
  {
   "cell_type": "code",
   "execution_count": 120,
   "metadata": {},
   "outputs": [
    {
     "ename": "AttributeError",
     "evalue": "'tuple' object has no attribute 'sort_values'",
     "output_type": "error",
     "traceback": [
      "\u001b[0;31m---------------------------------------------------------------------------\u001b[0m",
      "\u001b[0;31mAttributeError\u001b[0m                            Traceback (most recent call last)",
      "\u001b[0;32m<ipython-input-120-ec48cf561a22>\u001b[0m in \u001b[0;36m<module>\u001b[0;34m\u001b[0m\n\u001b[0;32m----> 1\u001b[0;31m \u001b[0mdc2_visits_block2\u001b[0m\u001b[0;34m.\u001b[0m\u001b[0msort_values\u001b[0m\u001b[0;34m(\u001b[0m\u001b[0mby\u001b[0m\u001b[0;34m=\u001b[0m\u001b[0;34m'expMJD'\u001b[0m\u001b[0;34m)\u001b[0m\u001b[0;34m.\u001b[0m\u001b[0mexpMJD\u001b[0m\u001b[0;34m\u001b[0m\u001b[0m\n\u001b[0m",
      "\u001b[0;31mAttributeError\u001b[0m: 'tuple' object has no attribute 'sort_values'"
     ]
    }
   ],
   "source": [
    "dc2_visits_block2.sort_values(by='expMJD').expMJD"
   ]
  },
  {
   "cell_type": "code",
   "execution_count": 99,
   "metadata": {},
   "outputs": [],
   "source": [
    "vals = dc2_visits_block2.sort_values(by='expMJD').expMJD.diff()*24.0*60.* 60."
   ]
  },
  {
   "cell_type": "code",
   "execution_count": 82,
   "metadata": {},
   "outputs": [
    {
     "data": {
      "text/plain": [
       "night\n",
       "2750    62330.319108\n",
       "2754    62334.377036\n",
       "2761    62341.294386\n",
       "2762    62342.362502\n",
       "2769    62349.355503\n",
       "2771    62351.208782\n",
       "2773    62353.288746\n",
       "2774    62354.271757\n",
       "2776    62356.213810\n",
       "2782    62362.251942\n",
       "2783    62363.259288\n",
       "2784    62364.222906\n",
       "2786    62366.141025\n",
       "2788    62368.256541\n",
       "2789    62369.296038\n",
       "2790    62370.141528\n",
       "2797    62377.148752\n",
       "2798    62378.258787\n",
       "2799    62379.183944\n",
       "2803    62383.316846\n",
       "2809    62389.275081\n",
       "2813    62393.120107\n",
       "2815    62395.110192\n",
       "2817    62397.225695\n",
       "2823    62403.077466\n",
       "2825    62405.160939\n",
       "2826    62406.278937\n",
       "2829    62409.058003\n",
       "2833    62413.022593\n",
       "2834    62414.234279\n",
       "            ...     \n",
       "3507    63087.275316\n",
       "3509    63089.335837\n",
       "3511    63091.359990\n",
       "3514    63094.197364\n",
       "3516    63096.316612\n",
       "3518    63098.197386\n",
       "3524    63104.260589\n",
       "3528    63108.141025\n",
       "3534    63114.184773\n",
       "3535    63115.109084\n",
       "3540    63120.202137\n",
       "3542    63122.244014\n",
       "3547    63127.170755\n",
       "3548    63128.143852\n",
       "3555    63135.239166\n",
       "3561    63141.028913\n",
       "3564    63144.106796\n",
       "3571    63151.105549\n",
       "3572    63152.173520\n",
       "3588    63168.178015\n",
       "3589    63169.053056\n",
       "3590    63170.155607\n",
       "3591    63171.123301\n",
       "3593    63173.003429\n",
       "3594    63174.132306\n",
       "3595    63175.107555\n",
       "3596    63176.119173\n",
       "3597    63177.101497\n",
       "3598    63178.098460\n",
       "3600    63180.062662\n",
       "Length: 122, dtype: float64"
      ]
     },
     "execution_count": 82,
     "metadata": {},
     "output_type": "execute_result"
    }
   ],
   "source": [
    "st_times"
   ]
  },
  {
   "cell_type": "code",
   "execution_count": null,
   "metadata": {},
   "outputs": [],
   "source": [
    "op.nightStats"
   ]
  },
  {
   "cell_type": "code",
   "execution_count": 31,
   "metadata": {},
   "outputs": [
    {
     "data": {
      "text/plain": [
       "653"
      ]
     },
     "execution_count": 31,
     "metadata": {},
     "output_type": "execute_result"
    }
   ],
   "source": [
    "availabletimes.night.unique().size"
   ]
  },
  {
   "cell_type": "code",
   "execution_count": 32,
   "metadata": {},
   "outputs": [
    {
     "data": {
      "text/plain": [
       "302"
      ]
     },
     "execution_count": 32,
     "metadata": {},
     "output_type": "execute_result"
    }
   ],
   "source": [
    "availabletimes.query('night not in @shortnights').night.unique().size"
   ]
  },
  {
   "cell_type": "code",
   "execution_count": 75,
   "metadata": {},
   "outputs": [
    {
     "data": {
      "text/plain": [
       "269"
      ]
     },
     "execution_count": 75,
     "metadata": {},
     "output_type": "execute_result"
    }
   ],
   "source": [
    "len(target_nights)"
   ]
  },
  {
   "cell_type": "code",
   "execution_count": 77,
   "metadata": {},
   "outputs": [
    {
     "name": "stdout",
     "output_type": "stream",
     "text": [
      "2.2049180327868854\n"
     ]
    }
   ],
   "source": [
    "expected_cadence = target_nights.size / np.float(required_nights)\n",
    "print(expected_cadence)"
   ]
  },
  {
   "cell_type": "code",
   "execution_count": 37,
   "metadata": {},
   "outputs": [
    {
     "data": {
      "text/plain": [
       "269"
      ]
     },
     "execution_count": 37,
     "metadata": {},
     "output_type": "execute_result"
    }
   ],
   "source": [
    "targets.night.unique().size"
   ]
  },
  {
   "cell_type": "code",
   "execution_count": 38,
   "metadata": {},
   "outputs": [],
   "source": [
    "rng = np.random.RandomState(1)\n",
    "target_nights.sort()\n",
    "chosen_nights = rng.choice(target_nights, replace=False, size=required_nights)\n",
    "chosen_nights.sort()"
   ]
  },
  {
   "cell_type": "code",
   "execution_count": 39,
   "metadata": {},
   "outputs": [
    {
     "data": {
      "text/plain": [
       "122"
      ]
     },
     "execution_count": 39,
     "metadata": {},
     "output_type": "execute_result"
    }
   ],
   "source": [
    "chosen_nights.size"
   ]
  },
  {
   "cell_type": "code",
   "execution_count": null,
   "metadata": {},
   "outputs": [],
   "source": [
    "chosen_nights"
   ]
  },
  {
   "cell_type": "code",
   "execution_count": null,
   "metadata": {},
   "outputs": [],
   "source": [
    "st_times = op.start_times(nigh)"
   ]
  },
  {
   "cell_type": "code",
   "execution_count": 40,
   "metadata": {},
   "outputs": [
    {
     "data": {
      "text/plain": [
       "array([2800, 2813, 2828, 2831, 2843, 2845, 2848, 2856, 2859, 2862, 2872,\n",
       "       2875, 2878, 2884, 2887, 2892, 2902, 2905, 2914, 2917, 2920, 3167,\n",
       "       3170, 3173, 3182, 3185, 3197, 3200, 3202, 3210, 3213, 3216, 3228,\n",
       "       3232, 3239, 3242, 3245, 3255, 3258, 3270, 3273, 3276, 3285, 3288,\n",
       "       3537, 3541, 3551, 3556, 3565, 3568, 3571, 3582, 3585, 3601, 3611,\n",
       "       3614, 3623, 3626, 3629, 3640, 3643])"
      ]
     },
     "execution_count": 40,
     "metadata": {},
     "output_type": "execute_result"
    }
   ],
   "source": [
    "baseline_nights"
   ]
  },
  {
   "cell_type": "code",
   "execution_count": 41,
   "metadata": {},
   "outputs": [
    {
     "data": {
      "text/plain": [
       "Int64Index([2555, 2556, 2557, 2558, 2559, 2560, 2561, 2562, 2563, 2564, 2565,\n",
       "            2566, 2567, 2568, 2569, 2570, 2680, 2686, 2687, 2688, 2689, 2690,\n",
       "            2691, 2692, 2693, 2694, 2695, 2696, 2697, 2698, 2699, 2700, 2701,\n",
       "            2702, 2703, 2704, 2705, 2706, 2707, 2708],\n",
       "           dtype='int64', name='night')"
      ]
     },
     "execution_count": 41,
     "metadata": {},
     "output_type": "execute_result"
    }
   ],
   "source": [
    "shortnights[:40]"
   ]
  },
  {
   "cell_type": "code",
   "execution_count": 42,
   "metadata": {},
   "outputs": [
    {
     "data": {
      "text/plain": [
       "array([2750, 2751, 2752, 2753, 2754, 2755, 2756, 2757, 2758, 2759, 2760,\n",
       "       2761, 2762, 2768, 2769, 2770, 2771, 2772, 2773, 2774, 2775, 2776,\n",
       "       2777, 2778, 2779, 2780, 2781, 2782, 2783, 2784, 2785, 2786, 2787,\n",
       "       2788, 2789, 2790, 2795, 2796, 2797, 2798, 2799, 2800, 2801, 2802,\n",
       "       2803, 2804, 2808, 2809, 2810, 2811, 2812, 2813, 2814, 2815, 2816,\n",
       "       2817, 2823, 2824, 2825, 2826, 2827, 2828, 2829, 2830, 2831, 2832,\n",
       "       2833, 2834, 2842, 2843, 2844, 2850, 2851, 2852, 2853, 2854, 2855,\n",
       "       2856, 2857, 2858, 2859, 2860, 2861, 2862, 2863, 2864, 2865, 2866,\n",
       "       2867, 2868, 2869, 3116, 3117, 3118, 3123, 3124, 3125, 3126, 3127,\n",
       "       3128, 3129, 3130, 3131, 3132, 3133, 3134, 3135, 3136, 3137, 3138,\n",
       "       3139, 3140, 3141, 3142, 3143, 3144, 3145, 3150, 3151, 3152, 3153,\n",
       "       3154, 3155, 3156, 3157, 3158, 3159, 3160, 3161, 3162, 3163, 3164,\n",
       "       3165, 3166, 3167, 3168, 3169, 3170, 3171, 3172, 3178, 3179, 3180,\n",
       "       3181, 3182, 3183, 3184, 3185, 3186, 3187, 3188, 3196, 3197, 3198,\n",
       "       3199, 3200, 3205, 3206, 3207, 3208, 3209, 3210, 3211, 3212, 3213,\n",
       "       3214, 3215, 3216, 3217, 3218, 3225, 3226, 3227, 3233, 3234, 3481,\n",
       "       3482, 3483, 3484, 3485, 3486, 3487, 3488, 3489, 3490, 3491, 3492,\n",
       "       3493, 3494, 3495, 3496, 3497, 3498, 3499, 3500, 3505, 3506, 3507,\n",
       "       3508, 3509, 3510, 3511, 3512, 3513, 3514, 3515, 3516, 3517, 3518,\n",
       "       3519, 3520, 3521, 3522, 3523, 3524, 3525, 3526, 3527, 3528, 3533,\n",
       "       3534, 3535, 3536, 3537, 3538, 3539, 3540, 3541, 3542, 3543, 3547,\n",
       "       3548, 3549, 3550, 3551, 3552, 3553, 3554, 3555, 3560, 3561, 3562,\n",
       "       3563, 3564, 3565, 3566, 3567, 3568, 3569, 3570, 3571, 3572, 3580,\n",
       "       3581, 3582, 3583, 3588, 3589, 3590, 3591, 3592, 3593, 3594, 3595,\n",
       "       3596, 3597, 3598, 3599, 3600])"
      ]
     },
     "execution_count": 42,
     "metadata": {},
     "output_type": "execute_result"
    }
   ],
   "source": [
    "target_nights"
   ]
  },
  {
   "cell_type": "code",
   "execution_count": 43,
   "metadata": {},
   "outputs": [
    {
     "data": {
      "text/plain": [
       "array([2805, 2806, 2807, 2835, 2836, 2837, 2838, 2839, 2840, 2841, 2893,\n",
       "       2894, 2895, 2896, 2897, 2898, 2899, 2922, 2923, 2924, 2925, 2926,\n",
       "       2927, 2928, 3189, 3190, 3191, 3192, 3193, 3194, 3195, 3219, 3220,\n",
       "       3221, 3222, 3223, 3224, 3247, 3248, 3249, 3250, 3251, 3252, 3253,\n",
       "       3279, 3280, 3283, 3284, 3544, 3545, 3546, 3573, 3574, 3575, 3576,\n",
       "       3577, 3578, 3579, 3606, 3607, 3608, 3609, 3631, 3632, 3633, 3636,\n",
       "       3637, 3638])"
      ]
     },
     "execution_count": 43,
     "metadata": {},
     "output_type": "execute_result"
    }
   ],
   "source": [
    "unights"
   ]
  },
  {
   "cell_type": "code",
   "execution_count": 46,
   "metadata": {},
   "outputs": [
    {
     "name": "stderr",
     "output_type": "stream",
     "text": [
      "/Users/rbiswas/soft/lsst_stack/python/miniconda3-4.5.4/envs/lsst-scipipe-fcd27eb/lib/python3.6/site-packages/matplotlib/axes/_axes.py:6462: UserWarning: The 'normed' kwarg is deprecated, and has been replaced by the 'density' kwarg.\n",
      "  warnings.warn(\"The 'normed' kwarg is deprecated, and has been \"\n",
      "/Users/rbiswas/soft/lsst_stack/python/miniconda3-4.5.4/envs/lsst-scipipe-fcd27eb/lib/python3.6/site-packages/matplotlib/axes/_axes.py:6462: UserWarning: The 'normed' kwarg is deprecated, and has been replaced by the 'density' kwarg.\n",
      "  warnings.warn(\"The 'normed' kwarg is deprecated, and has been \"\n"
     ]
    },
    {
     "data": {
      "image/png": "[encoded data removed]",
      "text/plain": [
       "<Figure size 432x288 with 1 Axes>"
      ]
     },
     "metadata": {
      "needs_background": "light"
     },
     "output_type": "display_data"
    }
   ],
   "source": [
    "_ = plt.hist(np.diff(chosen_nights), bins=np.arange(0, 80, 1),\n",
    "            histtype='step', lw=2, normed=0, label='designed')\n",
    "_ = plt.hist(np.diff(np.sort(baseline_nights)), bins=np.arange(0, 80, 1),\n",
    "            histtype='step', lw=2, normed=0, label='minion')"
   ]
  },
  {
   "cell_type": "code",
   "execution_count": 60,
   "metadata": {},
   "outputs": [
    {
     "data": {
      "text/plain": [
       "array([ 0,  0,  2, 29,  2,  2,  1,  1,  2,  5,  5,  2,  4,  1,  0,  1,  1,\n",
       "        0,  0,  0,  0,  0,  0,  0,  0,  0,  0,  0,  0,  0,  0,  0,  0,  0,\n",
       "        0,  0,  0,  0,  0,  0,  0,  0,  0,  0,  0,  0,  0,  0,  0,  0,  0,\n",
       "        0,  0,  0,  0,  0,  0,  0,  0,  0,  0,  0,  0,  0,  0,  0,  0,  0,\n",
       "        0,  0,  0,  0,  0,  0,  0,  0,  0,  0,  0,  0,  0,  0,  0,  0,  0,\n",
       "        0,  0,  0,  0,  0,  0,  0,  0,  0,  0,  0,  0,  0,  0,  0,  0,  0,\n",
       "        0,  0,  0,  0,  0,  0,  0,  0,  0,  0,  0,  0,  0,  0,  0,  0,  0,\n",
       "        0,  0,  0,  0,  0,  0,  0,  0,  0,  0,  0,  0,  0,  0,  0,  0,  0,\n",
       "        0,  0,  0,  0,  0,  0,  0,  0,  0,  0,  0,  0,  0,  0,  0,  0,  0,\n",
       "        0,  0,  0,  0,  0,  0,  0,  0,  0,  0,  0,  0,  0,  0,  0,  0,  0,\n",
       "        0,  0,  0,  0,  0,  0,  0,  0,  0,  0,  0,  0,  0,  0,  0,  0,  0,\n",
       "        0,  0,  0,  0,  0,  0,  0,  0,  0,  0,  0,  0,  0,  0,  0,  0,  0,\n",
       "        0,  0,  0,  0,  0,  0,  0,  0,  0,  0,  0,  0,  0,  0,  0,  0,  0,\n",
       "        0,  0,  0,  0,  0,  0,  0,  0,  0,  0,  0,  0,  0,  0,  0,  0,  0,\n",
       "        0,  0,  0,  0,  0,  0,  0,  0,  0,  1,  0,  1])"
      ]
     },
     "execution_count": 60,
     "metadata": {},
     "output_type": "execute_result"
    }
   ],
   "source": [
    "np.bincount(np.sort(np.diff(baseline_nights)))"
   ]
  },
  {
   "cell_type": "code",
   "execution_count": 59,
   "metadata": {},
   "outputs": [
    {
     "data": {
      "text/plain": [
       "array([ 0, 47, 30,  5, 10,  7,  8,  5,  2,  1,  1,  0,  2,  0,  0,  0,  1,\n",
       "        0,  0,  0,  0,  0,  0,  0,  0,  0,  0,  0,  0,  0,  0,  0,  0,  0,\n",
       "        0,  0,  0,  0,  0,  0,  0,  0,  0,  0,  0,  0,  0,  0,  0,  0,  0,\n",
       "        0,  0,  0,  0,  0,  0,  0,  0,  0,  0,  0,  0,  0,  0,  0,  0,  0,\n",
       "        0,  0,  0,  0,  0,  0,  0,  0,  0,  0,  0,  0,  0,  0,  0,  0,  0,\n",
       "        0,  0,  0,  0,  0,  0,  0,  0,  0,  0,  0,  0,  0,  0,  0,  0,  0,\n",
       "        0,  0,  0,  0,  0,  0,  0,  0,  0,  0,  0,  0,  0,  0,  0,  0,  0,\n",
       "        0,  0,  0,  0,  0,  0,  0,  0,  0,  0,  0,  0,  0,  0,  0,  0,  0,\n",
       "        0,  0,  0,  0,  0,  0,  0,  0,  0,  0,  0,  0,  0,  0,  0,  0,  0,\n",
       "        0,  0,  0,  0,  0,  0,  0,  0,  0,  0,  0,  0,  0,  0,  0,  0,  0,\n",
       "        0,  0,  0,  0,  0,  0,  0,  0,  0,  0,  0,  0,  0,  0,  0,  0,  0,\n",
       "        0,  0,  0,  0,  0,  0,  0,  0,  0,  0,  0,  0,  0,  0,  0,  0,  0,\n",
       "        0,  0,  0,  0,  0,  0,  0,  0,  0,  0,  0,  0,  0,  0,  0,  0,  0,\n",
       "        0,  0,  0,  0,  0,  0,  0,  0,  0,  0,  0,  0,  0,  0,  0,  0,  0,\n",
       "        0,  0,  0,  0,  0,  0,  0,  0,  0,  1,  1])"
      ]
     },
     "execution_count": 59,
     "metadata": {},
     "output_type": "execute_result"
    }
   ],
   "source": [
    "np.bincount(np.sort(np.diff(chosen_nights)))"
   ]
  },
  {
   "cell_type": "code",
   "execution_count": 44,
   "metadata": {},
   "outputs": [
    {
     "name": "stderr",
     "output_type": "stream",
     "text": [
      "/Users/rbiswas/soft/lsst_stack/python/miniconda3-4.5.4/envs/lsst-scipipe-fcd27eb/lib/python3.6/site-packages/matplotlib/axes/_axes.py:6462: UserWarning: The 'normed' kwarg is deprecated, and has been replaced by the 'density' kwarg.\n",
      "  warnings.warn(\"The 'normed' kwarg is deprecated, and has been \"\n",
      "/Users/rbiswas/soft/lsst_stack/python/miniconda3-4.5.4/envs/lsst-scipipe-fcd27eb/lib/python3.6/site-packages/matplotlib/axes/_axes.py:6462: UserWarning: The 'normed' kwarg is deprecated, and has been replaced by the 'density' kwarg.\n",
      "  warnings.warn(\"The 'normed' kwarg is deprecated, and has been \"\n",
      "/Users/rbiswas/soft/lsst_stack/python/miniconda3-4.5.4/envs/lsst-scipipe-fcd27eb/lib/python3.6/site-packages/matplotlib/axes/_axes.py:6462: UserWarning: The 'normed' kwarg is deprecated, and has been replaced by the 'density' kwarg.\n",
      "  warnings.warn(\"The 'normed' kwarg is deprecated, and has been \"\n",
      "/Users/rbiswas/soft/lsst_stack/python/miniconda3-4.5.4/envs/lsst-scipipe-fcd27eb/lib/python3.6/site-packages/matplotlib/axes/_axes.py:6462: UserWarning: The 'normed' kwarg is deprecated, and has been replaced by the 'density' kwarg.\n",
      "  warnings.warn(\"The 'normed' kwarg is deprecated, and has been \"\n"
     ]
    },
    {
     "data": {
      "image/png": "[encoded data removed]",
      "text/plain": [
       "<Figure size 432x288 with 2 Axes>"
      ]
     },
     "metadata": {
      "needs_background": "light"
     },
     "output_type": "display_data"
    }
   ],
   "source": [
    "fig, ax = plt.subplots(1, 2)\n",
    "_ = ax[0].hist(np.diff(chosen_nights), bins=np.arange(0, 80, 1),\n",
    "            histtype='step', lw=2, normed=0, label='designed')\n",
    "_ = ax[0].hist(np.diff(np.sort(baseline_nights)), bins=np.arange(0, 80, 1),\n",
    "            histtype='step', lw=2, normed=0, label='minion')\n",
    "_ = ax[1].hist(np.diff(chosen_nights), bins=np.arange(0, 80, 1),\n",
    "            histtype='step', lw=2, cumulative=1, label='designed', normed=0)\n",
    "_ = ax[1].hist(np.diff(np.sort(baseline_nights)), bins=np.arange(0, 80, 1),\n",
    "            histtype='step', lw=2, cumulative=1, label='minion', normed=0)\n",
    "\n",
    "ax[1].set_xlim(xmax=10)\n",
    "plt.legend(loc='best')\n",
    "fig.savefig('gap_block2.png')    "
   ]
  },
  {
   "cell_type": "code",
   "execution_count": null,
   "metadata": {},
   "outputs": [],
   "source": []
  },
  {
   "cell_type": "code",
   "execution_count": 78,
   "metadata": {},
   "outputs": [
    {
     "data": {
      "image/png": "[encoded data removed]",
      "text/plain": [
       "<matplotlib.figure.Figure at 0x1174224a8>"
      ]
     },
     "metadata": {},
     "output_type": "display_data"
    }
   ],
   "source": [
    "fig, ax = plt.subplots(1, 2)\n",
    "_ = ax[0].hist(np.diff(chosen_nights), bins=np.arange(0, 80, 1),\n",
    "            histtype='step', lw=2, normed=0, label='designed')\n",
    "_ = ax[0].hist(np.diff(np.sort(baseline_nights)), bins=np.arange(0, 80, 1),\n",
    "            histtype='step', lw=2, normed=0, label='minion')\n",
    "_ = ax[1].hist(np.diff(chosen_nights), bins=np.arange(0, 80, 1),\n",
    "            histtype='step', lw=2, cumulative=1, label='designed', normed=0)\n",
    "_ = ax[1].hist(np.diff(np.sort(baseline_nights)), bins=np.arange(0, 80, 1),\n",
    "            histtype='step', lw=2, cumulative=1, label='minion', normed=0)\n",
    "\n",
    "ax[1].set_xlim(xmax=10)\n",
    "plt.legend(loc='best')\n",
    "fig.savefig('gap_block2.png')"
   ]
  },
  {
   "cell_type": "code",
   "execution_count": 50,
   "metadata": {},
   "outputs": [
    {
     "data": {
      "image/png": "[encoded data removed]",
      "text/plain": [
       "<matplotlib.figure.Figure at 0x1279fa5f8>"
      ]
     },
     "metadata": {},
     "output_type": "display_data"
    }
   ],
   "source": [
    "fig, ax = plt.subplots()\n",
    "ax.plot(chosen_nights[:-1], np.diff(chosen_nights), '.')\n",
    "for nt in unights:\n",
    "    ax.axvline(nt, ls='dashed', color='k', lw=1)\n",
    "#for nt in shortnights:\n",
    "#    ax.axvline(nt, ls='dashed', color='r', lw=0.1)"
   ]
  },
  {
   "cell_type": "markdown",
   "metadata": {},
   "source": [
    "## Choosing nights"
   ]
  },
  {
   "cell_type": "code",
   "execution_count": 62,
   "metadata": {},
   "outputs": [
    {
     "data": {
      "text/html": [
       "<div>\n",
       "<style scoped>\n",
       "    .dataframe tbody tr th:only-of-type {\n",
       "        vertical-align: middle;\n",
       "    }\n",
       "\n",
       "    .dataframe tbody tr th {\n",
       "        vertical-align: top;\n",
       "    }\n",
       "\n",
       "    .dataframe thead th {\n",
       "        text-align: right;\n",
       "    }\n",
       "</style>\n",
       "<table border=\"1\" class=\"dataframe\">\n",
       "  <thead>\n",
       "    <tr style=\"text-align: right;\">\n",
       "      <th></th>\n",
       "      <th>mjd</th>\n",
       "      <th>alt</th>\n",
       "      <th>az</th>\n",
       "      <th>sunAlt</th>\n",
       "      <th>moonRA</th>\n",
       "      <th>moonDec</th>\n",
       "      <th>moonAlt</th>\n",
       "      <th>night</th>\n",
       "      <th>moonDist</th>\n",
       "    </tr>\n",
       "  </thead>\n",
       "  <tbody>\n",
       "    <tr>\n",
       "      <th>count</th>\n",
       "      <td>172579.000000</td>\n",
       "      <td>172579.000000</td>\n",
       "      <td>172579.000000</td>\n",
       "      <td>172579.000000</td>\n",
       "      <td>172579.000000</td>\n",
       "      <td>172579.000000</td>\n",
       "      <td>172579.000000</td>\n",
       "      <td>172579.000000</td>\n",
       "      <td>172579.000000</td>\n",
       "    </tr>\n",
       "    <tr>\n",
       "      <th>mean</th>\n",
       "      <td>62753.217276</td>\n",
       "      <td>48.772325</td>\n",
       "      <td>176.398199</td>\n",
       "      <td>-41.414825</td>\n",
       "      <td>154.501634</td>\n",
       "      <td>2.167519</td>\n",
       "      <td>-9.133085</td>\n",
       "      <td>3172.989379</td>\n",
       "      <td>104.259570</td>\n",
       "    </tr>\n",
       "    <tr>\n",
       "      <th>std</th>\n",
       "      <td>303.638793</td>\n",
       "      <td>9.322090</td>\n",
       "      <td>139.029425</td>\n",
       "      <td>16.824144</td>\n",
       "      <td>87.403443</td>\n",
       "      <td>16.813126</td>\n",
       "      <td>35.790120</td>\n",
       "      <td>303.654401</td>\n",
       "      <td>42.598460</td>\n",
       "    </tr>\n",
       "    <tr>\n",
       "      <th>min</th>\n",
       "      <td>62135.034028</td>\n",
       "      <td>30.001680</td>\n",
       "      <td>0.000751</td>\n",
       "      <td>-79.388402</td>\n",
       "      <td>7.211262</td>\n",
       "      <td>-24.459791</td>\n",
       "      <td>-77.096853</td>\n",
       "      <td>2555.000000</td>\n",
       "      <td>30.000031</td>\n",
       "    </tr>\n",
       "    <tr>\n",
       "      <th>25%</th>\n",
       "      <td>62431.047570</td>\n",
       "      <td>40.947493</td>\n",
       "      <td>45.755835</td>\n",
       "      <td>-53.864141</td>\n",
       "      <td>79.735333</td>\n",
       "      <td>-15.971037</td>\n",
       "      <td>-39.795061</td>\n",
       "      <td>2851.000000</td>\n",
       "      <td>67.113953</td>\n",
       "    </tr>\n",
       "    <tr>\n",
       "      <th>50%</th>\n",
       "      <td>62752.318752</td>\n",
       "      <td>50.518149</td>\n",
       "      <td>69.998414</td>\n",
       "      <td>-41.406895</td>\n",
       "      <td>151.813425</td>\n",
       "      <td>6.839546</td>\n",
       "      <td>-11.902970</td>\n",
       "      <td>3172.000000</td>\n",
       "      <td>104.608783</td>\n",
       "    </tr>\n",
       "    <tr>\n",
       "      <th>75%</th>\n",
       "      <td>63077.439239</td>\n",
       "      <td>57.545609</td>\n",
       "      <td>313.340367</td>\n",
       "      <td>-27.647135</td>\n",
       "      <td>227.101887</td>\n",
       "      <td>18.588453</td>\n",
       "      <td>20.542153</td>\n",
       "      <td>3497.000000</td>\n",
       "      <td>141.610819</td>\n",
       "    </tr>\n",
       "    <tr>\n",
       "      <th>max</th>\n",
       "      <td>63229.081254</td>\n",
       "      <td>60.246038</td>\n",
       "      <td>359.999039</td>\n",
       "      <td>-12.000204</td>\n",
       "      <td>313.407143</td>\n",
       "      <td>25.969689</td>\n",
       "      <td>76.744955</td>\n",
       "      <td>3649.000000</td>\n",
       "      <td>173.345992</td>\n",
       "    </tr>\n",
       "  </tbody>\n",
       "</table>\n",
       "</div>"
      ],
      "text/plain": [
       "                 mjd            alt             az         sunAlt  \\\n",
       "count  172579.000000  172579.000000  172579.000000  172579.000000   \n",
       "mean    62753.217276      48.772325     176.398199     -41.414825   \n",
       "std       303.638793       9.322090     139.029425      16.824144   \n",
       "min     62135.034028      30.001680       0.000751     -79.388402   \n",
       "25%     62431.047570      40.947493      45.755835     -53.864141   \n",
       "50%     62752.318752      50.518149      69.998414     -41.406895   \n",
       "75%     63077.439239      57.545609     313.340367     -27.647135   \n",
       "max     63229.081254      60.246038     359.999039     -12.000204   \n",
       "\n",
       "              moonRA        moonDec        moonAlt          night  \\\n",
       "count  172579.000000  172579.000000  172579.000000  172579.000000   \n",
       "mean      154.501634       2.167519      -9.133085    3172.989379   \n",
       "std        87.403443      16.813126      35.790120     303.654401   \n",
       "min         7.211262     -24.459791     -77.096853    2555.000000   \n",
       "25%        79.735333     -15.971037     -39.795061    2851.000000   \n",
       "50%       151.813425       6.839546     -11.902970    3172.000000   \n",
       "75%       227.101887      18.588453      20.542153    3497.000000   \n",
       "max       313.407143      25.969689      76.744955    3649.000000   \n",
       "\n",
       "            moonDist  \n",
       "count  172579.000000  \n",
       "mean      104.259570  \n",
       "std        42.598460  \n",
       "min        30.000031  \n",
       "25%        67.113953  \n",
       "50%       104.608783  \n",
       "75%       141.610819  \n",
       "max       173.345992  "
      ]
     },
     "execution_count": 62,
     "metadata": {},
     "output_type": "execute_result"
    }
   ],
   "source": [
    "availabletimes.describe()"
   ]
  },
  {
   "cell_type": "code",
   "execution_count": 63,
   "metadata": {},
   "outputs": [],
   "source": [
    "nstats = op.nightStats(availabletimes)"
   ]
  },
  {
   "cell_type": "code",
   "execution_count": 69,
   "metadata": {},
   "outputs": [
    {
     "data": {
      "text/html": [
       "<div>\n",
       "<style scoped>\n",
       "    .dataframe tbody tr th:only-of-type {\n",
       "        vertical-align: middle;\n",
       "    }\n",
       "\n",
       "    .dataframe tbody tr th {\n",
       "        vertical-align: top;\n",
       "    }\n",
       "\n",
       "    .dataframe thead th {\n",
       "        text-align: right;\n",
       "    }\n",
       "</style>\n",
       "<table border=\"1\" class=\"dataframe\">\n",
       "  <thead>\n",
       "    <tr style=\"text-align: right;\">\n",
       "      <th></th>\n",
       "      <th>minmjd</th>\n",
       "      <th>maxmjd</th>\n",
       "      <th>availTime</th>\n",
       "    </tr>\n",
       "    <tr>\n",
       "      <th>night</th>\n",
       "      <th></th>\n",
       "      <th></th>\n",
       "      <th></th>\n",
       "    </tr>\n",
       "  </thead>\n",
       "  <tbody>\n",
       "    <tr>\n",
       "      <th>2555.0</th>\n",
       "      <td>62135.034028</td>\n",
       "      <td>62135.076389</td>\n",
       "      <td>1.016667</td>\n",
       "    </tr>\n",
       "    <tr>\n",
       "      <th>2556.0</th>\n",
       "      <td>62136.034028</td>\n",
       "      <td>62136.073611</td>\n",
       "      <td>0.950000</td>\n",
       "    </tr>\n",
       "    <tr>\n",
       "      <th>2557.0</th>\n",
       "      <td>62137.034028</td>\n",
       "      <td>62137.070833</td>\n",
       "      <td>0.883333</td>\n",
       "    </tr>\n",
       "    <tr>\n",
       "      <th>2558.0</th>\n",
       "      <td>62138.034028</td>\n",
       "      <td>62138.068056</td>\n",
       "      <td>0.816667</td>\n",
       "    </tr>\n",
       "    <tr>\n",
       "      <th>2559.0</th>\n",
       "      <td>62139.034722</td>\n",
       "      <td>62139.065278</td>\n",
       "      <td>0.733333</td>\n",
       "    </tr>\n",
       "  </tbody>\n",
       "</table>\n",
       "</div>"
      ],
      "text/plain": [
       "              minmjd        maxmjd  availTime\n",
       "night                                        \n",
       "2555.0  62135.034028  62135.076389   1.016667\n",
       "2556.0  62136.034028  62136.073611   0.950000\n",
       "2557.0  62137.034028  62137.070833   0.883333\n",
       "2558.0  62138.034028  62138.068056   0.816667\n",
       "2559.0  62139.034722  62139.065278   0.733333"
      ]
     },
     "execution_count": 69,
     "metadata": {},
     "output_type": "execute_result"
    }
   ],
   "source": [
    "nstats.head()"
   ]
  },
  {
   "cell_type": "code",
   "execution_count": 72,
   "metadata": {},
   "outputs": [
    {
     "data": {
      "text/html": [
       "<div>\n",
       "<style scoped>\n",
       "    .dataframe tbody tr th:only-of-type {\n",
       "        vertical-align: middle;\n",
       "    }\n",
       "\n",
       "    .dataframe tbody tr th {\n",
       "        vertical-align: top;\n",
       "    }\n",
       "\n",
       "    .dataframe thead th {\n",
       "        text-align: right;\n",
       "    }\n",
       "</style>\n",
       "<table border=\"1\" class=\"dataframe\">\n",
       "  <thead>\n",
       "    <tr style=\"text-align: right;\">\n",
       "      <th></th>\n",
       "      <th>minmjd</th>\n",
       "      <th>maxmjd</th>\n",
       "      <th>availTime</th>\n",
       "    </tr>\n",
       "    <tr>\n",
       "      <th>night</th>\n",
       "      <th></th>\n",
       "      <th></th>\n",
       "      <th></th>\n",
       "    </tr>\n",
       "  </thead>\n",
       "  <tbody>\n",
       "    <tr>\n",
       "      <th>2750</th>\n",
       "      <td>62330.237501</td>\n",
       "      <td>62330.445834</td>\n",
       "      <td>5.000000</td>\n",
       "    </tr>\n",
       "    <tr>\n",
       "      <th>2754</th>\n",
       "      <td>62334.226390</td>\n",
       "      <td>62334.445140</td>\n",
       "      <td>5.250000</td>\n",
       "    </tr>\n",
       "    <tr>\n",
       "      <th>2761</th>\n",
       "      <td>62341.206945</td>\n",
       "      <td>62341.443056</td>\n",
       "      <td>5.666667</td>\n",
       "    </tr>\n",
       "    <tr>\n",
       "      <th>2762</th>\n",
       "      <td>62342.204862</td>\n",
       "      <td>62342.443056</td>\n",
       "      <td>5.716667</td>\n",
       "    </tr>\n",
       "    <tr>\n",
       "      <th>2769</th>\n",
       "      <td>62349.185417</td>\n",
       "      <td>62349.440278</td>\n",
       "      <td>6.116667</td>\n",
       "    </tr>\n",
       "  </tbody>\n",
       "</table>\n",
       "</div>"
      ],
      "text/plain": [
       "             minmjd        maxmjd  availTime\n",
       "night                                       \n",
       "2750   62330.237501  62330.445834   5.000000\n",
       "2754   62334.226390  62334.445140   5.250000\n",
       "2761   62341.206945  62341.443056   5.666667\n",
       "2762   62342.204862  62342.443056   5.716667\n",
       "2769   62349.185417  62349.440278   6.116667"
      ]
     },
     "execution_count": 72,
     "metadata": {},
     "output_type": "execute_result"
    }
   ],
   "source": [
    "nstats.loc[chosen_nights].head()"
   ]
  },
  {
   "cell_type": "code",
   "execution_count": 66,
   "metadata": {},
   "outputs": [
    {
     "data": {
      "text/html": [
       "<div>\n",
       "<style scoped>\n",
       "    .dataframe tbody tr th:only-of-type {\n",
       "        vertical-align: middle;\n",
       "    }\n",
       "\n",
       "    .dataframe tbody tr th {\n",
       "        vertical-align: top;\n",
       "    }\n",
       "\n",
       "    .dataframe thead th {\n",
       "        text-align: right;\n",
       "    }\n",
       "</style>\n",
       "<table border=\"1\" class=\"dataframe\">\n",
       "  <thead>\n",
       "    <tr style=\"text-align: right;\">\n",
       "      <th></th>\n",
       "      <th>mjd</th>\n",
       "    </tr>\n",
       "  </thead>\n",
       "  <tbody>\n",
       "    <tr>\n",
       "      <th>count</th>\n",
       "      <td>653.000000</td>\n",
       "    </tr>\n",
       "    <tr>\n",
       "      <th>mean</th>\n",
       "      <td>264.286371</td>\n",
       "    </tr>\n",
       "    <tr>\n",
       "      <th>std</th>\n",
       "      <td>143.833276</td>\n",
       "    </tr>\n",
       "    <tr>\n",
       "      <th>min</th>\n",
       "      <td>1.000000</td>\n",
       "    </tr>\n",
       "    <tr>\n",
       "      <th>25%</th>\n",
       "      <td>135.000000</td>\n",
       "    </tr>\n",
       "    <tr>\n",
       "      <th>50%</th>\n",
       "      <td>282.000000</td>\n",
       "    </tr>\n",
       "    <tr>\n",
       "      <th>75%</th>\n",
       "      <td>409.000000</td>\n",
       "    </tr>\n",
       "    <tr>\n",
       "      <th>max</th>\n",
       "      <td>439.000000</td>\n",
       "    </tr>\n",
       "  </tbody>\n",
       "</table>\n",
       "</div>"
      ],
      "text/plain": [
       "              mjd\n",
       "count  653.000000\n",
       "mean   264.286371\n",
       "std    143.833276\n",
       "min      1.000000\n",
       "25%    135.000000\n",
       "50%    282.000000\n",
       "75%    409.000000\n",
       "max    439.000000"
      ]
     },
     "execution_count": 66,
     "metadata": {},
     "output_type": "execute_result"
    }
   ],
   "source": [
    "availabletimes.groupby('night').agg(dict(mjd='count')).describe()"
   ]
  },
  {
   "cell_type": "code",
   "execution_count": 56,
   "metadata": {},
   "outputs": [
    {
     "data": {
      "text/html": [
       "<div>\n",
       "<style scoped>\n",
       "    .dataframe tbody tr th:only-of-type {\n",
       "        vertical-align: middle;\n",
       "    }\n",
       "\n",
       "    .dataframe tbody tr th {\n",
       "        vertical-align: top;\n",
       "    }\n",
       "\n",
       "    .dataframe thead th {\n",
       "        text-align: right;\n",
       "    }\n",
       "</style>\n",
       "<table border=\"1\" class=\"dataframe\">\n",
       "  <thead>\n",
       "    <tr style=\"text-align: right;\">\n",
       "      <th></th>\n",
       "      <th>mjd</th>\n",
       "    </tr>\n",
       "  </thead>\n",
       "  <tbody>\n",
       "    <tr>\n",
       "      <th>count</th>\n",
       "      <td>942.000000</td>\n",
       "    </tr>\n",
       "    <tr>\n",
       "      <th>mean</th>\n",
       "      <td>4.016207</td>\n",
       "    </tr>\n",
       "    <tr>\n",
       "      <th>std</th>\n",
       "      <td>2.193955</td>\n",
       "    </tr>\n",
       "    <tr>\n",
       "      <th>min</th>\n",
       "      <td>0.016667</td>\n",
       "    </tr>\n",
       "    <tr>\n",
       "      <th>25%</th>\n",
       "      <td>2.187500</td>\n",
       "    </tr>\n",
       "    <tr>\n",
       "      <th>50%</th>\n",
       "      <td>4.283333</td>\n",
       "    </tr>\n",
       "    <tr>\n",
       "      <th>75%</th>\n",
       "      <td>5.779167</td>\n",
       "    </tr>\n",
       "    <tr>\n",
       "      <th>max</th>\n",
       "      <td>7.833333</td>\n",
       "    </tr>\n",
       "  </tbody>\n",
       "</table>\n",
       "</div>"
      ],
      "text/plain": [
       "              mjd\n",
       "count  942.000000\n",
       "mean     4.016207\n",
       "std      2.193955\n",
       "min      0.016667\n",
       "25%      2.187500\n",
       "50%      4.283333\n",
       "75%      5.779167\n",
       "max      7.833333"
      ]
     },
     "execution_count": 56,
     "metadata": {},
     "output_type": "execute_result"
    }
   ],
   "source": [
    "availabletimes.groupby('night').agg(dict(mjd='count')).apply(lambda x: x/60.).describe()"
   ]
  },
  {
   "cell_type": "code",
   "execution_count": 57,
   "metadata": {},
   "outputs": [
    {
     "data": {
      "text/html": [
       "<div>\n",
       "<style scoped>\n",
       "    .dataframe tbody tr th:only-of-type {\n",
       "        vertical-align: middle;\n",
       "    }\n",
       "\n",
       "    .dataframe tbody tr th {\n",
       "        vertical-align: top;\n",
       "    }\n",
       "\n",
       "    .dataframe thead th {\n",
       "        text-align: right;\n",
       "    }\n",
       "</style>\n",
       "<table border=\"1\" class=\"dataframe\">\n",
       "  <thead>\n",
       "    <tr style=\"text-align: right;\">\n",
       "      <th></th>\n",
       "      <th>minmjd</th>\n",
       "      <th>maxmjd</th>\n",
       "      <th>availTime</th>\n",
       "    </tr>\n",
       "    <tr>\n",
       "      <th>night</th>\n",
       "      <th></th>\n",
       "      <th></th>\n",
       "      <th></th>\n",
       "    </tr>\n",
       "  </thead>\n",
       "  <tbody>\n",
       "    <tr>\n",
       "      <th>2559</th>\n",
       "      <td>62139.034722</td>\n",
       "      <td>62139.251389</td>\n",
       "      <td>5.200000</td>\n",
       "    </tr>\n",
       "    <tr>\n",
       "      <th>2560</th>\n",
       "      <td>62140.034722</td>\n",
       "      <td>62140.248611</td>\n",
       "      <td>5.133333</td>\n",
       "    </tr>\n",
       "    <tr>\n",
       "      <th>2561</th>\n",
       "      <td>62141.034722</td>\n",
       "      <td>62141.245833</td>\n",
       "      <td>5.066667</td>\n",
       "    </tr>\n",
       "    <tr>\n",
       "      <th>2628</th>\n",
       "      <td>62208.000000</td>\n",
       "      <td>62208.999306</td>\n",
       "      <td>23.983333</td>\n",
       "    </tr>\n",
       "    <tr>\n",
       "      <th>2630</th>\n",
       "      <td>62210.000000</td>\n",
       "      <td>62210.999306</td>\n",
       "      <td>23.983333</td>\n",
       "    </tr>\n",
       "    <tr>\n",
       "      <th>2634</th>\n",
       "      <td>62214.000000</td>\n",
       "      <td>62214.999306</td>\n",
       "      <td>23.983333</td>\n",
       "    </tr>\n",
       "    <tr>\n",
       "      <th>2635</th>\n",
       "      <td>62215.000000</td>\n",
       "      <td>62215.999306</td>\n",
       "      <td>23.983333</td>\n",
       "    </tr>\n",
       "    <tr>\n",
       "      <th>2640</th>\n",
       "      <td>62220.000000</td>\n",
       "      <td>62220.999306</td>\n",
       "      <td>23.983333</td>\n",
       "    </tr>\n",
       "    <tr>\n",
       "      <th>2644</th>\n",
       "      <td>62224.000000</td>\n",
       "      <td>62224.999306</td>\n",
       "      <td>23.983333</td>\n",
       "    </tr>\n",
       "    <tr>\n",
       "      <th>2646</th>\n",
       "      <td>62226.000000</td>\n",
       "      <td>62226.999306</td>\n",
       "      <td>23.983333</td>\n",
       "    </tr>\n",
       "    <tr>\n",
       "      <th>2802</th>\n",
       "      <td>62382.198612</td>\n",
       "      <td>62382.418751</td>\n",
       "      <td>5.283333</td>\n",
       "    </tr>\n",
       "    <tr>\n",
       "      <th>2822</th>\n",
       "      <td>62402.144445</td>\n",
       "      <td>62402.401390</td>\n",
       "      <td>6.166667</td>\n",
       "    </tr>\n",
       "    <tr>\n",
       "      <th>2825</th>\n",
       "      <td>62405.136112</td>\n",
       "      <td>62405.399306</td>\n",
       "      <td>6.316667</td>\n",
       "    </tr>\n",
       "    <tr>\n",
       "      <th>2826</th>\n",
       "      <td>62406.133334</td>\n",
       "      <td>62406.397918</td>\n",
       "      <td>6.350000</td>\n",
       "    </tr>\n",
       "    <tr>\n",
       "      <th>2829</th>\n",
       "      <td>62409.125001</td>\n",
       "      <td>62409.395140</td>\n",
       "      <td>6.483333</td>\n",
       "    </tr>\n",
       "    <tr>\n",
       "      <th>2831</th>\n",
       "      <td>62411.119445</td>\n",
       "      <td>62411.393751</td>\n",
       "      <td>6.583333</td>\n",
       "    </tr>\n",
       "    <tr>\n",
       "      <th>2844</th>\n",
       "      <td>62424.084029</td>\n",
       "      <td>62424.382640</td>\n",
       "      <td>7.166667</td>\n",
       "    </tr>\n",
       "    <tr>\n",
       "      <th>2849</th>\n",
       "      <td>62429.070140</td>\n",
       "      <td>62429.378473</td>\n",
       "      <td>7.400000</td>\n",
       "    </tr>\n",
       "    <tr>\n",
       "      <th>2851</th>\n",
       "      <td>62431.065279</td>\n",
       "      <td>62431.376390</td>\n",
       "      <td>7.466667</td>\n",
       "    </tr>\n",
       "    <tr>\n",
       "      <th>2852</th>\n",
       "      <td>62432.062501</td>\n",
       "      <td>62432.375695</td>\n",
       "      <td>7.516667</td>\n",
       "    </tr>\n",
       "    <tr>\n",
       "      <th>2853</th>\n",
       "      <td>62433.059723</td>\n",
       "      <td>62433.375001</td>\n",
       "      <td>7.566667</td>\n",
       "    </tr>\n",
       "    <tr>\n",
       "      <th>2856</th>\n",
       "      <td>62436.051390</td>\n",
       "      <td>62436.372918</td>\n",
       "      <td>7.716667</td>\n",
       "    </tr>\n",
       "    <tr>\n",
       "      <th>2860</th>\n",
       "      <td>62440.040279</td>\n",
       "      <td>62440.370140</td>\n",
       "      <td>7.916667</td>\n",
       "    </tr>\n",
       "    <tr>\n",
       "      <th>2861</th>\n",
       "      <td>62441.037501</td>\n",
       "      <td>62441.369445</td>\n",
       "      <td>7.966667</td>\n",
       "    </tr>\n",
       "    <tr>\n",
       "      <th>2862</th>\n",
       "      <td>62442.034723</td>\n",
       "      <td>62442.368751</td>\n",
       "      <td>8.016667</td>\n",
       "    </tr>\n",
       "    <tr>\n",
       "      <th>2863</th>\n",
       "      <td>62443.031945</td>\n",
       "      <td>62443.368057</td>\n",
       "      <td>8.066667</td>\n",
       "    </tr>\n",
       "    <tr>\n",
       "      <th>2864</th>\n",
       "      <td>62444.029168</td>\n",
       "      <td>62444.367362</td>\n",
       "      <td>8.116667</td>\n",
       "    </tr>\n",
       "    <tr>\n",
       "      <th>2866</th>\n",
       "      <td>62446.024307</td>\n",
       "      <td>62446.365973</td>\n",
       "      <td>8.200000</td>\n",
       "    </tr>\n",
       "    <tr>\n",
       "      <th>2869</th>\n",
       "      <td>62449.015973</td>\n",
       "      <td>62449.364584</td>\n",
       "      <td>8.366667</td>\n",
       "    </tr>\n",
       "    <tr>\n",
       "      <th>2873</th>\n",
       "      <td>62453.009029</td>\n",
       "      <td>62453.362501</td>\n",
       "      <td>8.483333</td>\n",
       "    </tr>\n",
       "    <tr>\n",
       "      <th>...</th>\n",
       "      <td>...</td>\n",
       "      <td>...</td>\n",
       "      <td>...</td>\n",
       "    </tr>\n",
       "    <tr>\n",
       "      <th>3528</th>\n",
       "      <td>63108.211114</td>\n",
       "      <td>63108.422225</td>\n",
       "      <td>5.066667</td>\n",
       "    </tr>\n",
       "    <tr>\n",
       "      <th>3536</th>\n",
       "      <td>63116.188892</td>\n",
       "      <td>63116.415975</td>\n",
       "      <td>5.450000</td>\n",
       "    </tr>\n",
       "    <tr>\n",
       "      <th>3548</th>\n",
       "      <td>63128.156253</td>\n",
       "      <td>63128.405559</td>\n",
       "      <td>5.983333</td>\n",
       "    </tr>\n",
       "    <tr>\n",
       "      <th>3550</th>\n",
       "      <td>63130.150698</td>\n",
       "      <td>63130.404170</td>\n",
       "      <td>6.083333</td>\n",
       "    </tr>\n",
       "    <tr>\n",
       "      <th>3551</th>\n",
       "      <td>63131.147920</td>\n",
       "      <td>63131.402781</td>\n",
       "      <td>6.116667</td>\n",
       "    </tr>\n",
       "    <tr>\n",
       "      <th>3564</th>\n",
       "      <td>63144.112503</td>\n",
       "      <td>63144.391670</td>\n",
       "      <td>6.700000</td>\n",
       "    </tr>\n",
       "    <tr>\n",
       "      <th>3565</th>\n",
       "      <td>63145.109726</td>\n",
       "      <td>63145.390281</td>\n",
       "      <td>6.733333</td>\n",
       "    </tr>\n",
       "    <tr>\n",
       "      <th>3567</th>\n",
       "      <td>63147.104864</td>\n",
       "      <td>63147.388892</td>\n",
       "      <td>6.816667</td>\n",
       "    </tr>\n",
       "    <tr>\n",
       "      <th>3569</th>\n",
       "      <td>63149.099309</td>\n",
       "      <td>63149.386809</td>\n",
       "      <td>6.900000</td>\n",
       "    </tr>\n",
       "    <tr>\n",
       "      <th>3570</th>\n",
       "      <td>63150.096531</td>\n",
       "      <td>63150.386114</td>\n",
       "      <td>6.950000</td>\n",
       "    </tr>\n",
       "    <tr>\n",
       "      <th>3571</th>\n",
       "      <td>63151.093753</td>\n",
       "      <td>63151.385420</td>\n",
       "      <td>7.000000</td>\n",
       "    </tr>\n",
       "    <tr>\n",
       "      <th>3581</th>\n",
       "      <td>63161.065976</td>\n",
       "      <td>63161.377087</td>\n",
       "      <td>7.466667</td>\n",
       "    </tr>\n",
       "    <tr>\n",
       "      <th>3594</th>\n",
       "      <td>63174.030559</td>\n",
       "      <td>63174.367364</td>\n",
       "      <td>8.083333</td>\n",
       "    </tr>\n",
       "    <tr>\n",
       "      <th>3596</th>\n",
       "      <td>63176.025698</td>\n",
       "      <td>63176.365976</td>\n",
       "      <td>8.166667</td>\n",
       "    </tr>\n",
       "    <tr>\n",
       "      <th>3599</th>\n",
       "      <td>63179.017365</td>\n",
       "      <td>63179.364587</td>\n",
       "      <td>8.333333</td>\n",
       "    </tr>\n",
       "    <tr>\n",
       "      <th>3600</th>\n",
       "      <td>63180.014587</td>\n",
       "      <td>63180.363892</td>\n",
       "      <td>8.383333</td>\n",
       "    </tr>\n",
       "    <tr>\n",
       "      <th>3603</th>\n",
       "      <td>63183.008337</td>\n",
       "      <td>63183.362503</td>\n",
       "      <td>8.500000</td>\n",
       "    </tr>\n",
       "    <tr>\n",
       "      <th>3604</th>\n",
       "      <td>63184.009031</td>\n",
       "      <td>63184.361809</td>\n",
       "      <td>8.466667</td>\n",
       "    </tr>\n",
       "    <tr>\n",
       "      <th>3605</th>\n",
       "      <td>63185.009726</td>\n",
       "      <td>63185.361115</td>\n",
       "      <td>8.433333</td>\n",
       "    </tr>\n",
       "    <tr>\n",
       "      <th>3610</th>\n",
       "      <td>63190.013198</td>\n",
       "      <td>63190.359031</td>\n",
       "      <td>8.300000</td>\n",
       "    </tr>\n",
       "    <tr>\n",
       "      <th>3613</th>\n",
       "      <td>63193.015281</td>\n",
       "      <td>63193.358337</td>\n",
       "      <td>8.233333</td>\n",
       "    </tr>\n",
       "    <tr>\n",
       "      <th>3615</th>\n",
       "      <td>63195.016670</td>\n",
       "      <td>63195.357642</td>\n",
       "      <td>8.183333</td>\n",
       "    </tr>\n",
       "    <tr>\n",
       "      <th>3619</th>\n",
       "      <td>63199.019448</td>\n",
       "      <td>63199.348615</td>\n",
       "      <td>7.900000</td>\n",
       "    </tr>\n",
       "    <tr>\n",
       "      <th>3624</th>\n",
       "      <td>63204.022920</td>\n",
       "      <td>63204.335420</td>\n",
       "      <td>7.500000</td>\n",
       "    </tr>\n",
       "    <tr>\n",
       "      <th>3628</th>\n",
       "      <td>63208.025003</td>\n",
       "      <td>63208.324309</td>\n",
       "      <td>7.183333</td>\n",
       "    </tr>\n",
       "    <tr>\n",
       "      <th>3630</th>\n",
       "      <td>63210.026392</td>\n",
       "      <td>63210.318754</td>\n",
       "      <td>7.016667</td>\n",
       "    </tr>\n",
       "    <tr>\n",
       "      <th>3639</th>\n",
       "      <td>63219.030559</td>\n",
       "      <td>63219.294448</td>\n",
       "      <td>6.333333</td>\n",
       "    </tr>\n",
       "    <tr>\n",
       "      <th>3641</th>\n",
       "      <td>63221.031254</td>\n",
       "      <td>63221.288892</td>\n",
       "      <td>6.183333</td>\n",
       "    </tr>\n",
       "    <tr>\n",
       "      <th>3645</th>\n",
       "      <td>63225.032642</td>\n",
       "      <td>63225.277781</td>\n",
       "      <td>5.883333</td>\n",
       "    </tr>\n",
       "    <tr>\n",
       "      <th>3646</th>\n",
       "      <td>63226.032642</td>\n",
       "      <td>63226.275004</td>\n",
       "      <td>5.816667</td>\n",
       "    </tr>\n",
       "  </tbody>\n",
       "</table>\n",
       "<p>122 rows × 3 columns</p>\n",
       "</div>"
      ],
      "text/plain": [
       "             minmjd        maxmjd  availTime\n",
       "night                                       \n",
       "2559   62139.034722  62139.251389   5.200000\n",
       "2560   62140.034722  62140.248611   5.133333\n",
       "2561   62141.034722  62141.245833   5.066667\n",
       "2628   62208.000000  62208.999306  23.983333\n",
       "2630   62210.000000  62210.999306  23.983333\n",
       "2634   62214.000000  62214.999306  23.983333\n",
       "2635   62215.000000  62215.999306  23.983333\n",
       "2640   62220.000000  62220.999306  23.983333\n",
       "2644   62224.000000  62224.999306  23.983333\n",
       "2646   62226.000000  62226.999306  23.983333\n",
       "2802   62382.198612  62382.418751   5.283333\n",
       "2822   62402.144445  62402.401390   6.166667\n",
       "2825   62405.136112  62405.399306   6.316667\n",
       "2826   62406.133334  62406.397918   6.350000\n",
       "2829   62409.125001  62409.395140   6.483333\n",
       "2831   62411.119445  62411.393751   6.583333\n",
       "2844   62424.084029  62424.382640   7.166667\n",
       "2849   62429.070140  62429.378473   7.400000\n",
       "2851   62431.065279  62431.376390   7.466667\n",
       "2852   62432.062501  62432.375695   7.516667\n",
       "2853   62433.059723  62433.375001   7.566667\n",
       "2856   62436.051390  62436.372918   7.716667\n",
       "2860   62440.040279  62440.370140   7.916667\n",
       "2861   62441.037501  62441.369445   7.966667\n",
       "2862   62442.034723  62442.368751   8.016667\n",
       "2863   62443.031945  62443.368057   8.066667\n",
       "2864   62444.029168  62444.367362   8.116667\n",
       "2866   62446.024307  62446.365973   8.200000\n",
       "2869   62449.015973  62449.364584   8.366667\n",
       "2873   62453.009029  62453.362501   8.483333\n",
       "...             ...           ...        ...\n",
       "3528   63108.211114  63108.422225   5.066667\n",
       "3536   63116.188892  63116.415975   5.450000\n",
       "3548   63128.156253  63128.405559   5.983333\n",
       "3550   63130.150698  63130.404170   6.083333\n",
       "3551   63131.147920  63131.402781   6.116667\n",
       "3564   63144.112503  63144.391670   6.700000\n",
       "3565   63145.109726  63145.390281   6.733333\n",
       "3567   63147.104864  63147.388892   6.816667\n",
       "3569   63149.099309  63149.386809   6.900000\n",
       "3570   63150.096531  63150.386114   6.950000\n",
       "3571   63151.093753  63151.385420   7.000000\n",
       "3581   63161.065976  63161.377087   7.466667\n",
       "3594   63174.030559  63174.367364   8.083333\n",
       "3596   63176.025698  63176.365976   8.166667\n",
       "3599   63179.017365  63179.364587   8.333333\n",
       "3600   63180.014587  63180.363892   8.383333\n",
       "3603   63183.008337  63183.362503   8.500000\n",
       "3604   63184.009031  63184.361809   8.466667\n",
       "3605   63185.009726  63185.361115   8.433333\n",
       "3610   63190.013198  63190.359031   8.300000\n",
       "3613   63193.015281  63193.358337   8.233333\n",
       "3615   63195.016670  63195.357642   8.183333\n",
       "3619   63199.019448  63199.348615   7.900000\n",
       "3624   63204.022920  63204.335420   7.500000\n",
       "3628   63208.025003  63208.324309   7.183333\n",
       "3630   63210.026392  63210.318754   7.016667\n",
       "3639   63219.030559  63219.294448   6.333333\n",
       "3641   63221.031254  63221.288892   6.183333\n",
       "3645   63225.032642  63225.277781   5.883333\n",
       "3646   63226.032642  63226.275004   5.816667\n",
       "\n",
       "[122 rows x 3 columns]"
      ]
     },
     "execution_count": 57,
     "metadata": {},
     "output_type": "execute_result"
    }
   ],
   "source": [
    "nstats.loc[chosen_nights]"
   ]
  },
  {
   "cell_type": "code",
   "execution_count": 73,
   "metadata": {},
   "outputs": [],
   "source": [
    "st_times = op.start_times(nstats, chosen_nights, rng)"
   ]
  },
  {
   "cell_type": "code",
   "execution_count": 74,
   "metadata": {},
   "outputs": [
    {
     "data": {
      "text/plain": [
       "night\n",
       "2750    62330.262845\n",
       "2754    62334.285800\n",
       "2761    62341.224484\n",
       "2762    62342.231525\n",
       "2769    62349.374206\n",
       "2771    62351.299583\n",
       "2773    62353.352148\n",
       "2774    62354.305277\n",
       "2776    62356.236961\n",
       "2782    62362.318353\n",
       "2783    62363.269195\n",
       "2784    62364.317903\n",
       "2786    62366.178518\n",
       "2788    62368.300805\n",
       "2789    62369.235481\n",
       "2790    62370.308400\n",
       "2797    62377.299688\n",
       "2798    62378.206482\n",
       "2799    62379.336701\n",
       "2803    62383.143663\n",
       "2809    62389.078402\n",
       "2813    62393.298796\n",
       "2815    62395.133965\n",
       "2817    62397.096253\n",
       "2823    62403.044254\n",
       "2825    62405.146268\n",
       "2826    62406.233631\n",
       "2829    62409.114390\n",
       "2833    62413.163989\n",
       "2834    62414.016424\n",
       "            ...     \n",
       "3507    63087.257281\n",
       "3509    63089.312829\n",
       "3511    63091.216558\n",
       "3514    63094.148184\n",
       "3516    63096.192805\n",
       "3518    63098.142492\n",
       "3524    63104.353770\n",
       "3528    63108.304794\n",
       "3534    63114.221452\n",
       "3535    63115.092348\n",
       "3540    63120.150118\n",
       "3542    63122.205379\n",
       "3547    63127.272321\n",
       "3548    63128.099445\n",
       "3555    63135.055034\n",
       "3561    63141.028525\n",
       "3564    63144.120908\n",
       "3571    63150.995138\n",
       "3572    63152.006345\n",
       "3588    63168.158714\n",
       "3589    63169.122590\n",
       "3590    63170.147060\n",
       "3591    63171.132523\n",
       "3593    63173.044403\n",
       "3594    63174.009952\n",
       "3595    63175.051604\n",
       "3596    63176.150661\n",
       "3597    63177.016357\n",
       "3598    63178.112627\n",
       "3600    63180.035531\n",
       "Length: 122, dtype: float64"
      ]
     },
     "execution_count": 74,
     "metadata": {},
     "output_type": "execute_result"
    }
   ],
   "source": [
    "st_times"
   ]
  },
  {
   "cell_type": "code",
   "execution_count": 63,
   "metadata": {},
   "outputs": [
    {
     "name": "stderr",
     "output_type": "stream",
     "text": [
      "/Users/rbiswas/soft/LSST3/python/miniconda3-4.3.21/lib/python3.6/site-packages/ipykernel_launcher.py:124: DeprecationWarning: object of type <class 'numpy.float64'> cannot be safely interpreted as an integer.\n"
     ]
    }
   ],
   "source": [
    "v, vl = ObservationPotential.dc2_sequence(st_times.values[0], year_block=2)"
   ]
  },
  {
   "cell_type": "code",
   "execution_count": 64,
   "metadata": {},
   "outputs": [
    {
     "name": "stderr",
     "output_type": "stream",
     "text": [
      "/Users/rbiswas/soft/LSST3/python/miniconda3-4.3.21/lib/python3.6/site-packages/ipykernel_launcher.py:124: DeprecationWarning: object of type <class 'numpy.float64'> cannot be safely interpreted as an integer.\n"
     ]
    }
   ],
   "source": [
    "dc2_visits = ObservationPotential.dc2_visits(st_times, year_block=1, delta=1)"
   ]
  },
  {
   "cell_type": "code",
   "execution_count": 65,
   "metadata": {},
   "outputs": [
    {
     "data": {
      "text/html": [
       "<div>\n",
       "<style scoped>\n",
       "    .dataframe tbody tr th:only-of-type {\n",
       "        vertical-align: middle;\n",
       "    }\n",
       "\n",
       "    .dataframe tbody tr th {\n",
       "        vertical-align: top;\n",
       "    }\n",
       "\n",
       "    .dataframe thead th {\n",
       "        text-align: right;\n",
       "    }\n",
       "</style>\n",
       "<table border=\"1\" class=\"dataframe\">\n",
       "  <thead>\n",
       "    <tr style=\"text-align: right;\">\n",
       "      <th></th>\n",
       "      <th>expMJD</th>\n",
       "      <th>filter</th>\n",
       "      <th>night</th>\n",
       "    </tr>\n",
       "  </thead>\n",
       "  <tbody>\n",
       "    <tr>\n",
       "      <th>0</th>\n",
       "      <td>62139.064613</td>\n",
       "      <td>r</td>\n",
       "      <td>2559.0</td>\n",
       "    </tr>\n",
       "    <tr>\n",
       "      <th>1</th>\n",
       "      <td>62139.065052</td>\n",
       "      <td>r</td>\n",
       "      <td>2559.0</td>\n",
       "    </tr>\n",
       "    <tr>\n",
       "      <th>2</th>\n",
       "      <td>62139.065492</td>\n",
       "      <td>r</td>\n",
       "      <td>2559.0</td>\n",
       "    </tr>\n",
       "    <tr>\n",
       "      <th>3</th>\n",
       "      <td>62139.065932</td>\n",
       "      <td>r</td>\n",
       "      <td>2559.0</td>\n",
       "    </tr>\n",
       "    <tr>\n",
       "      <th>4</th>\n",
       "      <td>62139.066372</td>\n",
       "      <td>r</td>\n",
       "      <td>2559.0</td>\n",
       "    </tr>\n",
       "  </tbody>\n",
       "</table>\n",
       "</div>"
      ],
      "text/plain": [
       "         expMJD filter   night\n",
       "0  62139.064613      r  2559.0\n",
       "1  62139.065052      r  2559.0\n",
       "2  62139.065492      r  2559.0\n",
       "3  62139.065932      r  2559.0\n",
       "4  62139.066372      r  2559.0"
      ]
     },
     "execution_count": 65,
     "metadata": {},
     "output_type": "execute_result"
    }
   ],
   "source": [
    "dc2_visits.head()"
   ]
  },
  {
   "cell_type": "code",
   "execution_count": 66,
   "metadata": {},
   "outputs": [
    {
     "data": {
      "text/plain": [
       "7022"
      ]
     },
     "execution_count": 66,
     "metadata": {},
     "output_type": "execute_result"
    }
   ],
   "source": [
    "baseline_block2.expMJD.size"
   ]
  },
  {
   "cell_type": "code",
   "execution_count": 67,
   "metadata": {},
   "outputs": [
    {
     "data": {
      "text/plain": [
       "10266"
      ]
     },
     "execution_count": 67,
     "metadata": {},
     "output_type": "execute_result"
    }
   ],
   "source": [
    "(dc2_visits.expMJD.size + baseline_block2.query('filter == \"u\"').expMJD.size)"
   ]
  },
  {
   "cell_type": "code",
   "execution_count": 68,
   "metadata": {
    "collapsed": true
   },
   "outputs": [],
   "source": [
    "dc2_visits['fieldRA'] = rauDDF\n",
    "dc2_visits['fieldDec'] = decuDDF"
   ]
  },
  {
   "cell_type": "code",
   "execution_count": 69,
   "metadata": {
    "collapsed": true
   },
   "outputs": [],
   "source": [
    "from lsst.sims.photUtils import BandpassDict\n",
    "import obscond"
   ]
  },
  {
   "cell_type": "code",
   "execution_count": 70,
   "metadata": {
    "collapsed": true
   },
   "outputs": [],
   "source": [
    "dc2_visits['FWHMeff'] = 1.0"
   ]
  },
  {
   "cell_type": "code",
   "execution_count": 71,
   "metadata": {
    "collapsed": true
   },
   "outputs": [],
   "source": [
    "TotbpDict, hwbpDict = BandpassDict.loadBandpassesFromFiles()\n",
    "skycalc = obscond.SkyCalculations(photparams=\"LSST\", hwBandpassDict=hwbpDict)"
   ]
  },
  {
   "cell_type": "code",
   "execution_count": 72,
   "metadata": {
    "collapsed": true
   },
   "outputs": [],
   "source": [
    "from lsst.sims.skybrightness import SkyModel"
   ]
  },
  {
   "cell_type": "code",
   "execution_count": 73,
   "metadata": {},
   "outputs": [
    {
     "data": {
      "text/plain": [
       "fieldRA     0.925184\n",
       "fieldDec     -0.4789\n",
       "expMJD       59580.1\n",
       "Name: 230, dtype: object"
      ]
     },
     "execution_count": 73,
     "metadata": {},
     "output_type": "execute_result"
    }
   ],
   "source": [
    "synopsim.pointings.iloc[0][['fieldRA', 'fieldDec', 'expMJD']]"
   ]
  },
  {
   "cell_type": "code",
   "execution_count": 159,
   "metadata": {
    "collapsed": true
   },
   "outputs": [],
   "source": [
    "sm = SkyModel()"
   ]
  },
  {
   "cell_type": "code",
   "execution_count": 163,
   "metadata": {},
   "outputs": [
    {
     "data": {
      "text/plain": [
       "-0.4904375198104066"
      ]
     },
     "execution_count": 163,
     "metadata": {},
     "output_type": "execute_result"
    }
   ],
   "source": [
    "decuDDF"
   ]
  },
  {
   "cell_type": "code",
   "execution_count": 164,
   "metadata": {},
   "outputs": [
    {
     "data": {
      "text/plain": [
       "0.9272061651219876"
      ]
     },
     "execution_count": 164,
     "metadata": {},
     "output_type": "execute_result"
    }
   ],
   "source": [
    "rauDDF"
   ]
  },
  {
   "cell_type": "code",
   "execution_count": 175,
   "metadata": {},
   "outputs": [
    {
     "data": {
      "text/plain": [
       "expMJD       61044.1\n",
       "filter             r\n",
       "fieldRA     0.927206\n",
       "fieldDec   -0.490438\n",
       "FWHMeff            0\n",
       "Name: 1, dtype: object"
      ]
     },
     "execution_count": 175,
     "metadata": {},
     "output_type": "execute_result"
    }
   ],
   "source": [
    "dc2_visits.iloc[1]"
   ]
  },
  {
   "cell_type": "code",
   "execution_count": null,
   "metadata": {
    "collapsed": true
   },
   "outputs": [],
   "source": []
  },
  {
   "cell_type": "code",
   "execution_count": 84,
   "metadata": {
    "collapsed": true,
    "scrolled": true
   },
   "outputs": [],
   "source": [
    "#sm.setRaDecMjd(lat=-0.4904, lon=0.927, mjd=61137.5)"
   ]
  },
  {
   "cell_type": "code",
   "execution_count": 74,
   "metadata": {
    "collapsed": true
   },
   "outputs": [],
   "source": [
    "dc2_visits.to_csv('dc2_visits_block2')"
   ]
  },
  {
   "cell_type": "code",
   "execution_count": 181,
   "metadata": {},
   "outputs": [
    {
     "data": {
      "text/plain": [
       "{'g': array([22.28796024]),\n",
       " 'i': array([20.37079804]),\n",
       " 'r': array([21.28913692]),\n",
       " 'u': array([22.79937317]),\n",
       " 'y': array([18.58355142]),\n",
       " 'z': array([19.3902523])}"
      ]
     },
     "execution_count": 181,
     "metadata": {},
     "output_type": "execute_result"
    }
   ],
   "source": [
    "sm.returnMags(bandpasses=hwbpDict)"
   ]
  },
  {
   "cell_type": "code",
   "execution_count": 208,
   "metadata": {},
   "outputs": [
    {
     "data": {
      "text/plain": [
       "expMJD       61137.5\n",
       "filter             r\n",
       "fieldRA     0.927206\n",
       "fieldDec   -0.490438\n",
       "FWHMeff            1\n",
       "Name: 1, dtype: object"
      ]
     },
     "execution_count": 208,
     "metadata": {},
     "output_type": "execute_result"
    }
   ],
   "source": [
    "dc2_visits.iloc[293]"
   ]
  },
  {
   "cell_type": "code",
   "execution_count": 102,
   "metadata": {
    "collapsed": true
   },
   "outputs": [],
   "source": [
    "dc2_visits.to_csv('dc2_vists_block1.csv')"
   ]
  },
  {
   "cell_type": "code",
   "execution_count": 85,
   "metadata": {},
   "outputs": [
    {
     "name": "stderr",
     "output_type": "stream",
     "text": [
      "WARNING: ErfaWarning: ERFA function \"taiutc\" yielded 1 of \"dubious year (Note 4)\" [astropy._erfa.core]\n",
      "WARNING: ErfaWarning: ERFA function \"taiutc\" yielded 1 of \"dubious year (Note 4)\" [astropy._erfa.core]\n",
      "WARNING: ErfaWarning: ERFA function \"utcut1\" yielded 1 of \"dubious year (Note 3)\" [astropy._erfa.core]\n"
     ]
    },
    {
     "ename": "ValueError",
     "evalue": "zero-size array to reduction operation maximum which has no identity",
     "output_type": "error",
     "traceback": [
      "\u001b[0;31m---------------------------------------------------------------------------\u001b[0m",
      "\u001b[0;31mValueError\u001b[0m                                Traceback (most recent call last)",
      "\u001b[0;32m<ipython-input-85-2cd87c54b2fe>\u001b[0m in \u001b[0;36m<module>\u001b[0;34m()\u001b[0m\n\u001b[0;32m----> 1\u001b[0;31m \u001b[0mskycalc\u001b[0m\u001b[0;34m.\u001b[0m\u001b[0mcalculatePointings\u001b[0m\u001b[0;34m(\u001b[0m\u001b[0mdc2_visits\u001b[0m\u001b[0;34m.\u001b[0m\u001b[0mhead\u001b[0m\u001b[0;34m(\u001b[0m\u001b[0;36m293\u001b[0m\u001b[0;34m)\u001b[0m\u001b[0;34m,\u001b[0m \u001b[0mcalcDepths\u001b[0m\u001b[0;34m=\u001b[0m\u001b[0;32mFalse\u001b[0m\u001b[0;34m)\u001b[0m\u001b[0;34m\u001b[0m\u001b[0m\n\u001b[0m",
      "\u001b[0;32m~/.local/lib/python3.6/site-packages/obscond/skybrightness.py\u001b[0m in \u001b[0;36mcalculatePointings\u001b[0;34m(self, pointings, raCol, decCol, bandCol, mjdCol, FWHMeffCol, calcSkyMags, calcDepths, calcPointingCoords, calcMoonSun, hwBandPassDict, sm)\u001b[0m\n\u001b[1;32m    140\u001b[0m             sm.setRaDecMjd(lon=ra, lat=dec,\n\u001b[1;32m    141\u001b[0m                            \u001b[0mfilterNames\u001b[0m\u001b[0;34m=\u001b[0m\u001b[0mbandName\u001b[0m\u001b[0;34m,\u001b[0m \u001b[0mmjd\u001b[0m\u001b[0;34m=\u001b[0m\u001b[0mmjd\u001b[0m\u001b[0;34m,\u001b[0m\u001b[0;34m\u001b[0m\u001b[0m\n\u001b[0;32m--> 142\u001b[0;31m                            degrees=False, azAlt=False)\n\u001b[0m\u001b[1;32m    143\u001b[0m             \u001b[0mmydict\u001b[0m \u001b[0;34m=\u001b[0m \u001b[0msm\u001b[0m\u001b[0;34m.\u001b[0m\u001b[0mgetComputedVals\u001b[0m\u001b[0;34m(\u001b[0m\u001b[0;34m)\u001b[0m\u001b[0;34m\u001b[0m\u001b[0m\n\u001b[1;32m    144\u001b[0m             \u001b[0;32mif\u001b[0m \u001b[0mcalcPointingCoords\u001b[0m\u001b[0;34m:\u001b[0m\u001b[0;34m\u001b[0m\u001b[0m\n",
      "\u001b[0;32m~/soft/LSST3/stack/miniconda3-4.3.21-10a4fa6/DarwinX86/sims_skybrightness/2.4.2.sims+1/python/lsst/sims/skybrightness/skyModel.py\u001b[0m in \u001b[0;36msetRaDecMjd\u001b[0;34m(self, lon, lat, mjd, degrees, azAlt, solarFlux, filterNames)\u001b[0m\n\u001b[1;32m    333\u001b[0m \u001b[0;34m\u001b[0m\u001b[0m\n\u001b[1;32m    334\u001b[0m         \u001b[0;31m# Interpolate the templates to the set paramters\u001b[0m\u001b[0;34m\u001b[0m\u001b[0;34m\u001b[0m\u001b[0m\n\u001b[0;32m--> 335\u001b[0;31m         \u001b[0mself\u001b[0m\u001b[0;34m.\u001b[0m\u001b[0m_interpSky\u001b[0m\u001b[0;34m(\u001b[0m\u001b[0;34m)\u001b[0m\u001b[0;34m\u001b[0m\u001b[0m\n\u001b[0m\u001b[1;32m    336\u001b[0m \u001b[0;34m\u001b[0m\u001b[0m\n\u001b[1;32m    337\u001b[0m     def setRaDecAltAzMjd(self, ra, dec, alt, az, mjd, degrees=False, solarFlux=130.,\n",
      "\u001b[0;32m~/soft/LSST3/stack/miniconda3-4.3.21-10a4fa6/DarwinX86/sims_skybrightness/2.4.2.sims+1/python/lsst/sims/skybrightness/skyModel.py\u001b[0m in \u001b[0;36m_interpSky\u001b[0;34m(self)\u001b[0m\n\u001b[1;32m    615\u001b[0m         \u001b[0;32mfor\u001b[0m \u001b[0mkey\u001b[0m \u001b[0;32min\u001b[0m \u001b[0mself\u001b[0m\u001b[0;34m.\u001b[0m\u001b[0mcomponents\u001b[0m\u001b[0;34m:\u001b[0m\u001b[0;34m\u001b[0m\u001b[0m\n\u001b[1;32m    616\u001b[0m             \u001b[0;32mif\u001b[0m \u001b[0mself\u001b[0m\u001b[0;34m.\u001b[0m\u001b[0mcomponents\u001b[0m\u001b[0;34m[\u001b[0m\u001b[0mkey\u001b[0m\u001b[0;34m]\u001b[0m\u001b[0;34m:\u001b[0m\u001b[0;34m\u001b[0m\u001b[0m\n\u001b[0;32m--> 617\u001b[0;31m                 \u001b[0mresult\u001b[0m \u001b[0;34m=\u001b[0m \u001b[0mself\u001b[0m\u001b[0;34m.\u001b[0m\u001b[0minterpObjs\u001b[0m\u001b[0;34m[\u001b[0m\u001b[0mkey\u001b[0m\u001b[0;34m]\u001b[0m\u001b[0;34m(\u001b[0m\u001b[0mself\u001b[0m\u001b[0;34m.\u001b[0m\u001b[0mpoints\u001b[0m\u001b[0;34m[\u001b[0m\u001b[0mself\u001b[0m\u001b[0;34m.\u001b[0m\u001b[0mgoodPix\u001b[0m\u001b[0;34m]\u001b[0m\u001b[0;34m,\u001b[0m \u001b[0mfilterNames\u001b[0m\u001b[0;34m=\u001b[0m\u001b[0mself\u001b[0m\u001b[0;34m.\u001b[0m\u001b[0mfilterNames\u001b[0m\u001b[0;34m)\u001b[0m\u001b[0;34m\u001b[0m\u001b[0m\n\u001b[0m\u001b[1;32m    618\u001b[0m                 \u001b[0;31m# Make sure the component has something\u001b[0m\u001b[0;34m\u001b[0m\u001b[0;34m\u001b[0m\u001b[0m\n\u001b[1;32m    619\u001b[0m                 \u001b[0;32mif\u001b[0m \u001b[0mnp\u001b[0m\u001b[0;34m.\u001b[0m\u001b[0msize\u001b[0m\u001b[0;34m(\u001b[0m\u001b[0mresult\u001b[0m\u001b[0;34m[\u001b[0m\u001b[0;34m'spec'\u001b[0m\u001b[0;34m]\u001b[0m\u001b[0;34m)\u001b[0m \u001b[0;34m==\u001b[0m \u001b[0;36m0\u001b[0m\u001b[0;34m:\u001b[0m\u001b[0;34m\u001b[0m\u001b[0m\n",
      "\u001b[0;32m~/soft/LSST3/stack/miniconda3-4.3.21-10a4fa6/DarwinX86/sims_skybrightness/2.4.2.sims+1/python/lsst/sims/skybrightness/interpComponents.py\u001b[0m in \u001b[0;36m__call__\u001b[0;34m(self, intepPoints, filterNames)\u001b[0m\n\u001b[1;32m    161\u001b[0m             \u001b[0;32mreturn\u001b[0m \u001b[0mself\u001b[0m\u001b[0;34m.\u001b[0m\u001b[0minterpMag\u001b[0m\u001b[0;34m(\u001b[0m\u001b[0mintepPoints\u001b[0m\u001b[0;34m,\u001b[0m \u001b[0mfilterNames\u001b[0m\u001b[0;34m=\u001b[0m\u001b[0mfilterNames\u001b[0m\u001b[0;34m)\u001b[0m\u001b[0;34m\u001b[0m\u001b[0m\n\u001b[1;32m    162\u001b[0m         \u001b[0;32melse\u001b[0m\u001b[0;34m:\u001b[0m\u001b[0;34m\u001b[0m\u001b[0m\n\u001b[0;32m--> 163\u001b[0;31m             \u001b[0;32mreturn\u001b[0m \u001b[0mself\u001b[0m\u001b[0;34m.\u001b[0m\u001b[0minterpSpec\u001b[0m\u001b[0;34m(\u001b[0m\u001b[0mintepPoints\u001b[0m\u001b[0;34m)\u001b[0m\u001b[0;34m\u001b[0m\u001b[0m\n\u001b[0m\u001b[1;32m    164\u001b[0m \u001b[0;34m\u001b[0m\u001b[0m\n\u001b[1;32m    165\u001b[0m     \u001b[0;32mdef\u001b[0m \u001b[0mindxAndWeights\u001b[0m\u001b[0;34m(\u001b[0m\u001b[0mself\u001b[0m\u001b[0;34m,\u001b[0m \u001b[0mpoints\u001b[0m\u001b[0;34m,\u001b[0m \u001b[0mgrid\u001b[0m\u001b[0;34m)\u001b[0m\u001b[0;34m:\u001b[0m\u001b[0;34m\u001b[0m\u001b[0m\n",
      "\u001b[0;32m~/soft/LSST3/stack/miniconda3-4.3.21-10a4fa6/DarwinX86/sims_skybrightness/2.4.2.sims+1/python/lsst/sims/skybrightness/interpComponents.py\u001b[0m in \u001b[0;36minterpSpec\u001b[0;34m(self, interpPoints)\u001b[0m\n\u001b[1;32m    214\u001b[0m \u001b[0;34m\u001b[0m\u001b[0m\n\u001b[1;32m    215\u001b[0m     \u001b[0;32mdef\u001b[0m \u001b[0minterpSpec\u001b[0m\u001b[0;34m(\u001b[0m\u001b[0mself\u001b[0m\u001b[0;34m,\u001b[0m \u001b[0minterpPoints\u001b[0m\u001b[0;34m)\u001b[0m\u001b[0;34m:\u001b[0m\u001b[0;34m\u001b[0m\u001b[0m\n\u001b[0;32m--> 216\u001b[0;31m         \u001b[0mresult\u001b[0m \u001b[0;34m=\u001b[0m \u001b[0mself\u001b[0m\u001b[0;34m.\u001b[0m\u001b[0m_weighting\u001b[0m\u001b[0;34m(\u001b[0m\u001b[0minterpPoints\u001b[0m\u001b[0;34m,\u001b[0m \u001b[0mself\u001b[0m\u001b[0;34m.\u001b[0m\u001b[0mlogSpec\u001b[0m\u001b[0;34m)\u001b[0m\u001b[0;34m\u001b[0m\u001b[0m\n\u001b[0m\u001b[1;32m    217\u001b[0m         \u001b[0mmask\u001b[0m \u001b[0;34m=\u001b[0m \u001b[0mnp\u001b[0m\u001b[0;34m.\u001b[0m\u001b[0mwhere\u001b[0m\u001b[0;34m(\u001b[0m\u001b[0mresult\u001b[0m \u001b[0;34m==\u001b[0m \u001b[0;36m0.\u001b[0m\u001b[0;34m)\u001b[0m\u001b[0;34m\u001b[0m\u001b[0m\n\u001b[1;32m    218\u001b[0m         \u001b[0mresult\u001b[0m \u001b[0;34m=\u001b[0m \u001b[0;36m10.\u001b[0m\u001b[0;34m**\u001b[0m\u001b[0mresult\u001b[0m\u001b[0;34m\u001b[0m\u001b[0m\n",
      "\u001b[0;32m~/soft/LSST3/stack/miniconda3-4.3.21-10a4fa6/DarwinX86/sims_skybrightness/2.4.2.sims+1/python/lsst/sims/skybrightness/interpComponents.py\u001b[0m in \u001b[0;36m_weighting\u001b[0;34m(self, interpPoints, values)\u001b[0m\n\u001b[1;32m    517\u001b[0m \u001b[0;34m\u001b[0m\u001b[0m\n\u001b[1;32m    518\u001b[0m         \u001b[0;31m# Check that moonAltitude is in range, otherwise return zero array\u001b[0m\u001b[0;34m\u001b[0m\u001b[0;34m\u001b[0m\u001b[0m\n\u001b[0;32m--> 519\u001b[0;31m         \u001b[0;32mif\u001b[0m \u001b[0mnp\u001b[0m\u001b[0;34m.\u001b[0m\u001b[0mmax\u001b[0m\u001b[0;34m(\u001b[0m\u001b[0minterpPoints\u001b[0m\u001b[0;34m[\u001b[0m\u001b[0;34m'moonAltitude'\u001b[0m\u001b[0;34m]\u001b[0m\u001b[0;34m)\u001b[0m \u001b[0;34m<\u001b[0m \u001b[0mnp\u001b[0m\u001b[0;34m.\u001b[0m\u001b[0mmin\u001b[0m\u001b[0;34m(\u001b[0m\u001b[0mself\u001b[0m\u001b[0;34m.\u001b[0m\u001b[0mdimDict\u001b[0m\u001b[0;34m[\u001b[0m\u001b[0;34m'moonAltitude'\u001b[0m\u001b[0;34m]\u001b[0m\u001b[0;34m)\u001b[0m\u001b[0;34m:\u001b[0m\u001b[0;34m\u001b[0m\u001b[0m\n\u001b[0m\u001b[1;32m    520\u001b[0m             \u001b[0;32mreturn\u001b[0m \u001b[0mresult\u001b[0m\u001b[0;34m\u001b[0m\u001b[0m\n\u001b[1;32m    521\u001b[0m \u001b[0;34m\u001b[0m\u001b[0m\n",
      "\u001b[0;32m~/soft/LSST3/python/miniconda3-4.3.21/lib/python3.6/site-packages/numpy/core/fromnumeric.py\u001b[0m in \u001b[0;36mamax\u001b[0;34m(a, axis, out, keepdims)\u001b[0m\n\u001b[1;32m   2318\u001b[0m \u001b[0;34m\u001b[0m\u001b[0m\n\u001b[1;32m   2319\u001b[0m     return _methods._amax(a, axis=axis,\n\u001b[0;32m-> 2320\u001b[0;31m                           out=out, **kwargs)\n\u001b[0m\u001b[1;32m   2321\u001b[0m \u001b[0;34m\u001b[0m\u001b[0m\n\u001b[1;32m   2322\u001b[0m \u001b[0;34m\u001b[0m\u001b[0m\n",
      "\u001b[0;32m~/soft/LSST3/python/miniconda3-4.3.21/lib/python3.6/site-packages/numpy/core/_methods.py\u001b[0m in \u001b[0;36m_amax\u001b[0;34m(a, axis, out, keepdims)\u001b[0m\n\u001b[1;32m     24\u001b[0m \u001b[0;31m# small reductions\u001b[0m\u001b[0;34m\u001b[0m\u001b[0;34m\u001b[0m\u001b[0m\n\u001b[1;32m     25\u001b[0m \u001b[0;32mdef\u001b[0m \u001b[0m_amax\u001b[0m\u001b[0;34m(\u001b[0m\u001b[0ma\u001b[0m\u001b[0;34m,\u001b[0m \u001b[0maxis\u001b[0m\u001b[0;34m=\u001b[0m\u001b[0;32mNone\u001b[0m\u001b[0;34m,\u001b[0m \u001b[0mout\u001b[0m\u001b[0;34m=\u001b[0m\u001b[0;32mNone\u001b[0m\u001b[0;34m,\u001b[0m \u001b[0mkeepdims\u001b[0m\u001b[0;34m=\u001b[0m\u001b[0;32mFalse\u001b[0m\u001b[0;34m)\u001b[0m\u001b[0;34m:\u001b[0m\u001b[0;34m\u001b[0m\u001b[0m\n\u001b[0;32m---> 26\u001b[0;31m     \u001b[0;32mreturn\u001b[0m \u001b[0mumr_maximum\u001b[0m\u001b[0;34m(\u001b[0m\u001b[0ma\u001b[0m\u001b[0;34m,\u001b[0m \u001b[0maxis\u001b[0m\u001b[0;34m,\u001b[0m \u001b[0;32mNone\u001b[0m\u001b[0;34m,\u001b[0m \u001b[0mout\u001b[0m\u001b[0;34m,\u001b[0m \u001b[0mkeepdims\u001b[0m\u001b[0;34m)\u001b[0m\u001b[0;34m\u001b[0m\u001b[0m\n\u001b[0m\u001b[1;32m     27\u001b[0m \u001b[0;34m\u001b[0m\u001b[0m\n\u001b[1;32m     28\u001b[0m \u001b[0;32mdef\u001b[0m \u001b[0m_amin\u001b[0m\u001b[0;34m(\u001b[0m\u001b[0ma\u001b[0m\u001b[0;34m,\u001b[0m \u001b[0maxis\u001b[0m\u001b[0;34m=\u001b[0m\u001b[0;32mNone\u001b[0m\u001b[0;34m,\u001b[0m \u001b[0mout\u001b[0m\u001b[0;34m=\u001b[0m\u001b[0;32mNone\u001b[0m\u001b[0;34m,\u001b[0m \u001b[0mkeepdims\u001b[0m\u001b[0;34m=\u001b[0m\u001b[0;32mFalse\u001b[0m\u001b[0;34m)\u001b[0m\u001b[0;34m:\u001b[0m\u001b[0;34m\u001b[0m\u001b[0m\n",
      "\u001b[0;31mValueError\u001b[0m: zero-size array to reduction operation maximum which has no identity"
     ]
    }
   ],
   "source": [
    "skycalc.calculatePointings(dc2_visits.head(293), calcDepths=False)"
   ]
  },
  {
   "cell_type": "code",
   "execution_count": 132,
   "metadata": {
    "collapsed": true
   },
   "outputs": [],
   "source": [
    "from obscond.historicalWeatherData import SeeingFile"
   ]
  },
  {
   "cell_type": "code",
   "execution_count": 143,
   "metadata": {
    "collapsed": true
   },
   "outputs": [],
   "source": [
    "seeing = synopsim.pointings[['expMJD', 'rawSeeing']].sort_values(by='expMJD')"
   ]
  },
  {
   "cell_type": "code",
   "execution_count": 142,
   "metadata": {
    "collapsed": true
   },
   "outputs": [],
   "source": [
    "from scipy.interpolate import interp1d"
   ]
  },
  {
   "cell_type": "code",
   "execution_count": 144,
   "metadata": {
    "collapsed": true
   },
   "outputs": [],
   "source": [
    "rawSeeing = interp1d(seeing.expMJD, seeing.rawSeeing)"
   ]
  },
  {
   "cell_type": "code",
   "execution_count": 149,
   "metadata": {},
   "outputs": [
    {
     "data": {
      "text/plain": [
       "obsHistID\n",
       "235    0.859965\n",
       "236    0.859965\n",
       "237    0.859965\n",
       "238    0.859965\n",
       "239    0.859965\n",
       "Name: rawSeeing, dtype: float64"
      ]
     },
     "execution_count": 149,
     "metadata": {},
     "output_type": "execute_result"
    }
   ],
   "source": [
    "seeing.iloc[5:10]['rawSeeing']"
   ]
  },
  {
   "cell_type": "code",
   "execution_count": 145,
   "metadata": {},
   "outputs": [
    {
     "data": {
      "text/plain": [
       "array([0.859965, 0.859965, 0.859965, 0.859965, 0.859965])"
      ]
     },
     "execution_count": 145,
     "metadata": {},
     "output_type": "execute_result"
    }
   ],
   "source": [
    "rawSeeing(seeing.expMJD.iloc[5:10])"
   ]
  },
  {
   "cell_type": "code",
   "execution_count": 140,
   "metadata": {},
   "outputs": [
    {
     "data": {
      "text/plain": [
       "array([61044.09996707, 61044.10040689, 61044.1008467 , ...,\n",
       "       62132.07094641, 62132.07066533, 62132.07038424])"
      ]
     },
     "execution_count": 140,
     "metadata": {},
     "output_type": "execute_result"
    }
   ],
   "source": [
    "dc2_visits.expMJD.values"
   ]
  },
  {
   "cell_type": "code",
   "execution_count": 116,
   "metadata": {
    "collapsed": true
   },
   "outputs": [],
   "source": [
    "dc2_visits['night'] = np.floor(dc2_visits.expMJD - 59580)"
   ]
  },
  {
   "cell_type": "code",
   "execution_count": 117,
   "metadata": {},
   "outputs": [
    {
     "data": {
      "text/plain": [
       "76"
      ]
     },
     "execution_count": 117,
     "metadata": {},
     "output_type": "execute_result"
    }
   ],
   "source": [
    "dc2_visits"
   ]
  },
  {
   "cell_type": "code",
   "execution_count": 282,
   "metadata": {
    "collapsed": true
   },
   "outputs": [],
   "source": [
    "df = availabletimes.groupby('night').agg(dict(mjd=(min, max, timerange))).reset_index()"
   ]
  },
  {
   "cell_type": "code",
   "execution_count": 285,
   "metadata": {},
   "outputs": [
    {
     "data": {
      "text/plain": [
       "(977, 4)"
      ]
     },
     "execution_count": 285,
     "metadata": {},
     "output_type": "execute_result"
    }
   ],
   "source": [
    "df.values.shape"
   ]
  },
  {
   "cell_type": "code",
   "execution_count": 286,
   "metadata": {
    "collapsed": true
   },
   "outputs": [],
   "source": [
    "df = pd.DataFrame(df.values, columns=('night', 'minmjd', 'maxmjd', 'timerange'))"
   ]
  },
  {
   "cell_type": "code",
   "execution_count": 287,
   "metadata": {},
   "outputs": [
    {
     "name": "stderr",
     "output_type": "stream",
     "text": [
      "/Users/rbiswas/soft/LSST3/python/miniconda3-4.3.21/lib/python3.6/site-packages/ipykernel_launcher.py:1: UserWarning: Pandas doesn't allow columns to be created via a new attribute name - see https://pandas.pydata.org/pandas-docs/stable/indexing.html#attribute-access\n",
      "  \"\"\"Entry point for launching an IPython kernel.\n"
     ]
    }
   ],
   "source": [
    "df.timediff = (df.maxmjd - df.minmjd)* 24"
   ]
  },
  {
   "cell_type": "code",
   "execution_count": 289,
   "metadata": {},
   "outputs": [
    {
     "data": {
      "text/plain": [
       "True"
      ]
     },
     "execution_count": 289,
     "metadata": {},
     "output_type": "execute_result"
    }
   ],
   "source": [
    "all(df.timerange == df.timediff)"
   ]
  },
  {
   "cell_type": "code",
   "execution_count": null,
   "metadata": {
    "collapsed": true
   },
   "outputs": [],
   "source": []
  },
  {
   "cell_type": "markdown",
   "metadata": {},
   "source": [
    "## Methods "
   ]
  },
  {
   "cell_type": "code",
   "execution_count": 88,
   "metadata": {
    "collapsed": true
   },
   "outputs": [],
   "source": [
    "def mintime(series):\n",
    "    return np.remainder(min(series), 1.0) * 24.0"
   ]
  },
  {
   "cell_type": "code",
   "execution_count": null,
   "metadata": {
    "collapsed": true
   },
   "outputs": [],
   "source": [
    "x = dff.groupby('night').aggregate(dict(alt='count')).reset_index()"
   ]
  },
  {
   "cell_type": "markdown",
   "metadata": {},
   "source": [
    "## Baseline Expectations"
   ]
  },
  {
   "cell_type": "code",
   "execution_count": null,
   "metadata": {
    "collapsed": true
   },
   "outputs": [],
   "source": []
  },
  {
   "cell_type": "markdown",
   "metadata": {},
   "source": [
    "# Scratch"
   ]
  },
  {
   "cell_type": "code",
   "execution_count": null,
   "metadata": {
    "collapsed": true
   },
   "outputs": [],
   "source": [
    "1480 + "
   ]
  },
  {
   "cell_type": "code",
   "execution_count": 102,
   "metadata": {},
   "outputs": [
    {
     "data": {
      "text/plain": [
       "4.03231444775151"
      ]
     },
     "execution_count": 102,
     "metadata": {},
     "output_type": "execute_result"
    }
   ],
   "source": [
    "np.degrees(op.sunAlt_singleTime(61040.0))"
   ]
  },
  {
   "cell_type": "code",
   "execution_count": 103,
   "metadata": {},
   "outputs": [
    {
     "data": {
      "text/plain": [
       "<ephem.Observer date='2025/12/31 00:00:00' epoch='2000/1/1 12:00:00' lon='0:00:00.0' lat='-70:44:57.8' elevation=2650.0m horizon=0:00:00.0 temp=15.0C pressure=1010.0mBar>"
      ]
     },
     "execution_count": 103,
     "metadata": {},
     "output_type": "execute_result"
    }
   ],
   "source": [
    "op.obs"
   ]
  },
  {
   "cell_type": "code",
   "execution_count": 104,
   "metadata": {},
   "outputs": [
    {
     "data": {
      "text/plain": [
       "15019.5"
      ]
     },
     "execution_count": 104,
     "metadata": {},
     "output_type": "execute_result"
    }
   ],
   "source": [
    "op.doff"
   ]
  },
  {
   "cell_type": "code",
   "execution_count": 107,
   "metadata": {
    "collapsed": true
   },
   "outputs": [],
   "source": [
    "s = ephem.Sun()"
   ]
  },
  {
   "cell_type": "code",
   "execution_count": 109,
   "metadata": {
    "collapsed": true
   },
   "outputs": [],
   "source": [
    "op.obs.date = 61040. - op.doff"
   ]
  },
  {
   "cell_type": "code",
   "execution_count": null,
   "metadata": {
    "collapsed": true
   },
   "outputs": [],
   "source": [
    "sun.compute(lsstObs)\n",
    "    return sun.alt"
   ]
  },
  {
   "cell_type": "code",
   "execution_count": 110,
   "metadata": {
    "collapsed": true
   },
   "outputs": [],
   "source": [
    "s.compute(op.obs)"
   ]
  },
  {
   "cell_type": "code",
   "execution_count": 111,
   "metadata": {},
   "outputs": [
    {
     "data": {
      "text/plain": [
       "0.0703771635890007"
      ]
     },
     "execution_count": 111,
     "metadata": {},
     "output_type": "execute_result"
    }
   ],
   "source": [
    "s.alt"
   ]
  },
  {
   "cell_type": "code",
   "execution_count": 140,
   "metadata": {},
   "outputs": [
    {
     "data": {
      "text/plain": [
       "-0.03337714821100235"
      ]
     },
     "execution_count": 140,
     "metadata": {},
     "output_type": "execute_result"
    }
   ],
   "source": [
    "op.sunAlt_singleTime(61040.)"
   ]
  },
  {
   "cell_type": "code",
   "execution_count": 113,
   "metadata": {
    "collapsed": true
   },
   "outputs": [],
   "source": [
    "from lsst.sims.utils import Site"
   ]
  },
  {
   "cell_type": "code",
   "execution_count": 114,
   "metadata": {
    "collapsed": true
   },
   "outputs": [],
   "source": [
    "site = Site('LSST')"
   ]
  },
  {
   "cell_type": "code",
   "execution_count": 115,
   "metadata": {
    "collapsed": true
   },
   "outputs": [],
   "source": [
    "import ephem"
   ]
  },
  {
   "cell_type": "code",
   "execution_count": 116,
   "metadata": {
    "collapsed": true
   },
   "outputs": [],
   "source": [
    "sun = ephem.Sun()"
   ]
  },
  {
   "cell_type": "code",
   "execution_count": 117,
   "metadata": {
    "collapsed": true
   },
   "outputs": [],
   "source": [
    "lsstObs = ephem.Observer()\n",
    "lsstObs.lat = np.radians(site.latitude)\n",
    "lsstObs.lon = np.radians(site.longitude)\n",
    "lsstObs.elevation = site.height"
   ]
  },
  {
   "cell_type": "code",
   "execution_count": 118,
   "metadata": {
    "collapsed": true
   },
   "outputs": [],
   "source": [
    "lsstObs.date = 61040 - doff"
   ]
  },
  {
   "cell_type": "code",
   "execution_count": 120,
   "metadata": {
    "collapsed": true
   },
   "outputs": [],
   "source": [
    "sun.compute(lsstObs)"
   ]
  },
  {
   "cell_type": "code",
   "execution_count": 122,
   "metadata": {},
   "outputs": [
    {
     "data": {
      "text/plain": [
       "-0.03337714821100235"
      ]
     },
     "execution_count": 122,
     "metadata": {},
     "output_type": "execute_result"
    }
   ],
   "source": [
    "sun.alt"
   ]
  },
  {
   "cell_type": "code",
   "execution_count": 124,
   "metadata": {},
   "outputs": [
    {
     "data": {
      "text/plain": [
       "-0.527864360290173"
      ]
     },
     "execution_count": 124,
     "metadata": {},
     "output_type": "execute_result"
    }
   ],
   "source": [
    "lsstObs.lat"
   ]
  },
  {
   "cell_type": "code",
   "execution_count": 125,
   "metadata": {},
   "outputs": [
    {
     "data": {
      "text/plain": [
       "-1.234809973810476"
      ]
     },
     "execution_count": 125,
     "metadata": {},
     "output_type": "execute_result"
    }
   ],
   "source": [
    "op.obs.lat"
   ]
  },
  {
   "cell_type": "code",
   "execution_count": 126,
   "metadata": {},
   "outputs": [
    {
     "data": {
      "text/plain": [
       "-1.234809973810476"
      ]
     },
     "execution_count": 126,
     "metadata": {},
     "output_type": "execute_result"
    }
   ],
   "source": [
    "lsstObs.long"
   ]
  },
  {
   "cell_type": "code",
   "execution_count": 127,
   "metadata": {},
   "outputs": [
    {
     "data": {
      "text/plain": [
       "-0.527864360290173"
      ]
     },
     "execution_count": 127,
     "metadata": {},
     "output_type": "execute_result"
    }
   ],
   "source": [
    "lsstObs.lat"
   ]
  },
  {
   "cell_type": "code",
   "execution_count": 265,
   "metadata": {},
   "outputs": [
    {
     "data": {
      "text/plain": [
       "61060"
      ]
     },
     "execution_count": 265,
     "metadata": {},
     "output_type": "execute_result"
    }
   ],
   "source": [
    "1480 + 59580"
   ]
  },
  {
   "cell_type": "code",
   "execution_count": 266,
   "metadata": {},
   "outputs": [
    {
     "data": {
      "text/html": [
       "<div>\n",
       "<style scoped>\n",
       "    .dataframe tbody tr th:only-of-type {\n",
       "        vertical-align: middle;\n",
       "    }\n",
       "\n",
       "    .dataframe tbody tr th {\n",
       "        vertical-align: top;\n",
       "    }\n",
       "\n",
       "    .dataframe thead th {\n",
       "        text-align: right;\n",
       "    }\n",
       "</style>\n",
       "<table border=\"1\" class=\"dataframe\">\n",
       "  <thead>\n",
       "    <tr style=\"text-align: right;\">\n",
       "      <th></th>\n",
       "      <th>alt</th>\n",
       "      <th>az</th>\n",
       "      <th>mjd</th>\n",
       "      <th>moonAlt</th>\n",
       "      <th>moonDec</th>\n",
       "      <th>moonRA</th>\n",
       "      <th>night</th>\n",
       "      <th>sunAlt</th>\n",
       "      <th>moonDist</th>\n",
       "    </tr>\n",
       "  </thead>\n",
       "  <tbody>\n",
       "    <tr>\n",
       "      <th>28800</th>\n",
       "      <td>85.534854</td>\n",
       "      <td>62.409998</td>\n",
       "      <td>61060.000000</td>\n",
       "      <td>6.963303</td>\n",
       "      <td>-18.475540</td>\n",
       "      <td>315.808737</td>\n",
       "      <td>1480</td>\n",
       "      <td>-1.996018</td>\n",
       "      <td>87.551695</td>\n",
       "    </tr>\n",
       "    <tr>\n",
       "      <th>28801</th>\n",
       "      <td>85.725500</td>\n",
       "      <td>60.939025</td>\n",
       "      <td>61060.000695</td>\n",
       "      <td>6.765085</td>\n",
       "      <td>-18.471209</td>\n",
       "      <td>315.817644</td>\n",
       "      <td>1480</td>\n",
       "      <td>-2.132110</td>\n",
       "      <td>87.546388</td>\n",
       "    </tr>\n",
       "    <tr>\n",
       "      <th>28802</th>\n",
       "      <td>85.913325</td>\n",
       "      <td>59.337531</td>\n",
       "      <td>61060.001389</td>\n",
       "      <td>6.567147</td>\n",
       "      <td>-18.466878</td>\n",
       "      <td>315.826565</td>\n",
       "      <td>1480</td>\n",
       "      <td>-2.272920</td>\n",
       "      <td>87.541067</td>\n",
       "    </tr>\n",
       "    <tr>\n",
       "      <th>28803</th>\n",
       "      <td>86.097920</td>\n",
       "      <td>57.589058</td>\n",
       "      <td>61060.002083</td>\n",
       "      <td>6.369501</td>\n",
       "      <td>-18.462548</td>\n",
       "      <td>315.835501</td>\n",
       "      <td>1480</td>\n",
       "      <td>-2.421856</td>\n",
       "      <td>87.535734</td>\n",
       "    </tr>\n",
       "    <tr>\n",
       "      <th>28804</th>\n",
       "      <td>86.278806</td>\n",
       "      <td>55.674881</td>\n",
       "      <td>61060.002778</td>\n",
       "      <td>6.172159</td>\n",
       "      <td>-18.458218</td>\n",
       "      <td>315.844452</td>\n",
       "      <td>1480</td>\n",
       "      <td>-2.584568</td>\n",
       "      <td>87.530388</td>\n",
       "    </tr>\n",
       "    <tr>\n",
       "      <th>28805</th>\n",
       "      <td>86.455411</td>\n",
       "      <td>53.573817</td>\n",
       "      <td>61060.003472</td>\n",
       "      <td>5.975133</td>\n",
       "      <td>-18.453888</td>\n",
       "      <td>315.853418</td>\n",
       "      <td>1480</td>\n",
       "      <td>-2.771692</td>\n",
       "      <td>87.525029</td>\n",
       "    </tr>\n",
       "    <tr>\n",
       "      <th>28806</th>\n",
       "      <td>86.627064</td>\n",
       "      <td>51.262103</td>\n",
       "      <td>61060.004167</td>\n",
       "      <td>5.778438</td>\n",
       "      <td>-18.449559</td>\n",
       "      <td>315.862399</td>\n",
       "      <td>1480</td>\n",
       "      <td>-3.007011</td>\n",
       "      <td>87.519656</td>\n",
       "    </tr>\n",
       "    <tr>\n",
       "      <th>28807</th>\n",
       "      <td>86.792968</td>\n",
       "      <td>48.713439</td>\n",
       "      <td>61060.004861</td>\n",
       "      <td>5.582089</td>\n",
       "      <td>-18.445230</td>\n",
       "      <td>315.871395</td>\n",
       "      <td>1480</td>\n",
       "      <td>-3.358057</td>\n",
       "      <td>87.514271</td>\n",
       "    </tr>\n",
       "    <tr>\n",
       "      <th>28808</th>\n",
       "      <td>86.952183</td>\n",
       "      <td>45.899308</td>\n",
       "      <td>61060.005556</td>\n",
       "      <td>5.386101</td>\n",
       "      <td>-18.440902</td>\n",
       "      <td>315.880405</td>\n",
       "      <td>1480</td>\n",
       "      <td>-3.918340</td>\n",
       "      <td>87.508872</td>\n",
       "    </tr>\n",
       "    <tr>\n",
       "      <th>28809</th>\n",
       "      <td>87.103606</td>\n",
       "      <td>42.789730</td>\n",
       "      <td>61060.006250</td>\n",
       "      <td>5.190495</td>\n",
       "      <td>-18.436574</td>\n",
       "      <td>315.889431</td>\n",
       "      <td>1480</td>\n",
       "      <td>-4.401330</td>\n",
       "      <td>87.503460</td>\n",
       "    </tr>\n",
       "    <tr>\n",
       "      <th>28810</th>\n",
       "      <td>87.245949</td>\n",
       "      <td>39.354704</td>\n",
       "      <td>61060.006945</td>\n",
       "      <td>4.995287</td>\n",
       "      <td>-18.432246</td>\n",
       "      <td>315.898471</td>\n",
       "      <td>1480</td>\n",
       "      <td>-4.758977</td>\n",
       "      <td>87.498036</td>\n",
       "    </tr>\n",
       "    <tr>\n",
       "      <th>28811</th>\n",
       "      <td>87.377733</td>\n",
       "      <td>35.566576</td>\n",
       "      <td>61060.007639</td>\n",
       "      <td>4.800501</td>\n",
       "      <td>-18.427919</td>\n",
       "      <td>315.907526</td>\n",
       "      <td>1480</td>\n",
       "      <td>-5.057864</td>\n",
       "      <td>87.492598</td>\n",
       "    </tr>\n",
       "    <tr>\n",
       "      <th>28812</th>\n",
       "      <td>87.497289</td>\n",
       "      <td>31.403615</td>\n",
       "      <td>61060.008333</td>\n",
       "      <td>4.606159</td>\n",
       "      <td>-18.423592</td>\n",
       "      <td>315.916596</td>\n",
       "      <td>1480</td>\n",
       "      <td>-5.325100</td>\n",
       "      <td>87.487147</td>\n",
       "    </tr>\n",
       "    <tr>\n",
       "      <th>28813</th>\n",
       "      <td>87.602786</td>\n",
       "      <td>26.854880</td>\n",
       "      <td>61060.009028</td>\n",
       "      <td>4.412314</td>\n",
       "      <td>-18.419266</td>\n",
       "      <td>315.925681</td>\n",
       "      <td>1480</td>\n",
       "      <td>-5.572899</td>\n",
       "      <td>87.481683</td>\n",
       "    </tr>\n",
       "    <tr>\n",
       "      <th>28814</th>\n",
       "      <td>87.692295</td>\n",
       "      <td>21.926113</td>\n",
       "      <td>61060.009722</td>\n",
       "      <td>4.218942</td>\n",
       "      <td>-18.414940</td>\n",
       "      <td>315.934781</td>\n",
       "      <td>1480</td>\n",
       "      <td>-5.807654</td>\n",
       "      <td>87.476206</td>\n",
       "    </tr>\n",
       "    <tr>\n",
       "      <th>28815</th>\n",
       "      <td>87.763894</td>\n",
       "      <td>16.645749</td>\n",
       "      <td>61060.010417</td>\n",
       "      <td>4.026099</td>\n",
       "      <td>-18.410615</td>\n",
       "      <td>315.943895</td>\n",
       "      <td>1480</td>\n",
       "      <td>-6.033174</td>\n",
       "      <td>87.470716</td>\n",
       "    </tr>\n",
       "    <tr>\n",
       "      <th>28816</th>\n",
       "      <td>87.815822</td>\n",
       "      <td>11.069358</td>\n",
       "      <td>61060.011111</td>\n",
       "      <td>3.833818</td>\n",
       "      <td>-18.406290</td>\n",
       "      <td>315.953024</td>\n",
       "      <td>1480</td>\n",
       "      <td>-6.251851</td>\n",
       "      <td>87.465212</td>\n",
       "    </tr>\n",
       "    <tr>\n",
       "      <th>28817</th>\n",
       "      <td>87.846653</td>\n",
       "      <td>5.280332</td>\n",
       "      <td>61060.011806</td>\n",
       "      <td>3.642135</td>\n",
       "      <td>-18.401966</td>\n",
       "      <td>315.962168</td>\n",
       "      <td>1480</td>\n",
       "      <td>-6.465292</td>\n",
       "      <td>87.459696</td>\n",
       "    </tr>\n",
       "    <tr>\n",
       "      <th>28818</th>\n",
       "      <td>87.855479</td>\n",
       "      <td>359.385032</td>\n",
       "      <td>61060.012500</td>\n",
       "      <td>3.451090</td>\n",
       "      <td>-18.397642</td>\n",
       "      <td>315.971327</td>\n",
       "      <td>1480</td>\n",
       "      <td>-6.674623</td>\n",
       "      <td>87.454166</td>\n",
       "    </tr>\n",
       "    <tr>\n",
       "      <th>28819</th>\n",
       "      <td>87.842029</td>\n",
       "      <td>353.502277</td>\n",
       "      <td>61060.013195</td>\n",
       "      <td>3.260728</td>\n",
       "      <td>-18.393319</td>\n",
       "      <td>315.980501</td>\n",
       "      <td>1480</td>\n",
       "      <td>-6.880682</td>\n",
       "      <td>87.448624</td>\n",
       "    </tr>\n",
       "    <tr>\n",
       "      <th>28820</th>\n",
       "      <td>87.806712</td>\n",
       "      <td>347.749380</td>\n",
       "      <td>61060.013889</td>\n",
       "      <td>3.071097</td>\n",
       "      <td>-18.388997</td>\n",
       "      <td>315.989689</td>\n",
       "      <td>1480</td>\n",
       "      <td>-7.084012</td>\n",
       "      <td>87.443068</td>\n",
       "    </tr>\n",
       "    <tr>\n",
       "      <th>28821</th>\n",
       "      <td>87.750559</td>\n",
       "      <td>342.228619</td>\n",
       "      <td>61060.014583</td>\n",
       "      <td>2.882252</td>\n",
       "      <td>-18.384675</td>\n",
       "      <td>315.998892</td>\n",
       "      <td>1480</td>\n",
       "      <td>-7.285115</td>\n",
       "      <td>87.437499</td>\n",
       "    </tr>\n",
       "    <tr>\n",
       "      <th>28822</th>\n",
       "      <td>87.675079</td>\n",
       "      <td>337.017794</td>\n",
       "      <td>61060.015278</td>\n",
       "      <td>2.694250</td>\n",
       "      <td>-18.380354</td>\n",
       "      <td>316.008110</td>\n",
       "      <td>1480</td>\n",
       "      <td>-7.484341</td>\n",
       "      <td>87.431917</td>\n",
       "    </tr>\n",
       "    <tr>\n",
       "      <th>28823</th>\n",
       "      <td>87.582082</td>\n",
       "      <td>332.166613</td>\n",
       "      <td>61060.015972</td>\n",
       "      <td>2.507157</td>\n",
       "      <td>-18.376034</td>\n",
       "      <td>316.017342</td>\n",
       "      <td>1480</td>\n",
       "      <td>-7.681968</td>\n",
       "      <td>87.426322</td>\n",
       "    </tr>\n",
       "    <tr>\n",
       "      <th>28824</th>\n",
       "      <td>87.473502</td>\n",
       "      <td>327.698340</td>\n",
       "      <td>61060.016667</td>\n",
       "      <td>2.321043</td>\n",
       "      <td>-18.371714</td>\n",
       "      <td>316.026589</td>\n",
       "      <td>1480</td>\n",
       "      <td>-7.878215</td>\n",
       "      <td>87.420714</td>\n",
       "    </tr>\n",
       "    <tr>\n",
       "      <th>28825</th>\n",
       "      <td>87.351255</td>\n",
       "      <td>323.614733</td>\n",
       "      <td>61060.017361</td>\n",
       "      <td>2.135986</td>\n",
       "      <td>-18.367395</td>\n",
       "      <td>316.035851</td>\n",
       "      <td>1480</td>\n",
       "      <td>-8.073258</td>\n",
       "      <td>87.415093</td>\n",
       "    </tr>\n",
       "    <tr>\n",
       "      <th>28826</th>\n",
       "      <td>87.217142</td>\n",
       "      <td>319.902145</td>\n",
       "      <td>61060.018056</td>\n",
       "      <td>1.952073</td>\n",
       "      <td>-18.363077</td>\n",
       "      <td>316.045128</td>\n",
       "      <td>1480</td>\n",
       "      <td>-8.265527</td>\n",
       "      <td>87.409458</td>\n",
       "    </tr>\n",
       "    <tr>\n",
       "      <th>28827</th>\n",
       "      <td>87.072794</td>\n",
       "      <td>316.537253</td>\n",
       "      <td>61060.018750</td>\n",
       "      <td>1.769396</td>\n",
       "      <td>-18.358760</td>\n",
       "      <td>316.054419</td>\n",
       "      <td>1480</td>\n",
       "      <td>-8.453975</td>\n",
       "      <td>87.403811</td>\n",
       "    </tr>\n",
       "    <tr>\n",
       "      <th>28828</th>\n",
       "      <td>86.919650</td>\n",
       "      <td>313.491665</td>\n",
       "      <td>61060.019445</td>\n",
       "      <td>1.588056</td>\n",
       "      <td>-18.354443</td>\n",
       "      <td>316.063725</td>\n",
       "      <td>1480</td>\n",
       "      <td>-8.642163</td>\n",
       "      <td>87.398150</td>\n",
       "    </tr>\n",
       "    <tr>\n",
       "      <th>28829</th>\n",
       "      <td>86.758957</td>\n",
       "      <td>310.735222</td>\n",
       "      <td>61060.020139</td>\n",
       "      <td>1.408165</td>\n",
       "      <td>-18.350127</td>\n",
       "      <td>316.073045</td>\n",
       "      <td>1480</td>\n",
       "      <td>-8.830087</td>\n",
       "      <td>87.392476</td>\n",
       "    </tr>\n",
       "    <tr>\n",
       "      <th>...</th>\n",
       "      <td>...</td>\n",
       "      <td>...</td>\n",
       "      <td>...</td>\n",
       "      <td>...</td>\n",
       "      <td>...</td>\n",
       "      <td>...</td>\n",
       "      <td>...</td>\n",
       "      <td>...</td>\n",
       "      <td>...</td>\n",
       "    </tr>\n",
       "    <tr>\n",
       "      <th>86370</th>\n",
       "      <td>66.020560</td>\n",
       "      <td>268.238028</td>\n",
       "      <td>61099.979167</td>\n",
       "      <td>18.176843</td>\n",
       "      <td>21.259618</td>\n",
       "      <td>132.715690</td>\n",
       "      <td>1519</td>\n",
       "      <td>-2.171975</td>\n",
       "      <td>91.274991</td>\n",
       "    </tr>\n",
       "    <tr>\n",
       "      <th>86371</th>\n",
       "      <td>65.804106</td>\n",
       "      <td>268.127124</td>\n",
       "      <td>61099.979861</td>\n",
       "      <td>18.340636</td>\n",
       "      <td>21.257314</td>\n",
       "      <td>132.723002</td>\n",
       "      <td>1519</td>\n",
       "      <td>-2.328178</td>\n",
       "      <td>91.279760</td>\n",
       "    </tr>\n",
       "    <tr>\n",
       "      <th>86372</th>\n",
       "      <td>65.587666</td>\n",
       "      <td>268.016990</td>\n",
       "      <td>61099.980556</td>\n",
       "      <td>18.504070</td>\n",
       "      <td>21.255006</td>\n",
       "      <td>132.730301</td>\n",
       "      <td>1519</td>\n",
       "      <td>-2.496380</td>\n",
       "      <td>91.284517</td>\n",
       "    </tr>\n",
       "    <tr>\n",
       "      <th>86373</th>\n",
       "      <td>65.371241</td>\n",
       "      <td>267.907603</td>\n",
       "      <td>61099.981250</td>\n",
       "      <td>18.667143</td>\n",
       "      <td>21.252694</td>\n",
       "      <td>132.737587</td>\n",
       "      <td>1519</td>\n",
       "      <td>-2.686235</td>\n",
       "      <td>91.289261</td>\n",
       "    </tr>\n",
       "    <tr>\n",
       "      <th>86374</th>\n",
       "      <td>65.154830</td>\n",
       "      <td>267.798943</td>\n",
       "      <td>61099.981945</td>\n",
       "      <td>18.829848</td>\n",
       "      <td>21.250377</td>\n",
       "      <td>132.744859</td>\n",
       "      <td>1519</td>\n",
       "      <td>-2.918774</td>\n",
       "      <td>91.293993</td>\n",
       "    </tr>\n",
       "    <tr>\n",
       "      <th>86375</th>\n",
       "      <td>64.938436</td>\n",
       "      <td>267.690989</td>\n",
       "      <td>61099.982639</td>\n",
       "      <td>18.992185</td>\n",
       "      <td>21.248057</td>\n",
       "      <td>132.752118</td>\n",
       "      <td>1519</td>\n",
       "      <td>-3.253734</td>\n",
       "      <td>91.298712</td>\n",
       "    </tr>\n",
       "    <tr>\n",
       "      <th>86376</th>\n",
       "      <td>64.722057</td>\n",
       "      <td>267.583720</td>\n",
       "      <td>61099.983334</td>\n",
       "      <td>19.154150</td>\n",
       "      <td>21.245732</td>\n",
       "      <td>132.759364</td>\n",
       "      <td>1519</td>\n",
       "      <td>-3.830585</td>\n",
       "      <td>91.303419</td>\n",
       "    </tr>\n",
       "    <tr>\n",
       "      <th>86377</th>\n",
       "      <td>64.505696</td>\n",
       "      <td>267.477117</td>\n",
       "      <td>61099.984028</td>\n",
       "      <td>19.315743</td>\n",
       "      <td>21.243403</td>\n",
       "      <td>132.766597</td>\n",
       "      <td>1519</td>\n",
       "      <td>-4.379802</td>\n",
       "      <td>91.308114</td>\n",
       "    </tr>\n",
       "    <tr>\n",
       "      <th>86378</th>\n",
       "      <td>64.289352</td>\n",
       "      <td>267.371161</td>\n",
       "      <td>61099.984722</td>\n",
       "      <td>19.476955</td>\n",
       "      <td>21.241070</td>\n",
       "      <td>132.773817</td>\n",
       "      <td>1519</td>\n",
       "      <td>-4.773385</td>\n",
       "      <td>91.312796</td>\n",
       "    </tr>\n",
       "    <tr>\n",
       "      <th>86379</th>\n",
       "      <td>64.073027</td>\n",
       "      <td>267.265834</td>\n",
       "      <td>61099.985417</td>\n",
       "      <td>19.637788</td>\n",
       "      <td>21.238732</td>\n",
       "      <td>132.781024</td>\n",
       "      <td>1519</td>\n",
       "      <td>-5.097827</td>\n",
       "      <td>91.317466</td>\n",
       "    </tr>\n",
       "    <tr>\n",
       "      <th>86380</th>\n",
       "      <td>63.856720</td>\n",
       "      <td>267.161119</td>\n",
       "      <td>61099.986111</td>\n",
       "      <td>19.798236</td>\n",
       "      <td>21.236391</td>\n",
       "      <td>132.788218</td>\n",
       "      <td>1519</td>\n",
       "      <td>-5.386912</td>\n",
       "      <td>91.322124</td>\n",
       "    </tr>\n",
       "    <tr>\n",
       "      <th>86381</th>\n",
       "      <td>63.640434</td>\n",
       "      <td>267.056999</td>\n",
       "      <td>61099.986806</td>\n",
       "      <td>19.958298</td>\n",
       "      <td>21.234045</td>\n",
       "      <td>132.795399</td>\n",
       "      <td>1519</td>\n",
       "      <td>-5.654870</td>\n",
       "      <td>91.326770</td>\n",
       "    </tr>\n",
       "    <tr>\n",
       "      <th>86382</th>\n",
       "      <td>63.424167</td>\n",
       "      <td>266.953457</td>\n",
       "      <td>61099.987500</td>\n",
       "      <td>20.117969</td>\n",
       "      <td>21.231695</td>\n",
       "      <td>132.802567</td>\n",
       "      <td>1519</td>\n",
       "      <td>-5.909080</td>\n",
       "      <td>91.331403</td>\n",
       "    </tr>\n",
       "    <tr>\n",
       "      <th>86383</th>\n",
       "      <td>63.207921</td>\n",
       "      <td>266.850477</td>\n",
       "      <td>61099.988195</td>\n",
       "      <td>20.277245</td>\n",
       "      <td>21.229340</td>\n",
       "      <td>132.809722</td>\n",
       "      <td>1519</td>\n",
       "      <td>-6.153714</td>\n",
       "      <td>91.336024</td>\n",
       "    </tr>\n",
       "    <tr>\n",
       "      <th>86384</th>\n",
       "      <td>62.991696</td>\n",
       "      <td>266.748043</td>\n",
       "      <td>61099.988889</td>\n",
       "      <td>20.436127</td>\n",
       "      <td>21.226981</td>\n",
       "      <td>132.816865</td>\n",
       "      <td>1519</td>\n",
       "      <td>-6.391383</td>\n",
       "      <td>91.340633</td>\n",
       "    </tr>\n",
       "    <tr>\n",
       "      <th>86385</th>\n",
       "      <td>62.775494</td>\n",
       "      <td>266.646141</td>\n",
       "      <td>61099.989584</td>\n",
       "      <td>20.594610</td>\n",
       "      <td>21.224618</td>\n",
       "      <td>132.823995</td>\n",
       "      <td>1519</td>\n",
       "      <td>-6.623815</td>\n",
       "      <td>91.345230</td>\n",
       "    </tr>\n",
       "    <tr>\n",
       "      <th>86386</th>\n",
       "      <td>62.559313</td>\n",
       "      <td>266.544756</td>\n",
       "      <td>61099.990278</td>\n",
       "      <td>20.752690</td>\n",
       "      <td>21.222250</td>\n",
       "      <td>132.831112</td>\n",
       "      <td>1519</td>\n",
       "      <td>-6.852234</td>\n",
       "      <td>91.349815</td>\n",
       "    </tr>\n",
       "    <tr>\n",
       "      <th>86387</th>\n",
       "      <td>62.343156</td>\n",
       "      <td>266.443874</td>\n",
       "      <td>61099.990972</td>\n",
       "      <td>20.910363</td>\n",
       "      <td>21.219878</td>\n",
       "      <td>132.838216</td>\n",
       "      <td>1519</td>\n",
       "      <td>-7.077429</td>\n",
       "      <td>91.354387</td>\n",
       "    </tr>\n",
       "    <tr>\n",
       "      <th>86388</th>\n",
       "      <td>62.127023</td>\n",
       "      <td>266.343482</td>\n",
       "      <td>61099.991667</td>\n",
       "      <td>21.067626</td>\n",
       "      <td>21.217502</td>\n",
       "      <td>132.845308</td>\n",
       "      <td>1519</td>\n",
       "      <td>-7.300079</td>\n",
       "      <td>91.358948</td>\n",
       "    </tr>\n",
       "    <tr>\n",
       "      <th>86389</th>\n",
       "      <td>61.910913</td>\n",
       "      <td>266.243565</td>\n",
       "      <td>61099.992361</td>\n",
       "      <td>21.224478</td>\n",
       "      <td>21.215121</td>\n",
       "      <td>132.852387</td>\n",
       "      <td>1519</td>\n",
       "      <td>-7.520656</td>\n",
       "      <td>91.363496</td>\n",
       "    </tr>\n",
       "    <tr>\n",
       "      <th>86390</th>\n",
       "      <td>61.694828</td>\n",
       "      <td>266.144112</td>\n",
       "      <td>61099.993056</td>\n",
       "      <td>21.380915</td>\n",
       "      <td>21.212735</td>\n",
       "      <td>132.859454</td>\n",
       "      <td>1519</td>\n",
       "      <td>-7.739520</td>\n",
       "      <td>91.368032</td>\n",
       "    </tr>\n",
       "    <tr>\n",
       "      <th>86391</th>\n",
       "      <td>61.478769</td>\n",
       "      <td>266.045109</td>\n",
       "      <td>61099.993750</td>\n",
       "      <td>21.536934</td>\n",
       "      <td>21.210346</td>\n",
       "      <td>132.866509</td>\n",
       "      <td>1519</td>\n",
       "      <td>-7.956956</td>\n",
       "      <td>91.372557</td>\n",
       "    </tr>\n",
       "    <tr>\n",
       "      <th>86392</th>\n",
       "      <td>61.262735</td>\n",
       "      <td>265.946544</td>\n",
       "      <td>61099.994445</td>\n",
       "      <td>21.692529</td>\n",
       "      <td>21.207951</td>\n",
       "      <td>132.873550</td>\n",
       "      <td>1519</td>\n",
       "      <td>-8.173184</td>\n",
       "      <td>91.377069</td>\n",
       "    </tr>\n",
       "    <tr>\n",
       "      <th>86393</th>\n",
       "      <td>61.046727</td>\n",
       "      <td>265.848406</td>\n",
       "      <td>61099.995139</td>\n",
       "      <td>21.847699</td>\n",
       "      <td>21.205553</td>\n",
       "      <td>132.880580</td>\n",
       "      <td>1519</td>\n",
       "      <td>-8.383717</td>\n",
       "      <td>91.381570</td>\n",
       "    </tr>\n",
       "    <tr>\n",
       "      <th>86394</th>\n",
       "      <td>60.830747</td>\n",
       "      <td>265.750683</td>\n",
       "      <td>61099.995834</td>\n",
       "      <td>22.002442</td>\n",
       "      <td>21.203149</td>\n",
       "      <td>132.887597</td>\n",
       "      <td>1519</td>\n",
       "      <td>-8.593374</td>\n",
       "      <td>91.386059</td>\n",
       "    </tr>\n",
       "    <tr>\n",
       "      <th>86395</th>\n",
       "      <td>60.614793</td>\n",
       "      <td>265.653365</td>\n",
       "      <td>61099.996528</td>\n",
       "      <td>22.156751</td>\n",
       "      <td>21.200742</td>\n",
       "      <td>132.894602</td>\n",
       "      <td>1519</td>\n",
       "      <td>-8.802909</td>\n",
       "      <td>91.390536</td>\n",
       "    </tr>\n",
       "    <tr>\n",
       "      <th>86396</th>\n",
       "      <td>60.398868</td>\n",
       "      <td>265.556439</td>\n",
       "      <td>61099.997222</td>\n",
       "      <td>22.310627</td>\n",
       "      <td>21.198329</td>\n",
       "      <td>132.901595</td>\n",
       "      <td>1519</td>\n",
       "      <td>-9.012319</td>\n",
       "      <td>91.395001</td>\n",
       "    </tr>\n",
       "    <tr>\n",
       "      <th>86397</th>\n",
       "      <td>60.182970</td>\n",
       "      <td>265.459895</td>\n",
       "      <td>61099.997917</td>\n",
       "      <td>22.464064</td>\n",
       "      <td>21.195913</td>\n",
       "      <td>132.908575</td>\n",
       "      <td>1519</td>\n",
       "      <td>-9.221603</td>\n",
       "      <td>91.399454</td>\n",
       "    </tr>\n",
       "    <tr>\n",
       "      <th>86398</th>\n",
       "      <td>59.967102</td>\n",
       "      <td>265.363724</td>\n",
       "      <td>61099.998611</td>\n",
       "      <td>22.617058</td>\n",
       "      <td>21.193491</td>\n",
       "      <td>132.915544</td>\n",
       "      <td>1519</td>\n",
       "      <td>-9.430761</td>\n",
       "      <td>91.403895</td>\n",
       "    </tr>\n",
       "    <tr>\n",
       "      <th>86399</th>\n",
       "      <td>59.751263</td>\n",
       "      <td>265.267916</td>\n",
       "      <td>61099.999306</td>\n",
       "      <td>22.769607</td>\n",
       "      <td>21.191065</td>\n",
       "      <td>132.922500</td>\n",
       "      <td>1519</td>\n",
       "      <td>-9.639789</td>\n",
       "      <td>91.408325</td>\n",
       "    </tr>\n",
       "  </tbody>\n",
       "</table>\n",
       "<p>57600 rows × 9 columns</p>\n",
       "</div>"
      ],
      "text/plain": [
       "             alt          az           mjd    moonAlt    moonDec      moonRA  \\\n",
       "28800  85.534854   62.409998  61060.000000   6.963303 -18.475540  315.808737   \n",
       "28801  85.725500   60.939025  61060.000695   6.765085 -18.471209  315.817644   \n",
       "28802  85.913325   59.337531  61060.001389   6.567147 -18.466878  315.826565   \n",
       "28803  86.097920   57.589058  61060.002083   6.369501 -18.462548  315.835501   \n",
       "28804  86.278806   55.674881  61060.002778   6.172159 -18.458218  315.844452   \n",
       "28805  86.455411   53.573817  61060.003472   5.975133 -18.453888  315.853418   \n",
       "28806  86.627064   51.262103  61060.004167   5.778438 -18.449559  315.862399   \n",
       "28807  86.792968   48.713439  61060.004861   5.582089 -18.445230  315.871395   \n",
       "28808  86.952183   45.899308  61060.005556   5.386101 -18.440902  315.880405   \n",
       "28809  87.103606   42.789730  61060.006250   5.190495 -18.436574  315.889431   \n",
       "28810  87.245949   39.354704  61060.006945   4.995287 -18.432246  315.898471   \n",
       "28811  87.377733   35.566576  61060.007639   4.800501 -18.427919  315.907526   \n",
       "28812  87.497289   31.403615  61060.008333   4.606159 -18.423592  315.916596   \n",
       "28813  87.602786   26.854880  61060.009028   4.412314 -18.419266  315.925681   \n",
       "28814  87.692295   21.926113  61060.009722   4.218942 -18.414940  315.934781   \n",
       "28815  87.763894   16.645749  61060.010417   4.026099 -18.410615  315.943895   \n",
       "28816  87.815822   11.069358  61060.011111   3.833818 -18.406290  315.953024   \n",
       "28817  87.846653    5.280332  61060.011806   3.642135 -18.401966  315.962168   \n",
       "28818  87.855479  359.385032  61060.012500   3.451090 -18.397642  315.971327   \n",
       "28819  87.842029  353.502277  61060.013195   3.260728 -18.393319  315.980501   \n",
       "28820  87.806712  347.749380  61060.013889   3.071097 -18.388997  315.989689   \n",
       "28821  87.750559  342.228619  61060.014583   2.882252 -18.384675  315.998892   \n",
       "28822  87.675079  337.017794  61060.015278   2.694250 -18.380354  316.008110   \n",
       "28823  87.582082  332.166613  61060.015972   2.507157 -18.376034  316.017342   \n",
       "28824  87.473502  327.698340  61060.016667   2.321043 -18.371714  316.026589   \n",
       "28825  87.351255  323.614733  61060.017361   2.135986 -18.367395  316.035851   \n",
       "28826  87.217142  319.902145  61060.018056   1.952073 -18.363077  316.045128   \n",
       "28827  87.072794  316.537253  61060.018750   1.769396 -18.358760  316.054419   \n",
       "28828  86.919650  313.491665  61060.019445   1.588056 -18.354443  316.063725   \n",
       "28829  86.758957  310.735222  61060.020139   1.408165 -18.350127  316.073045   \n",
       "...          ...         ...           ...        ...        ...         ...   \n",
       "86370  66.020560  268.238028  61099.979167  18.176843  21.259618  132.715690   \n",
       "86371  65.804106  268.127124  61099.979861  18.340636  21.257314  132.723002   \n",
       "86372  65.587666  268.016990  61099.980556  18.504070  21.255006  132.730301   \n",
       "86373  65.371241  267.907603  61099.981250  18.667143  21.252694  132.737587   \n",
       "86374  65.154830  267.798943  61099.981945  18.829848  21.250377  132.744859   \n",
       "86375  64.938436  267.690989  61099.982639  18.992185  21.248057  132.752118   \n",
       "86376  64.722057  267.583720  61099.983334  19.154150  21.245732  132.759364   \n",
       "86377  64.505696  267.477117  61099.984028  19.315743  21.243403  132.766597   \n",
       "86378  64.289352  267.371161  61099.984722  19.476955  21.241070  132.773817   \n",
       "86379  64.073027  267.265834  61099.985417  19.637788  21.238732  132.781024   \n",
       "86380  63.856720  267.161119  61099.986111  19.798236  21.236391  132.788218   \n",
       "86381  63.640434  267.056999  61099.986806  19.958298  21.234045  132.795399   \n",
       "86382  63.424167  266.953457  61099.987500  20.117969  21.231695  132.802567   \n",
       "86383  63.207921  266.850477  61099.988195  20.277245  21.229340  132.809722   \n",
       "86384  62.991696  266.748043  61099.988889  20.436127  21.226981  132.816865   \n",
       "86385  62.775494  266.646141  61099.989584  20.594610  21.224618  132.823995   \n",
       "86386  62.559313  266.544756  61099.990278  20.752690  21.222250  132.831112   \n",
       "86387  62.343156  266.443874  61099.990972  20.910363  21.219878  132.838216   \n",
       "86388  62.127023  266.343482  61099.991667  21.067626  21.217502  132.845308   \n",
       "86389  61.910913  266.243565  61099.992361  21.224478  21.215121  132.852387   \n",
       "86390  61.694828  266.144112  61099.993056  21.380915  21.212735  132.859454   \n",
       "86391  61.478769  266.045109  61099.993750  21.536934  21.210346  132.866509   \n",
       "86392  61.262735  265.946544  61099.994445  21.692529  21.207951  132.873550   \n",
       "86393  61.046727  265.848406  61099.995139  21.847699  21.205553  132.880580   \n",
       "86394  60.830747  265.750683  61099.995834  22.002442  21.203149  132.887597   \n",
       "86395  60.614793  265.653365  61099.996528  22.156751  21.200742  132.894602   \n",
       "86396  60.398868  265.556439  61099.997222  22.310627  21.198329  132.901595   \n",
       "86397  60.182970  265.459895  61099.997917  22.464064  21.195913  132.908575   \n",
       "86398  59.967102  265.363724  61099.998611  22.617058  21.193491  132.915544   \n",
       "86399  59.751263  265.267916  61099.999306  22.769607  21.191065  132.922500   \n",
       "\n",
       "       night    sunAlt   moonDist  \n",
       "28800   1480 -1.996018  87.551695  \n",
       "28801   1480 -2.132110  87.546388  \n",
       "28802   1480 -2.272920  87.541067  \n",
       "28803   1480 -2.421856  87.535734  \n",
       "28804   1480 -2.584568  87.530388  \n",
       "28805   1480 -2.771692  87.525029  \n",
       "28806   1480 -3.007011  87.519656  \n",
       "28807   1480 -3.358057  87.514271  \n",
       "28808   1480 -3.918340  87.508872  \n",
       "28809   1480 -4.401330  87.503460  \n",
       "28810   1480 -4.758977  87.498036  \n",
       "28811   1480 -5.057864  87.492598  \n",
       "28812   1480 -5.325100  87.487147  \n",
       "28813   1480 -5.572899  87.481683  \n",
       "28814   1480 -5.807654  87.476206  \n",
       "28815   1480 -6.033174  87.470716  \n",
       "28816   1480 -6.251851  87.465212  \n",
       "28817   1480 -6.465292  87.459696  \n",
       "28818   1480 -6.674623  87.454166  \n",
       "28819   1480 -6.880682  87.448624  \n",
       "28820   1480 -7.084012  87.443068  \n",
       "28821   1480 -7.285115  87.437499  \n",
       "28822   1480 -7.484341  87.431917  \n",
       "28823   1480 -7.681968  87.426322  \n",
       "28824   1480 -7.878215  87.420714  \n",
       "28825   1480 -8.073258  87.415093  \n",
       "28826   1480 -8.265527  87.409458  \n",
       "28827   1480 -8.453975  87.403811  \n",
       "28828   1480 -8.642163  87.398150  \n",
       "28829   1480 -8.830087  87.392476  \n",
       "...      ...       ...        ...  \n",
       "86370   1519 -2.171975  91.274991  \n",
       "86371   1519 -2.328178  91.279760  \n",
       "86372   1519 -2.496380  91.284517  \n",
       "86373   1519 -2.686235  91.289261  \n",
       "86374   1519 -2.918774  91.293993  \n",
       "86375   1519 -3.253734  91.298712  \n",
       "86376   1519 -3.830585  91.303419  \n",
       "86377   1519 -4.379802  91.308114  \n",
       "86378   1519 -4.773385  91.312796  \n",
       "86379   1519 -5.097827  91.317466  \n",
       "86380   1519 -5.386912  91.322124  \n",
       "86381   1519 -5.654870  91.326770  \n",
       "86382   1519 -5.909080  91.331403  \n",
       "86383   1519 -6.153714  91.336024  \n",
       "86384   1519 -6.391383  91.340633  \n",
       "86385   1519 -6.623815  91.345230  \n",
       "86386   1519 -6.852234  91.349815  \n",
       "86387   1519 -7.077429  91.354387  \n",
       "86388   1519 -7.300079  91.358948  \n",
       "86389   1519 -7.520656  91.363496  \n",
       "86390   1519 -7.739520  91.368032  \n",
       "86391   1519 -7.956956  91.372557  \n",
       "86392   1519 -8.173184  91.377069  \n",
       "86393   1519 -8.383717  91.381570  \n",
       "86394   1519 -8.593374  91.386059  \n",
       "86395   1519 -8.802909  91.390536  \n",
       "86396   1519 -9.012319  91.395001  \n",
       "86397   1519 -9.221603  91.399454  \n",
       "86398   1519 -9.430761  91.403895  \n",
       "86399   1519 -9.639789  91.408325  \n",
       "\n",
       "[57600 rows x 9 columns]"
      ]
     },
     "execution_count": 266,
     "metadata": {},
     "output_type": "execute_result"
    }
   ],
   "source": [
    "opdf.query('night > 1479 and night < 1520')"
   ]
  },
  {
   "cell_type": "code",
   "execution_count": 211,
   "metadata": {},
   "outputs": [
    {
     "data": {
      "text/plain": [
       "<matplotlib.axes._subplots.AxesSubplot at 0x115c8e9e8>"
      ]
     },
     "execution_count": 211,
     "metadata": {},
     "output_type": "execute_result"
    },
    {
     "data": {
      "image/png": "[encoded data removed]",
      "text/plain": [
       "<matplotlib.figure.Figure at 0x115c965f8>"
      ]
     },
     "metadata": {},
     "output_type": "display_data"
    }
   ],
   "source": [
    "synopsim.pointings.airmass.hist()"
   ]
  },
  {
   "cell_type": "code",
   "execution_count": null,
   "metadata": {
    "collapsed": true
   },
   "outputs": [],
   "source": []
  }
 ],
 "metadata": {
  "anaconda-cloud": {},
  "kernelspec": {
   "display_name": "Python 3",
   "language": "python",
   "name": "python3"
  },
  "language_info": {
   "codemirror_mode": {
    "name": "ipython",
    "version": 3
   },
   "file_extension": ".py",
   "mimetype": "text/x-python",
   "name": "python",
   "nbconvert_exporter": "python",
   "pygments_lexer": "ipython3",
   "version": "3.6.6"
  }
 },
 "nbformat": 4,
 "nbformat_minor": 2
}
